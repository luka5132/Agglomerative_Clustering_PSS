{
  "nbformat": 4,
  "nbformat_minor": 0,
  "metadata": {
    "colab": {
      "provenance": []
    },
    "kernelspec": {
      "name": "python3",
      "display_name": "Python 3"
    },
    "language_info": {
      "name": "python"
    }
  },
  "cells": [
    {
      "cell_type": "markdown",
      "source": [
        "# Notebook with explorative data analysis\n",
        "See github: https://github.com/luka5132/Agglomerative_Clustering_PSS\n",
        "\n",
        "**Looks into:**\n",
        "\n",
        "1.   The effect that the *entry problem* has on clustering with finetuned representations\n",
        "2.   An in depth look at classificiation results and the effect of viewing K as given\n",
        "3.   Analysis of hypothesis: that is looking at the distance between VGG representations of pages form the same documents and pages from another document\n",
        "\n",
        "4.   Testing the preformance of using text vectors as well as combing them using either early or late fusion\n",
        "\n",
        "5.   Trying to find buzzwords that indicate if a next page belongs to the same document, only look at FP mistakes\n",
        "\n",
        "6.   Evaluating the effect of predicting K with variety of K multipliers\n",
        "\n",
        "7.   Looking at the scale of values in representational vectors for different modalities and finetuned vs pretrained\n",
        "\n",
        "\n",
        "First the predictions are calculated (done more in depth in main notebook)"
      ],
      "metadata": {
        "id": "z6v1396fVxSg"
      }
    },
    {
      "cell_type": "markdown",
      "source": [
        "## Loading in data"
      ],
      "metadata": {
        "id": "QZ_8Huy_4fuP"
      }
    },
    {
      "cell_type": "code",
      "execution_count": null,
      "metadata": {
        "colab": {
          "base_uri": "https://localhost:8080/"
        },
        "id": "xkWB-myb4DKk",
        "outputId": "fea83ef4-74f6-4230-8ed9-558a541f6b29"
      },
      "outputs": [
        {
          "output_type": "stream",
          "name": "stdout",
          "text": [
            "Mounted at /content/gdrive\n"
          ]
        }
      ],
      "source": [
        "from google.colab import drive\n",
        "drive.mount('/content/gdrive')\n",
        "\n",
        "from metricutils import *\n",
        "from utils import *"
      ]
    },
    {
      "cell_type": "code",
      "source": [
        "import json\n",
        "import pandas as pd\n",
        "import numpy as np\n",
        "\n",
        "test_text_finetuned_vectors = np.load('/content/gdrive/MyDrive/master_thesis/new_corpus/test/text/finetuned/vectors.npy')\n",
        "new_image_vectors = np.load('/content/gdrive/MyDrive/master_thesis/new_corpus/vectors.npy')\n",
        "vector_dict_path = '/content/gdrive/MyDrive/master_thesis/new_corpus/test/vector_dict.json'\n",
        "test_data_path = '/content/gdrive/MyDrive/master_thesis/new_corpus/test/data_removed.csv'\n",
        "\n",
        "self_corp1_image = '/content/gdrive/MyDrive/master_thesis/new_corpus/image_vectors'\n",
        "\n",
        "\n",
        "with open(vector_dict_path) as j_obj:\n",
        "  vector_dict = json.load(j_obj)\n",
        "  j_obj.close()\n",
        "\n",
        "test_data = pd.read_csv(test_data_path)"
      ],
      "metadata": {
        "id": "63pYBGIi8RVv"
      },
      "execution_count": null,
      "outputs": []
    },
    {
      "cell_type": "code",
      "source": [
        "gold_std_dict = {}\n",
        "\n",
        "for doc_id,content in test_data.groupby('name'):\n",
        "    repl_doc_id = doc_id.replace('__concatenated','')\n",
        "    content = content.sort_values(by='page')\n",
        "    gold_std = content['label'].values\n",
        "    gold_std_dict[repl_doc_id] = gold_std"
      ],
      "metadata": {
        "id": "pZhDEh9UfWQk"
      },
      "execution_count": null,
      "outputs": []
    },
    {
      "cell_type": "markdown",
      "source": [
        "## Classification result"
      ],
      "metadata": {
        "id": "wG6IVCb9LwTd"
      }
    },
    {
      "cell_type": "markdown",
      "source": [
        "#### Image"
      ],
      "metadata": {
        "id": "Cler1eyqXTuv"
      }
    },
    {
      "cell_type": "code",
      "source": [
        "from tensorflow.keras.models import load_model, Model\n",
        "image_model = load_model('/content/gdrive/MyDrive/master_thesis/new_corpus/image')\n",
        "\n",
        "#select only top end of model as we already have the vectors precomputed\n",
        "layer_name = 'dense'\n",
        "from_vector_model= Model(inputs=image_model.get_layer(layer_name).output, outputs=image_model.output)\n",
        "from_vector_model.summary()"
      ],
      "metadata": {
        "colab": {
          "base_uri": "https://localhost:8080/"
        },
        "outputId": "f4d6c9d0-f90c-48f3-e803-459252774368",
        "id": "QtGfbWEdjQkc"
      },
      "execution_count": null,
      "outputs": [
        {
          "output_type": "stream",
          "name": "stderr",
          "text": [
            "WARNING:tensorflow:SavedModel saved prior to TF 2.5 detected when loading Keras model. Please ensure that you are saving the model with model.save() or tf.keras.models.save_model(), *NOT* tf.saved_model.save(). To confirm, there should be a file named \"keras_metadata.pb\" in the SavedModel directory.\n"
          ]
        },
        {
          "output_type": "stream",
          "name": "stdout",
          "text": [
            "Model: \"model\"\n",
            "_________________________________________________________________\n",
            " Layer (type)                Output Shape              Param #   \n",
            "=================================================================\n",
            " input_1 (InputLayer)        [(None, 512)]             0         \n",
            "                                                                 \n",
            " leaky_re_lu (LeakyReLU)     (None, 512)               0         \n",
            "                                                                 \n",
            " dropout_1 (Dropout)         (None, 512)               0         \n",
            "                                                                 \n",
            " dense_1 (Dense)             (None, 256)               131328    \n",
            "                                                                 \n",
            " leaky_re_lu_1 (LeakyReLU)   (None, 256)               0         \n",
            "                                                                 \n",
            " dense_2 (Dense)             (None, 1)                 257       \n",
            "                                                                 \n",
            "=================================================================\n",
            "Total params: 131,585\n",
            "Trainable params: 131,585\n",
            "Non-trainable params: 0\n",
            "_________________________________________________________________\n"
          ]
        }
      ]
    },
    {
      "cell_type": "code",
      "source": [
        "from tqdm import tqdm\n",
        "import os\n",
        "prediction_json_corp2 = {}\n",
        "gold_std_dict = {}\n",
        "\n",
        "not_found = []\n",
        "vector_path = '/content/gdrive/MyDrive/master_thesis/new_corpus/image_vectors'\n",
        "for doc_id,content in tqdm(test_data.groupby('name')):\n",
        "    repl_doc_id = doc_id.replace('__concatenated','')\n",
        "    content = content.sort_values(by='page')\n",
        "    gold_std = content['label'].values\n",
        "    gold_std_dict[repl_doc_id] = gold_std\n",
        "    n_docs = len(gold_std)\n",
        "    n_pages = sum(gold_std)\n",
        "    stream_path = os.path.join(vector_path,repl_doc_id + '.npy')\n",
        "    \n",
        "    if os.path.exists(stream_path):\n",
        "      stream_vectors = np.load(stream_path)\n",
        "      preds_new =from_vector_model.predict(stream_vectors)\n",
        "      prediction_json_corp2[repl_doc_id] = preds_new\n",
        "    else:\n",
        "      not_found.append(repl_doc_id)\n"
      ],
      "metadata": {
        "colab": {
          "base_uri": "https://localhost:8080/"
        },
        "outputId": "1573502a-f99c-4d9a-bd3c-fac7f0016c17",
        "id": "zB24RkRljQke"
      },
      "execution_count": null,
      "outputs": [
        {
          "output_type": "stream",
          "name": "stderr",
          "text": [
            "\r  0%|          | 0/32 [00:00<?, ?it/s]"
          ]
        },
        {
          "output_type": "stream",
          "name": "stdout",
          "text": [
            "2/2 [==============================] - 0s 6ms/step\n"
          ]
        },
        {
          "output_type": "stream",
          "name": "stderr",
          "text": [
            "\r  3%|▎         | 1/32 [00:00<00:30,  1.03it/s]"
          ]
        },
        {
          "output_type": "stream",
          "name": "stdout",
          "text": [
            "2/2 [==============================] - 0s 12ms/step\n"
          ]
        },
        {
          "output_type": "stream",
          "name": "stderr",
          "text": [
            "\r  6%|▋         | 2/32 [00:01<00:22,  1.36it/s]"
          ]
        },
        {
          "output_type": "stream",
          "name": "stdout",
          "text": [
            "2/2 [==============================] - 0s 9ms/step\n"
          ]
        },
        {
          "output_type": "stream",
          "name": "stderr",
          "text": [
            "\r  9%|▉         | 3/32 [00:02<00:18,  1.60it/s]"
          ]
        },
        {
          "output_type": "stream",
          "name": "stdout",
          "text": [
            "3/3 [==============================] - 0s 6ms/step\n"
          ]
        },
        {
          "output_type": "stream",
          "name": "stderr",
          "text": [
            "\r 12%|█▎        | 4/32 [00:02<00:17,  1.63it/s]"
          ]
        },
        {
          "output_type": "stream",
          "name": "stdout",
          "text": [
            "3/3 [==============================] - 0s 10ms/step\n"
          ]
        },
        {
          "output_type": "stream",
          "name": "stderr",
          "text": [
            "\r 16%|█▌        | 5/32 [00:02<00:13,  1.93it/s]"
          ]
        },
        {
          "output_type": "stream",
          "name": "stdout",
          "text": [
            "2/2 [==============================] - 0s 8ms/step\n"
          ]
        },
        {
          "output_type": "stream",
          "name": "stderr",
          "text": [
            "\r 19%|█▉        | 6/32 [00:03<00:13,  1.93it/s]"
          ]
        },
        {
          "output_type": "stream",
          "name": "stdout",
          "text": [
            "3/3 [==============================] - 0s 6ms/step\n"
          ]
        },
        {
          "output_type": "stream",
          "name": "stderr",
          "text": [
            "\r 22%|██▏       | 7/32 [00:04<00:13,  1.86it/s]"
          ]
        },
        {
          "output_type": "stream",
          "name": "stdout",
          "text": [
            "12/12 [==============================] - 0s 4ms/step\n"
          ]
        },
        {
          "output_type": "stream",
          "name": "stderr",
          "text": [
            "\r 25%|██▌       | 8/32 [00:04<00:12,  1.87it/s]"
          ]
        },
        {
          "output_type": "stream",
          "name": "stdout",
          "text": [
            "2/2 [==============================] - 0s 13ms/step\n"
          ]
        },
        {
          "output_type": "stream",
          "name": "stderr",
          "text": [
            "\r 28%|██▊       | 9/32 [00:05<00:12,  1.87it/s]"
          ]
        },
        {
          "output_type": "stream",
          "name": "stdout",
          "text": [
            "4/4 [==============================] - 0s 6ms/step\n"
          ]
        },
        {
          "output_type": "stream",
          "name": "stderr",
          "text": [
            "\r 31%|███▏      | 10/32 [00:05<00:10,  2.05it/s]"
          ]
        },
        {
          "output_type": "stream",
          "name": "stdout",
          "text": [
            "63/63 [==============================] - 0s 4ms/step\n"
          ]
        },
        {
          "output_type": "stream",
          "name": "stderr",
          "text": [
            "\r 34%|███▍      | 11/32 [00:06<00:12,  1.66it/s]"
          ]
        },
        {
          "output_type": "stream",
          "name": "stdout",
          "text": [
            "20/20 [==============================] - 0s 3ms/step\n"
          ]
        },
        {
          "output_type": "stream",
          "name": "stderr",
          "text": [
            "\r 38%|███▊      | 12/32 [00:06<00:10,  1.83it/s]"
          ]
        },
        {
          "output_type": "stream",
          "name": "stdout",
          "text": [
            "15/15 [==============================] - 0s 3ms/step\n"
          ]
        },
        {
          "output_type": "stream",
          "name": "stderr",
          "text": [
            "\r 41%|████      | 13/32 [00:07<00:09,  2.07it/s]"
          ]
        },
        {
          "output_type": "stream",
          "name": "stdout",
          "text": [
            "2/2 [==============================] - 0s 10ms/step\n"
          ]
        },
        {
          "output_type": "stream",
          "name": "stderr",
          "text": [
            "\r 44%|████▍     | 14/32 [00:07<00:08,  2.12it/s]"
          ]
        },
        {
          "output_type": "stream",
          "name": "stdout",
          "text": [
            "17/17 [==============================] - 0s 3ms/step\n"
          ]
        },
        {
          "output_type": "stream",
          "name": "stderr",
          "text": [
            "\r 47%|████▋     | 15/32 [00:08<00:07,  2.19it/s]"
          ]
        },
        {
          "output_type": "stream",
          "name": "stdout",
          "text": [
            "35/35 [==============================] - 0s 3ms/step\n"
          ]
        },
        {
          "output_type": "stream",
          "name": "stderr",
          "text": [
            "\r 50%|█████     | 16/32 [00:08<00:08,  1.94it/s]"
          ]
        },
        {
          "output_type": "stream",
          "name": "stdout",
          "text": [
            "163/163 [==============================] - 1s 6ms/step\n"
          ]
        },
        {
          "output_type": "stream",
          "name": "stderr",
          "text": [
            "\r 53%|█████▎    | 17/32 [00:10<00:15,  1.06s/it]"
          ]
        },
        {
          "output_type": "stream",
          "name": "stdout",
          "text": [
            "1/1 [==============================] - 0s 29ms/step\n"
          ]
        },
        {
          "output_type": "stream",
          "name": "stderr",
          "text": [
            "\r 56%|█████▋    | 18/32 [00:11<00:11,  1.18it/s]"
          ]
        },
        {
          "output_type": "stream",
          "name": "stdout",
          "text": [
            "7/7 [==============================] - 0s 6ms/step\n"
          ]
        },
        {
          "output_type": "stream",
          "name": "stderr",
          "text": [
            "\r 59%|█████▉    | 19/32 [00:12<00:10,  1.25it/s]"
          ]
        },
        {
          "output_type": "stream",
          "name": "stdout",
          "text": [
            "6/6 [==============================] - 0s 5ms/step\n"
          ]
        },
        {
          "output_type": "stream",
          "name": "stderr",
          "text": [
            "\r 62%|██████▎   | 20/32 [00:12<00:08,  1.46it/s]"
          ]
        },
        {
          "output_type": "stream",
          "name": "stdout",
          "text": [
            "13/13 [==============================] - 0s 6ms/step\n"
          ]
        },
        {
          "output_type": "stream",
          "name": "stderr",
          "text": [
            "\r 66%|██████▌   | 21/32 [00:13<00:07,  1.46it/s]"
          ]
        },
        {
          "output_type": "stream",
          "name": "stdout",
          "text": [
            "43/43 [==============================] - 0s 6ms/step\n"
          ]
        },
        {
          "output_type": "stream",
          "name": "stderr",
          "text": [
            "\r 69%|██████▉   | 22/32 [00:14<00:08,  1.24it/s]"
          ]
        },
        {
          "output_type": "stream",
          "name": "stdout",
          "text": [
            "17/17 [==============================] - 0s 5ms/step\n"
          ]
        },
        {
          "output_type": "stream",
          "name": "stderr",
          "text": [
            "\r 72%|███████▏  | 23/32 [00:14<00:06,  1.40it/s]"
          ]
        },
        {
          "output_type": "stream",
          "name": "stdout",
          "text": [
            "3/3 [==============================] - 0s 7ms/step\n"
          ]
        },
        {
          "output_type": "stream",
          "name": "stderr",
          "text": [
            "\r 75%|███████▌  | 24/32 [00:15<00:05,  1.57it/s]"
          ]
        },
        {
          "output_type": "stream",
          "name": "stdout",
          "text": [
            "13/13 [==============================] - 0s 8ms/step\n"
          ]
        },
        {
          "output_type": "stream",
          "name": "stderr",
          "text": [
            "\r 78%|███████▊  | 25/32 [00:15<00:04,  1.67it/s]"
          ]
        },
        {
          "output_type": "stream",
          "name": "stdout",
          "text": [
            "10/10 [==============================] - 0s 5ms/step\n"
          ]
        },
        {
          "output_type": "stream",
          "name": "stderr",
          "text": [
            "\r 81%|████████▏ | 26/32 [00:16<00:03,  1.68it/s]"
          ]
        },
        {
          "output_type": "stream",
          "name": "stdout",
          "text": [
            "37/37 [==============================] - 0s 7ms/step\n"
          ]
        },
        {
          "output_type": "stream",
          "name": "stderr",
          "text": [
            "\r 84%|████████▍ | 27/32 [00:17<00:03,  1.49it/s]"
          ]
        },
        {
          "output_type": "stream",
          "name": "stdout",
          "text": [
            "78/78 [==============================] - 1s 6ms/step\n"
          ]
        },
        {
          "output_type": "stream",
          "name": "stderr",
          "text": [
            "\r 88%|████████▊ | 28/32 [00:18<00:03,  1.24it/s]"
          ]
        },
        {
          "output_type": "stream",
          "name": "stdout",
          "text": [
            "63/63 [==============================] - 0s 7ms/step\n"
          ]
        },
        {
          "output_type": "stream",
          "name": "stderr",
          "text": [
            "\r 91%|█████████ | 29/32 [00:19<00:02,  1.17it/s]"
          ]
        },
        {
          "output_type": "stream",
          "name": "stdout",
          "text": [
            "84/84 [==============================] - 1s 6ms/step\n"
          ]
        },
        {
          "output_type": "stream",
          "name": "stderr",
          "text": [
            "\r 94%|█████████▍| 30/32 [00:20<00:01,  1.06it/s]"
          ]
        },
        {
          "output_type": "stream",
          "name": "stdout",
          "text": [
            "75/75 [==============================] - 0s 5ms/step\n"
          ]
        },
        {
          "output_type": "stream",
          "name": "stderr",
          "text": [
            "\r 97%|█████████▋| 31/32 [00:21<00:00,  1.01it/s]"
          ]
        },
        {
          "output_type": "stream",
          "name": "stdout",
          "text": [
            "3/3 [==============================] - 0s 14ms/step\n"
          ]
        },
        {
          "output_type": "stream",
          "name": "stderr",
          "text": [
            "100%|██████████| 32/32 [00:22<00:00,  1.45it/s]\n"
          ]
        }
      ]
    },
    {
      "cell_type": "code",
      "source": [
        "def set_first_value1(results):\n",
        "  results[0] = 1\n",
        "  return results"
      ],
      "metadata": {
        "id": "mcayWfvGjQkg"
      },
      "execution_count": null,
      "outputs": []
    },
    {
      "cell_type": "code",
      "source": [
        "# Get labels by simply rounding the prediction score (normal method)\n",
        "prediction_normal_corp2 ={id: np.round(vals.flatten()) for id,vals in prediction_json_corp2.items()}\n",
        "#set to different threshold, other corpus showed that t-0.3 yields the highest results\n",
        "prediction_normal_corp2_t ={id: round_threshold(vals.flatten(), 0.3) for id,vals in prediction_json_corp2.items()}\n",
        "\n",
        "# Select N (number of docs) highest prediction scores (topN classification method)\n",
        "# Also always make the first page 1 since that also happens for clustering automatically\n",
        "prediction_topn_corp2 ={id: set_first_value1(vals.flatten()) for id,vals in prediction_json_corp2.items()}\n",
        "prediction_topn_corp2 ={id: select_topn(vals,sum(gold_std_dict[id])) for id,vals in prediction_topn_corp2.items()}\n",
        "# Get prediction scores\n",
        "prediction_json_features = {id: list(np.round(vals.flatten(),3)) for id,vals in prediction_json_corp2.items()}\n",
        "\n",
        "gold_std_dict = {id: vals for id,vals in gold_std_dict.items() if id in prediction_normal_corp2}"
      ],
      "metadata": {
        "id": "SPOxN9njjQkg"
      },
      "execution_count": null,
      "outputs": []
    },
    {
      "cell_type": "markdown",
      "source": [
        "#### Text"
      ],
      "metadata": {
        "id": "vISV_0I5XVKR"
      }
    },
    {
      "cell_type": "code",
      "source": [
        "from tqdm import tqdm\n",
        "import os\n",
        "prediction_json_corp2_text = {}\n",
        "\n",
        "not_found = []\n",
        "vector_path = '/content/gdrive/MyDrive/master_thesis/new_corpus/text_predictions'\n",
        "for doc_id,content in tqdm(test_data.groupby('name')):\n",
        "    repl_doc_id = doc_id.replace('__concatenated','')\n",
        "    content = content.sort_values(by='page')\n",
        "    gold_std = content['label'].values\n",
        "    gold_std_dict[repl_doc_id] = gold_std\n",
        "    n_docs = len(gold_std)\n",
        "    n_pages = sum(gold_std)\n",
        "    stream_path = os.path.join(vector_path,repl_doc_id + '.npy')\n",
        "    \n",
        "    if os.path.exists(stream_path):\n",
        "      preds = np.load(stream_path)\n",
        "      prediction_json_corp2_text[repl_doc_id] = preds\n",
        "    else:\n",
        "      not_found.append(repl_doc_id)\n"
      ],
      "metadata": {
        "colab": {
          "base_uri": "https://localhost:8080/"
        },
        "id": "YnHT6FOKH65Y",
        "outputId": "2db3b68d-f744-4acd-fdbf-131a98c26fe6"
      },
      "execution_count": null,
      "outputs": [
        {
          "output_type": "stream",
          "name": "stderr",
          "text": [
            "100%|██████████| 32/32 [00:10<00:00,  3.17it/s]\n"
          ]
        }
      ]
    },
    {
      "cell_type": "code",
      "source": [
        "def set_first_value1(results):\n",
        "  results[0] = 1\n",
        "  return results"
      ],
      "metadata": {
        "id": "Cot1IWqxILCH"
      },
      "execution_count": null,
      "outputs": []
    },
    {
      "cell_type": "code",
      "source": [
        "# Get labels by simply rounding the prediction score (normal method)\n",
        "prediction_normal_text_corp2 ={id: np.round(vals.flatten()) for id,vals in prediction_json_corp2_text.items()}\n",
        "#set to different threshold, other corpus showed that t-0.3 yields the highest results\n",
        "prediction_normal_text_corp2_t ={id: round_threshold(vals.flatten(), 0.3) for id,vals in prediction_json_corp2_text.items()}\n",
        "\n",
        "# Select N (number of docs) highest prediction scores (topN classification method)\n",
        "# Also always make the first page 1 since that also happens for clustering automatically\n",
        "prediction_topn_text_corp2 ={id: set_first_value1(vals.flatten()) for id,vals in prediction_json_corp2_text.items()}\n",
        "prediction_topn_text_corp2 ={id: select_topn(vals,sum(gold_std_dict[id])) for id,vals in prediction_topn_text_corp2.items()}\n",
        "# Get prediction scores\n",
        "prediction_json_features_text = {id: list(np.round(vals.flatten(),3)) for id,vals in prediction_json_corp2_text.items()}\n",
        "\n",
        "gold_std_dict = {id: vals for id,vals in gold_std_dict.items() if id in prediction_json_corp2_text}"
      ],
      "metadata": {
        "id": "c2liq88vILCK"
      },
      "execution_count": null,
      "outputs": []
    },
    {
      "cell_type": "markdown",
      "source": [
        "## Clustering results"
      ],
      "metadata": {
        "id": "BsftngNT8we5"
      }
    },
    {
      "cell_type": "code",
      "source": [
        "gold_std_dict = {}\n",
        "\n",
        "for doc_id,content in test_data.groupby('name'):\n",
        "    repl_doc_id = doc_id.replace('__concatenated','')\n",
        "    content = content.sort_values(by='page')\n",
        "    gold_std = content['label'].values\n",
        "    gold_std_dict[repl_doc_id] = gold_std"
      ],
      "metadata": {
        "id": "jBlVBuOOTP6z"
      },
      "execution_count": null,
      "outputs": []
    },
    {
      "cell_type": "code",
      "source": [
        "from tqdm import tqdm\n",
        "used_corpus = test_data\n",
        "text_vectors_used = test_text_finetuned_vectors\n",
        "image_vectors_used = new_image_vectors\n",
        "vector_dict_used = vector_dict\n",
        "\n",
        "prediction_json_im_noswitch_corp2 = {}\n",
        "prediction_json_im_switch_corp2 = {}\n",
        "prediction_json_im_switch_start_corp2 = {}\n",
        "\n",
        "dist_lists_noswitch_corp2 ={}\n",
        "dist_lists_switch_corp2 ={}\n",
        "dist_lists_switch_start_corp2 ={}\n",
        "\n",
        "vector_path = '/content/gdrive/MyDrive/master_thesis/new_corpus/image_vectors'\n",
        "for doc_id, content in tqdm(used_corpus.groupby('name')):\n",
        "  repl_doc_id = doc_id.replace('__concatenated','')\n",
        "  corpus = content['corpus'].iloc[0]\n",
        "\n",
        "  #text_vectors, labels = get_vectors_for_stream(used_corpus,doc_id,vector_dict_used,text_vectors_used)\n",
        "  if not os.path.exists(os.path.join(vector_path,repl_doc_id + '.npy')):\n",
        "    continue\n",
        "  image_vectors = np.load(os.path.join(vector_path,repl_doc_id + '.npy'))\n",
        "  labels = gold_std_dict[repl_doc_id]\n",
        "\n",
        "  n_pages = len(labels)\n",
        "  n_docs = sum(labels)\n",
        "\n",
        "  if n_pages > 1:\n",
        "    ## Using switch\n",
        "    dist_list_switch, preds_switch = cluster_with_switch(labels,image_vectors, False, True)\n",
        "    dist_list_switch_start, preds_switch_start = cluster_with_switch(labels,image_vectors, labels_bin = True)\n",
        "\n",
        "    prediction_json_im_switch_corp2[repl_doc_id] = preds_switch\n",
        "    dist_lists_switch_corp2[repl_doc_id] = dist_list_switch\n",
        "\n",
        "    prediction_json_im_switch_start_corp2[repl_doc_id] = preds_switch_start\n",
        "    dist_lists_switch_start_corp2[repl_doc_id] = dist_list_switch_start\n",
        "\n",
        "\n",
        "    ## Not using switch\n",
        "    dist_list = []\n",
        "    c_mat = page_con_matrix(n_pages)\n",
        "    for i in range(len(image_vectors)-1):\n",
        "      current_vector = image_vectors[i]\n",
        "      next_vector = image_vectors[i+1]\n",
        "      dist = distance.cosine(current_vector, next_vector)\n",
        "      dist_list.append(dist)\n",
        "    dist_list = np.array(dist_list)\n",
        "    if len(dist_list) >1:\n",
        "      dist_list_norm = (dist_list - np.min(dist_list)) / (np.max(dist_list) - np.min(dist_list))\n",
        "      nth_highest = np.sort(dist_list_norm)[-n_docs]\n",
        "    else:\n",
        "      dist_list_norm = dist_list\n",
        "\n",
        "    \n",
        "    dist_lists_noswitch_corp2[repl_doc_id] = dist_list_norm\n",
        "\n",
        "    if n_pages >1:\n",
        "      cluster = AgglomerativeClustering(n_clusters=n_docs, affinity='cosine', linkage='average',compute_distances = True, connectivity = c_mat)  \n",
        "      image_predictions = cluster.fit_predict(image_vectors) \n",
        "\n",
        "\n",
        "      prediction_json_im_noswitch_corp2[repl_doc_id] = length_list_to_bin(groups_to_lengths(image_predictions))"
      ],
      "metadata": {
        "colab": {
          "base_uri": "https://localhost:8080/"
        },
        "outputId": "0ca24e45-57ff-40e6-8abc-770841ad3e68",
        "id": "vyJip8zA8v1x"
      },
      "execution_count": null,
      "outputs": [
        {
          "output_type": "stream",
          "name": "stderr",
          "text": [
            "100%|██████████| 32/32 [01:08<00:00,  2.14s/it]\n"
          ]
        }
      ]
    },
    {
      "cell_type": "markdown",
      "source": [
        "#### Text\n"
      ],
      "metadata": {
        "id": "VOc7o1qlXue0"
      }
    },
    {
      "cell_type": "code",
      "source": [
        "from tqdm import tqdm\n",
        "used_corpus = test_data\n",
        "text_vectors_used = test_text_finetuned_vectors\n",
        "image_vectors_used = new_image_vectors\n",
        "vector_dict_used = vector_dict\n",
        "\n",
        "prediction_json_text_noswitch_corp2 = {}\n",
        "prediction_json_text_switch_corp2 = {}\n",
        "prediction_json_text_switch_start_corp2 = {}\n",
        "\n",
        "dist_lists_text_noswitch_corp2 ={}\n",
        "dist_lists_text_switch_corp2 ={}\n",
        "dist_lists_text_switch_start_corp2 ={}\n",
        "\n",
        "vector_path = '/content/gdrive/MyDrive/master_thesis/new_corpus/text_vectors_finetuned'\n",
        "for doc_id, content in tqdm(used_corpus.groupby('name')):\n",
        "  if doc_id == 'stream_41' or doc_id == 'stream_61':\n",
        "    continue\n",
        "  repl_doc_id = doc_id.replace('__concatenated','')\n",
        "  corpus = content['corpus'].iloc[0]\n",
        "\n",
        "  #text_vectors, labels = get_vectors_for_stream(used_corpus,doc_id,vector_dict_used,text_vectors_used)\n",
        "  if not os.path.exists(os.path.join(vector_path,repl_doc_id + '.npy')):\n",
        "    continue\n",
        "  text_vectors = np.load(os.path.join(vector_path,repl_doc_id + '.npy'))\n",
        "  labels = gold_std_dict[repl_doc_id]\n",
        "\n",
        "  n_pages = len(labels)\n",
        "  n_docs = sum(labels)\n",
        "\n",
        "  if n_pages > 1:\n",
        "    ## Using switch\n",
        "    dist_list_switch, preds_switch = cluster_with_switch(labels,text_vectors, False, True)\n",
        "    dist_list_switch_start, preds_switch_start = cluster_with_switch(labels,text_vectors, labels_bin = True)\n",
        "\n",
        "    prediction_json_text_switch_corp2[repl_doc_id] = preds_switch\n",
        "    dist_lists_text_switch_corp2[repl_doc_id] = dist_list_switch\n",
        "\n",
        "    prediction_json_text_switch_start_corp2[repl_doc_id] = preds_switch_start\n",
        "    dist_lists_text_switch_start_corp2[repl_doc_id] = dist_list_switch_start\n",
        "\n",
        "\n",
        "    ## Not using switch\n",
        "    dist_list = []\n",
        "    c_mat = page_con_matrix(n_pages)\n",
        "    for i in range(len(text_vectors)-1):\n",
        "      current_vector = text_vectors[i]\n",
        "      next_vector = text_vectors[i+1]\n",
        "      dist = distance.cosine(current_vector, next_vector)\n",
        "      dist_list.append(dist)\n",
        "    dist_list = np.array(dist_list)\n",
        "    if len(dist_list) >1:\n",
        "      dist_list_norm = (dist_list - np.min(dist_list)) / (np.max(dist_list) - np.min(dist_list))\n",
        "      nth_highest = np.sort(dist_list_norm)[-n_docs]\n",
        "    else:\n",
        "      dist_list_norm = dist_list\n",
        "\n",
        "    \n",
        "    dist_lists_text_noswitch_corp2[repl_doc_id] = dist_list_norm\n",
        "\n",
        "    if n_pages >1:\n",
        "      cluster = AgglomerativeClustering(n_clusters=n_docs, affinity='cosine', linkage='average',compute_distances = True, connectivity = c_mat)  \n",
        "      image_predictions = cluster.fit_predict(text_vectors) \n",
        "\n",
        "\n",
        "      prediction_json_text_noswitch_corp2[repl_doc_id] = length_list_to_bin(groups_to_lengths(image_predictions))"
      ],
      "metadata": {
        "colab": {
          "base_uri": "https://localhost:8080/"
        },
        "id": "BRzwczQy8Vll",
        "outputId": "940909e9-de70-4017-8747-24e9ac1f3750"
      },
      "execution_count": null,
      "outputs": [
        {
          "output_type": "stream",
          "name": "stderr",
          "text": [
            "100%|██████████| 32/32 [00:47<00:00,  1.48s/it]\n"
          ]
        }
      ]
    },
    {
      "cell_type": "code",
      "source": [
        "\n",
        "min2 = True\n",
        "if min2:\n",
        "  prediction_json_text_noswitch_corp2 = {stream : preds for stream,preds in prediction_json_text_noswitch_corp2.items() if sum(gold_std_dict[stream]) > 1}\n",
        "  prediction_json_text_switch_corp2= {stream : preds for stream,preds in prediction_json_text_switch_corp2.items() if sum(gold_std_dict[stream]) > 1}\n",
        "  prediction_json_text_switch_start_corp2= {stream : preds for stream,preds in prediction_json_text_switch_start_corp2.items() if sum(gold_std_dict[stream]) > 1}\n",
        "  gold_std_dict = {id: vals for id,vals in gold_std_dict.items() if id in prediction_json_text_noswitch_corp2 }"
      ],
      "metadata": {
        "id": "zqSKh4hD8lr4"
      },
      "execution_count": null,
      "outputs": []
    },
    {
      "cell_type": "code",
      "source": [
        "noswitch_scores_corp2 = calculate_mean_scores(gold_std_dict,prediction_json_text_noswitch_corp2)\n",
        "switch_scores_corp2 = calculate_mean_scores(gold_std_dict,prediction_json_text_switch_corp2)\n",
        "switch_start_scores_corp2 = calculate_mean_scores(gold_std_dict,prediction_json_text_switch_start_corp2)\n",
        "noswitch_scores_corp2"
      ],
      "metadata": {
        "colab": {
          "base_uri": "https://localhost:8080/",
          "height": 206
        },
        "outputId": "3d453b16-2e18-46f2-e090-ba188d683f71",
        "id": "vNrjYWSj8lr5"
      },
      "execution_count": null,
      "outputs": [
        {
          "output_type": "execute_result",
          "data": {
            "text/plain": [
              "                precision  recall    F1  support CI Precision  CI Recall  \\\n",
              "Boundary             0.54    0.54  0.54     6525    0.53-0.55  0.53-0.55   \n",
              "Bcubed               0.75    0.78  0.68     6525    0.74-0.76  0.77-0.79   \n",
              "WindowDiff           0.46    0.46  0.46     6525    0.45-0.47  0.45-0.47   \n",
              "Block                0.11    0.11  0.11     6525     0.1-0.12   0.1-0.12   \n",
              "Weighted Block       0.28    0.28  0.28     6525    0.27-0.29  0.27-0.29   \n",
              "\n",
              "                    CI F1  \n",
              "Boundary        0.53-0.55  \n",
              "Bcubed          0.67-0.69  \n",
              "WindowDiff      0.45-0.47  \n",
              "Block            0.1-0.12  \n",
              "Weighted Block  0.27-0.29  "
            ],
            "text/html": [
              "\n",
              "  <div id=\"df-bbf22235-d813-4725-b9d1-acd104f8084c\">\n",
              "    <div class=\"colab-df-container\">\n",
              "      <div>\n",
              "<style scoped>\n",
              "    .dataframe tbody tr th:only-of-type {\n",
              "        vertical-align: middle;\n",
              "    }\n",
              "\n",
              "    .dataframe tbody tr th {\n",
              "        vertical-align: top;\n",
              "    }\n",
              "\n",
              "    .dataframe thead th {\n",
              "        text-align: right;\n",
              "    }\n",
              "</style>\n",
              "<table border=\"1\" class=\"dataframe\">\n",
              "  <thead>\n",
              "    <tr style=\"text-align: right;\">\n",
              "      <th></th>\n",
              "      <th>precision</th>\n",
              "      <th>recall</th>\n",
              "      <th>F1</th>\n",
              "      <th>support</th>\n",
              "      <th>CI Precision</th>\n",
              "      <th>CI Recall</th>\n",
              "      <th>CI F1</th>\n",
              "    </tr>\n",
              "  </thead>\n",
              "  <tbody>\n",
              "    <tr>\n",
              "      <th>Boundary</th>\n",
              "      <td>0.54</td>\n",
              "      <td>0.54</td>\n",
              "      <td>0.54</td>\n",
              "      <td>6525</td>\n",
              "      <td>0.53-0.55</td>\n",
              "      <td>0.53-0.55</td>\n",
              "      <td>0.53-0.55</td>\n",
              "    </tr>\n",
              "    <tr>\n",
              "      <th>Bcubed</th>\n",
              "      <td>0.75</td>\n",
              "      <td>0.78</td>\n",
              "      <td>0.68</td>\n",
              "      <td>6525</td>\n",
              "      <td>0.74-0.76</td>\n",
              "      <td>0.77-0.79</td>\n",
              "      <td>0.67-0.69</td>\n",
              "    </tr>\n",
              "    <tr>\n",
              "      <th>WindowDiff</th>\n",
              "      <td>0.46</td>\n",
              "      <td>0.46</td>\n",
              "      <td>0.46</td>\n",
              "      <td>6525</td>\n",
              "      <td>0.45-0.47</td>\n",
              "      <td>0.45-0.47</td>\n",
              "      <td>0.45-0.47</td>\n",
              "    </tr>\n",
              "    <tr>\n",
              "      <th>Block</th>\n",
              "      <td>0.11</td>\n",
              "      <td>0.11</td>\n",
              "      <td>0.11</td>\n",
              "      <td>6525</td>\n",
              "      <td>0.1-0.12</td>\n",
              "      <td>0.1-0.12</td>\n",
              "      <td>0.1-0.12</td>\n",
              "    </tr>\n",
              "    <tr>\n",
              "      <th>Weighted Block</th>\n",
              "      <td>0.28</td>\n",
              "      <td>0.28</td>\n",
              "      <td>0.28</td>\n",
              "      <td>6525</td>\n",
              "      <td>0.27-0.29</td>\n",
              "      <td>0.27-0.29</td>\n",
              "      <td>0.27-0.29</td>\n",
              "    </tr>\n",
              "  </tbody>\n",
              "</table>\n",
              "</div>\n",
              "      <button class=\"colab-df-convert\" onclick=\"convertToInteractive('df-bbf22235-d813-4725-b9d1-acd104f8084c')\"\n",
              "              title=\"Convert this dataframe to an interactive table.\"\n",
              "              style=\"display:none;\">\n",
              "        \n",
              "  <svg xmlns=\"http://www.w3.org/2000/svg\" height=\"24px\"viewBox=\"0 0 24 24\"\n",
              "       width=\"24px\">\n",
              "    <path d=\"M0 0h24v24H0V0z\" fill=\"none\"/>\n",
              "    <path d=\"M18.56 5.44l.94 2.06.94-2.06 2.06-.94-2.06-.94-.94-2.06-.94 2.06-2.06.94zm-11 1L8.5 8.5l.94-2.06 2.06-.94-2.06-.94L8.5 2.5l-.94 2.06-2.06.94zm10 10l.94 2.06.94-2.06 2.06-.94-2.06-.94-.94-2.06-.94 2.06-2.06.94z\"/><path d=\"M17.41 7.96l-1.37-1.37c-.4-.4-.92-.59-1.43-.59-.52 0-1.04.2-1.43.59L10.3 9.45l-7.72 7.72c-.78.78-.78 2.05 0 2.83L4 21.41c.39.39.9.59 1.41.59.51 0 1.02-.2 1.41-.59l7.78-7.78 2.81-2.81c.8-.78.8-2.07 0-2.86zM5.41 20L4 18.59l7.72-7.72 1.47 1.35L5.41 20z\"/>\n",
              "  </svg>\n",
              "      </button>\n",
              "      \n",
              "  <style>\n",
              "    .colab-df-container {\n",
              "      display:flex;\n",
              "      flex-wrap:wrap;\n",
              "      gap: 12px;\n",
              "    }\n",
              "\n",
              "    .colab-df-convert {\n",
              "      background-color: #E8F0FE;\n",
              "      border: none;\n",
              "      border-radius: 50%;\n",
              "      cursor: pointer;\n",
              "      display: none;\n",
              "      fill: #1967D2;\n",
              "      height: 32px;\n",
              "      padding: 0 0 0 0;\n",
              "      width: 32px;\n",
              "    }\n",
              "\n",
              "    .colab-df-convert:hover {\n",
              "      background-color: #E2EBFA;\n",
              "      box-shadow: 0px 1px 2px rgba(60, 64, 67, 0.3), 0px 1px 3px 1px rgba(60, 64, 67, 0.15);\n",
              "      fill: #174EA6;\n",
              "    }\n",
              "\n",
              "    [theme=dark] .colab-df-convert {\n",
              "      background-color: #3B4455;\n",
              "      fill: #D2E3FC;\n",
              "    }\n",
              "\n",
              "    [theme=dark] .colab-df-convert:hover {\n",
              "      background-color: #434B5C;\n",
              "      box-shadow: 0px 1px 3px 1px rgba(0, 0, 0, 0.15);\n",
              "      filter: drop-shadow(0px 1px 2px rgba(0, 0, 0, 0.3));\n",
              "      fill: #FFFFFF;\n",
              "    }\n",
              "  </style>\n",
              "\n",
              "      <script>\n",
              "        const buttonEl =\n",
              "          document.querySelector('#df-bbf22235-d813-4725-b9d1-acd104f8084c button.colab-df-convert');\n",
              "        buttonEl.style.display =\n",
              "          google.colab.kernel.accessAllowed ? 'block' : 'none';\n",
              "\n",
              "        async function convertToInteractive(key) {\n",
              "          const element = document.querySelector('#df-bbf22235-d813-4725-b9d1-acd104f8084c');\n",
              "          const dataTable =\n",
              "            await google.colab.kernel.invokeFunction('convertToInteractive',\n",
              "                                                     [key], {});\n",
              "          if (!dataTable) return;\n",
              "\n",
              "          const docLinkHtml = 'Like what you see? Visit the ' +\n",
              "            '<a target=\"_blank\" href=https://colab.research.google.com/notebooks/data_table.ipynb>data table notebook</a>'\n",
              "            + ' to learn more about interactive tables.';\n",
              "          element.innerHTML = '';\n",
              "          dataTable['output_type'] = 'display_data';\n",
              "          await google.colab.output.renderOutput(dataTable, element);\n",
              "          const docLink = document.createElement('div');\n",
              "          docLink.innerHTML = docLinkHtml;\n",
              "          element.appendChild(docLink);\n",
              "        }\n",
              "      </script>\n",
              "    </div>\n",
              "  </div>\n",
              "  "
            ]
          },
          "metadata": {},
          "execution_count": 30
        }
      ]
    },
    {
      "cell_type": "code",
      "source": [
        "switch_scores_corp2"
      ],
      "metadata": {
        "colab": {
          "base_uri": "https://localhost:8080/",
          "height": 206
        },
        "outputId": "2694e4b3-be06-4228-e8d1-e14d0415a814",
        "id": "heRjjM908lr6"
      },
      "execution_count": null,
      "outputs": [
        {
          "output_type": "execute_result",
          "data": {
            "text/plain": [
              "                precision  recall    F1  support CI Precision  CI Recall  \\\n",
              "Boundary             0.57    0.57  0.57     6525    0.56-0.58  0.56-0.58   \n",
              "Bcubed               0.78    0.80  0.72     6525    0.77-0.79  0.79-0.81   \n",
              "WindowDiff           0.59    0.59  0.59     6525     0.58-0.6   0.58-0.6   \n",
              "Block                0.36    0.36  0.36     6525    0.35-0.37  0.35-0.37   \n",
              "Weighted Block       0.47    0.47  0.47     6525    0.46-0.48  0.46-0.48   \n",
              "\n",
              "                    CI F1  \n",
              "Boundary        0.56-0.58  \n",
              "Bcubed          0.71-0.73  \n",
              "WindowDiff       0.58-0.6  \n",
              "Block           0.35-0.37  \n",
              "Weighted Block  0.46-0.48  "
            ],
            "text/html": [
              "\n",
              "  <div id=\"df-72a2ede1-be5c-4dc5-a7ad-3f292f47c0d2\">\n",
              "    <div class=\"colab-df-container\">\n",
              "      <div>\n",
              "<style scoped>\n",
              "    .dataframe tbody tr th:only-of-type {\n",
              "        vertical-align: middle;\n",
              "    }\n",
              "\n",
              "    .dataframe tbody tr th {\n",
              "        vertical-align: top;\n",
              "    }\n",
              "\n",
              "    .dataframe thead th {\n",
              "        text-align: right;\n",
              "    }\n",
              "</style>\n",
              "<table border=\"1\" class=\"dataframe\">\n",
              "  <thead>\n",
              "    <tr style=\"text-align: right;\">\n",
              "      <th></th>\n",
              "      <th>precision</th>\n",
              "      <th>recall</th>\n",
              "      <th>F1</th>\n",
              "      <th>support</th>\n",
              "      <th>CI Precision</th>\n",
              "      <th>CI Recall</th>\n",
              "      <th>CI F1</th>\n",
              "    </tr>\n",
              "  </thead>\n",
              "  <tbody>\n",
              "    <tr>\n",
              "      <th>Boundary</th>\n",
              "      <td>0.57</td>\n",
              "      <td>0.57</td>\n",
              "      <td>0.57</td>\n",
              "      <td>6525</td>\n",
              "      <td>0.56-0.58</td>\n",
              "      <td>0.56-0.58</td>\n",
              "      <td>0.56-0.58</td>\n",
              "    </tr>\n",
              "    <tr>\n",
              "      <th>Bcubed</th>\n",
              "      <td>0.78</td>\n",
              "      <td>0.80</td>\n",
              "      <td>0.72</td>\n",
              "      <td>6525</td>\n",
              "      <td>0.77-0.79</td>\n",
              "      <td>0.79-0.81</td>\n",
              "      <td>0.71-0.73</td>\n",
              "    </tr>\n",
              "    <tr>\n",
              "      <th>WindowDiff</th>\n",
              "      <td>0.59</td>\n",
              "      <td>0.59</td>\n",
              "      <td>0.59</td>\n",
              "      <td>6525</td>\n",
              "      <td>0.58-0.6</td>\n",
              "      <td>0.58-0.6</td>\n",
              "      <td>0.58-0.6</td>\n",
              "    </tr>\n",
              "    <tr>\n",
              "      <th>Block</th>\n",
              "      <td>0.36</td>\n",
              "      <td>0.36</td>\n",
              "      <td>0.36</td>\n",
              "      <td>6525</td>\n",
              "      <td>0.35-0.37</td>\n",
              "      <td>0.35-0.37</td>\n",
              "      <td>0.35-0.37</td>\n",
              "    </tr>\n",
              "    <tr>\n",
              "      <th>Weighted Block</th>\n",
              "      <td>0.47</td>\n",
              "      <td>0.47</td>\n",
              "      <td>0.47</td>\n",
              "      <td>6525</td>\n",
              "      <td>0.46-0.48</td>\n",
              "      <td>0.46-0.48</td>\n",
              "      <td>0.46-0.48</td>\n",
              "    </tr>\n",
              "  </tbody>\n",
              "</table>\n",
              "</div>\n",
              "      <button class=\"colab-df-convert\" onclick=\"convertToInteractive('df-72a2ede1-be5c-4dc5-a7ad-3f292f47c0d2')\"\n",
              "              title=\"Convert this dataframe to an interactive table.\"\n",
              "              style=\"display:none;\">\n",
              "        \n",
              "  <svg xmlns=\"http://www.w3.org/2000/svg\" height=\"24px\"viewBox=\"0 0 24 24\"\n",
              "       width=\"24px\">\n",
              "    <path d=\"M0 0h24v24H0V0z\" fill=\"none\"/>\n",
              "    <path d=\"M18.56 5.44l.94 2.06.94-2.06 2.06-.94-2.06-.94-.94-2.06-.94 2.06-2.06.94zm-11 1L8.5 8.5l.94-2.06 2.06-.94-2.06-.94L8.5 2.5l-.94 2.06-2.06.94zm10 10l.94 2.06.94-2.06 2.06-.94-2.06-.94-.94-2.06-.94 2.06-2.06.94z\"/><path d=\"M17.41 7.96l-1.37-1.37c-.4-.4-.92-.59-1.43-.59-.52 0-1.04.2-1.43.59L10.3 9.45l-7.72 7.72c-.78.78-.78 2.05 0 2.83L4 21.41c.39.39.9.59 1.41.59.51 0 1.02-.2 1.41-.59l7.78-7.78 2.81-2.81c.8-.78.8-2.07 0-2.86zM5.41 20L4 18.59l7.72-7.72 1.47 1.35L5.41 20z\"/>\n",
              "  </svg>\n",
              "      </button>\n",
              "      \n",
              "  <style>\n",
              "    .colab-df-container {\n",
              "      display:flex;\n",
              "      flex-wrap:wrap;\n",
              "      gap: 12px;\n",
              "    }\n",
              "\n",
              "    .colab-df-convert {\n",
              "      background-color: #E8F0FE;\n",
              "      border: none;\n",
              "      border-radius: 50%;\n",
              "      cursor: pointer;\n",
              "      display: none;\n",
              "      fill: #1967D2;\n",
              "      height: 32px;\n",
              "      padding: 0 0 0 0;\n",
              "      width: 32px;\n",
              "    }\n",
              "\n",
              "    .colab-df-convert:hover {\n",
              "      background-color: #E2EBFA;\n",
              "      box-shadow: 0px 1px 2px rgba(60, 64, 67, 0.3), 0px 1px 3px 1px rgba(60, 64, 67, 0.15);\n",
              "      fill: #174EA6;\n",
              "    }\n",
              "\n",
              "    [theme=dark] .colab-df-convert {\n",
              "      background-color: #3B4455;\n",
              "      fill: #D2E3FC;\n",
              "    }\n",
              "\n",
              "    [theme=dark] .colab-df-convert:hover {\n",
              "      background-color: #434B5C;\n",
              "      box-shadow: 0px 1px 3px 1px rgba(0, 0, 0, 0.15);\n",
              "      filter: drop-shadow(0px 1px 2px rgba(0, 0, 0, 0.3));\n",
              "      fill: #FFFFFF;\n",
              "    }\n",
              "  </style>\n",
              "\n",
              "      <script>\n",
              "        const buttonEl =\n",
              "          document.querySelector('#df-72a2ede1-be5c-4dc5-a7ad-3f292f47c0d2 button.colab-df-convert');\n",
              "        buttonEl.style.display =\n",
              "          google.colab.kernel.accessAllowed ? 'block' : 'none';\n",
              "\n",
              "        async function convertToInteractive(key) {\n",
              "          const element = document.querySelector('#df-72a2ede1-be5c-4dc5-a7ad-3f292f47c0d2');\n",
              "          const dataTable =\n",
              "            await google.colab.kernel.invokeFunction('convertToInteractive',\n",
              "                                                     [key], {});\n",
              "          if (!dataTable) return;\n",
              "\n",
              "          const docLinkHtml = 'Like what you see? Visit the ' +\n",
              "            '<a target=\"_blank\" href=https://colab.research.google.com/notebooks/data_table.ipynb>data table notebook</a>'\n",
              "            + ' to learn more about interactive tables.';\n",
              "          element.innerHTML = '';\n",
              "          dataTable['output_type'] = 'display_data';\n",
              "          await google.colab.output.renderOutput(dataTable, element);\n",
              "          const docLink = document.createElement('div');\n",
              "          docLink.innerHTML = docLinkHtml;\n",
              "          element.appendChild(docLink);\n",
              "        }\n",
              "      </script>\n",
              "    </div>\n",
              "  </div>\n",
              "  "
            ]
          },
          "metadata": {},
          "execution_count": 31
        }
      ]
    },
    {
      "cell_type": "code",
      "source": [
        "switch_start_scores_corp2"
      ],
      "metadata": {
        "colab": {
          "base_uri": "https://localhost:8080/",
          "height": 206
        },
        "outputId": "acdf7621-1c3c-4889-94e7-9f50568fc7f5",
        "id": "0lrLBggi8lr6"
      },
      "execution_count": null,
      "outputs": [
        {
          "output_type": "execute_result",
          "data": {
            "text/plain": [
              "                precision  recall    F1  support CI Precision  CI Recall  \\\n",
              "Boundary             0.59    0.59  0.59     6525     0.58-0.6   0.58-0.6   \n",
              "Bcubed               0.79    0.80  0.73     6525     0.78-0.8  0.79-0.81   \n",
              "WindowDiff           0.59    0.59  0.59     6525     0.58-0.6   0.58-0.6   \n",
              "Block                0.38    0.38  0.38     6525    0.37-0.39  0.37-0.39   \n",
              "Weighted Block       0.49    0.49  0.49     6525     0.48-0.5   0.48-0.5   \n",
              "\n",
              "                    CI F1  \n",
              "Boundary         0.58-0.6  \n",
              "Bcubed          0.72-0.74  \n",
              "WindowDiff       0.58-0.6  \n",
              "Block           0.37-0.39  \n",
              "Weighted Block   0.48-0.5  "
            ],
            "text/html": [
              "\n",
              "  <div id=\"df-c1d6138c-6ac5-4dd1-901b-1f82103c7dd4\">\n",
              "    <div class=\"colab-df-container\">\n",
              "      <div>\n",
              "<style scoped>\n",
              "    .dataframe tbody tr th:only-of-type {\n",
              "        vertical-align: middle;\n",
              "    }\n",
              "\n",
              "    .dataframe tbody tr th {\n",
              "        vertical-align: top;\n",
              "    }\n",
              "\n",
              "    .dataframe thead th {\n",
              "        text-align: right;\n",
              "    }\n",
              "</style>\n",
              "<table border=\"1\" class=\"dataframe\">\n",
              "  <thead>\n",
              "    <tr style=\"text-align: right;\">\n",
              "      <th></th>\n",
              "      <th>precision</th>\n",
              "      <th>recall</th>\n",
              "      <th>F1</th>\n",
              "      <th>support</th>\n",
              "      <th>CI Precision</th>\n",
              "      <th>CI Recall</th>\n",
              "      <th>CI F1</th>\n",
              "    </tr>\n",
              "  </thead>\n",
              "  <tbody>\n",
              "    <tr>\n",
              "      <th>Boundary</th>\n",
              "      <td>0.59</td>\n",
              "      <td>0.59</td>\n",
              "      <td>0.59</td>\n",
              "      <td>6525</td>\n",
              "      <td>0.58-0.6</td>\n",
              "      <td>0.58-0.6</td>\n",
              "      <td>0.58-0.6</td>\n",
              "    </tr>\n",
              "    <tr>\n",
              "      <th>Bcubed</th>\n",
              "      <td>0.79</td>\n",
              "      <td>0.80</td>\n",
              "      <td>0.73</td>\n",
              "      <td>6525</td>\n",
              "      <td>0.78-0.8</td>\n",
              "      <td>0.79-0.81</td>\n",
              "      <td>0.72-0.74</td>\n",
              "    </tr>\n",
              "    <tr>\n",
              "      <th>WindowDiff</th>\n",
              "      <td>0.59</td>\n",
              "      <td>0.59</td>\n",
              "      <td>0.59</td>\n",
              "      <td>6525</td>\n",
              "      <td>0.58-0.6</td>\n",
              "      <td>0.58-0.6</td>\n",
              "      <td>0.58-0.6</td>\n",
              "    </tr>\n",
              "    <tr>\n",
              "      <th>Block</th>\n",
              "      <td>0.38</td>\n",
              "      <td>0.38</td>\n",
              "      <td>0.38</td>\n",
              "      <td>6525</td>\n",
              "      <td>0.37-0.39</td>\n",
              "      <td>0.37-0.39</td>\n",
              "      <td>0.37-0.39</td>\n",
              "    </tr>\n",
              "    <tr>\n",
              "      <th>Weighted Block</th>\n",
              "      <td>0.49</td>\n",
              "      <td>0.49</td>\n",
              "      <td>0.49</td>\n",
              "      <td>6525</td>\n",
              "      <td>0.48-0.5</td>\n",
              "      <td>0.48-0.5</td>\n",
              "      <td>0.48-0.5</td>\n",
              "    </tr>\n",
              "  </tbody>\n",
              "</table>\n",
              "</div>\n",
              "      <button class=\"colab-df-convert\" onclick=\"convertToInteractive('df-c1d6138c-6ac5-4dd1-901b-1f82103c7dd4')\"\n",
              "              title=\"Convert this dataframe to an interactive table.\"\n",
              "              style=\"display:none;\">\n",
              "        \n",
              "  <svg xmlns=\"http://www.w3.org/2000/svg\" height=\"24px\"viewBox=\"0 0 24 24\"\n",
              "       width=\"24px\">\n",
              "    <path d=\"M0 0h24v24H0V0z\" fill=\"none\"/>\n",
              "    <path d=\"M18.56 5.44l.94 2.06.94-2.06 2.06-.94-2.06-.94-.94-2.06-.94 2.06-2.06.94zm-11 1L8.5 8.5l.94-2.06 2.06-.94-2.06-.94L8.5 2.5l-.94 2.06-2.06.94zm10 10l.94 2.06.94-2.06 2.06-.94-2.06-.94-.94-2.06-.94 2.06-2.06.94z\"/><path d=\"M17.41 7.96l-1.37-1.37c-.4-.4-.92-.59-1.43-.59-.52 0-1.04.2-1.43.59L10.3 9.45l-7.72 7.72c-.78.78-.78 2.05 0 2.83L4 21.41c.39.39.9.59 1.41.59.51 0 1.02-.2 1.41-.59l7.78-7.78 2.81-2.81c.8-.78.8-2.07 0-2.86zM5.41 20L4 18.59l7.72-7.72 1.47 1.35L5.41 20z\"/>\n",
              "  </svg>\n",
              "      </button>\n",
              "      \n",
              "  <style>\n",
              "    .colab-df-container {\n",
              "      display:flex;\n",
              "      flex-wrap:wrap;\n",
              "      gap: 12px;\n",
              "    }\n",
              "\n",
              "    .colab-df-convert {\n",
              "      background-color: #E8F0FE;\n",
              "      border: none;\n",
              "      border-radius: 50%;\n",
              "      cursor: pointer;\n",
              "      display: none;\n",
              "      fill: #1967D2;\n",
              "      height: 32px;\n",
              "      padding: 0 0 0 0;\n",
              "      width: 32px;\n",
              "    }\n",
              "\n",
              "    .colab-df-convert:hover {\n",
              "      background-color: #E2EBFA;\n",
              "      box-shadow: 0px 1px 2px rgba(60, 64, 67, 0.3), 0px 1px 3px 1px rgba(60, 64, 67, 0.15);\n",
              "      fill: #174EA6;\n",
              "    }\n",
              "\n",
              "    [theme=dark] .colab-df-convert {\n",
              "      background-color: #3B4455;\n",
              "      fill: #D2E3FC;\n",
              "    }\n",
              "\n",
              "    [theme=dark] .colab-df-convert:hover {\n",
              "      background-color: #434B5C;\n",
              "      box-shadow: 0px 1px 3px 1px rgba(0, 0, 0, 0.15);\n",
              "      filter: drop-shadow(0px 1px 2px rgba(0, 0, 0, 0.3));\n",
              "      fill: #FFFFFF;\n",
              "    }\n",
              "  </style>\n",
              "\n",
              "      <script>\n",
              "        const buttonEl =\n",
              "          document.querySelector('#df-c1d6138c-6ac5-4dd1-901b-1f82103c7dd4 button.colab-df-convert');\n",
              "        buttonEl.style.display =\n",
              "          google.colab.kernel.accessAllowed ? 'block' : 'none';\n",
              "\n",
              "        async function convertToInteractive(key) {\n",
              "          const element = document.querySelector('#df-c1d6138c-6ac5-4dd1-901b-1f82103c7dd4');\n",
              "          const dataTable =\n",
              "            await google.colab.kernel.invokeFunction('convertToInteractive',\n",
              "                                                     [key], {});\n",
              "          if (!dataTable) return;\n",
              "\n",
              "          const docLinkHtml = 'Like what you see? Visit the ' +\n",
              "            '<a target=\"_blank\" href=https://colab.research.google.com/notebooks/data_table.ipynb>data table notebook</a>'\n",
              "            + ' to learn more about interactive tables.';\n",
              "          element.innerHTML = '';\n",
              "          dataTable['output_type'] = 'display_data';\n",
              "          await google.colab.output.renderOutput(dataTable, element);\n",
              "          const docLink = document.createElement('div');\n",
              "          docLink.innerHTML = docLinkHtml;\n",
              "          element.appendChild(docLink);\n",
              "        }\n",
              "      </script>\n",
              "    </div>\n",
              "  </div>\n",
              "  "
            ]
          },
          "metadata": {},
          "execution_count": 32
        }
      ]
    },
    {
      "cell_type": "markdown",
      "source": [
        "### VGG clustering results\n"
      ],
      "metadata": {
        "id": "D9YuRVW7Xhbs"
      }
    },
    {
      "cell_type": "markdown",
      "source": [
        "#### Image VGG Clustering"
      ],
      "metadata": {
        "id": "hwEwpL2-exwi"
      }
    },
    {
      "cell_type": "code",
      "source": [
        "gold_std_dict = {}\n",
        "\n",
        "for doc_id,content in test_data.groupby('name'):\n",
        "    repl_doc_id = doc_id.replace('__concatenated','')\n",
        "    content = content.sort_values(by='page')\n",
        "    gold_std = content['label'].values\n",
        "    gold_std_dict[repl_doc_id] = gold_std"
      ],
      "metadata": {
        "id": "-ou_LXajTrsQ"
      },
      "execution_count": null,
      "outputs": []
    },
    {
      "cell_type": "code",
      "source": [
        "from tqdm import tqdm\n",
        "used_standard = gold_std_dict\n",
        "used_corpus = test_data\n",
        "text_vectors_used = test_text_finetuned_vectors\n",
        "image_vectors_used = new_image_vectors\n",
        "vector_dict_used = vector_dict\n",
        "\n",
        "\n",
        "prediction_json_im_noswitch_VGG_corp2 = {}\n",
        "prediction_json_im_switch_VGG_corp2 = {}\n",
        "prediction_json_im_switch_start_VGG_corp2 = {}\n",
        "\n",
        "dist_lists_noswitch_VGG_corp2 ={}\n",
        "dist_lists_switch_VGG_corp2 ={}\n",
        "dist_lists_switch_start_VGG_corp2 ={}\n",
        "\n",
        "for doc_id, content in tqdm(used_corpus.groupby('name')):\n",
        "    repl_doc_id = doc_id.replace('__concatenated','')\n",
        "    corpus = content['corpus'].iloc[0]\n",
        "    gold_std = used_standard[repl_doc_id]\n",
        "    n_docs = sum(gold_std)\n",
        "    n_pages = len(gold_std)\n",
        "    corpus_im_folder = '/content/gdrive/MyDrive/master_thesis/new_corpus/VGG_vectors'.format(corpus+1)\n",
        "    \n",
        "    im_page_vectors_path = os.path.join(corpus_im_folder,doc_id+'.npy')\n",
        "    if not os.path.exists(im_page_vectors_path):\n",
        "      continue\n",
        "    \n",
        "    im_page_vectors = np.load(im_page_vectors_path)\n",
        "    if n_pages > 1:\n",
        "      ## Using switch\n",
        "      dist_list_switch, preds_switch = cluster_with_switch(gold_std,im_page_vectors, False,True)\n",
        "      dist_list_switch_start, preds_switch_start = cluster_with_switch(gold_std,im_page_vectors,True,True)\n",
        "\n",
        "      prediction_json_im_switch_VGG_corp2[repl_doc_id] = preds_switch\n",
        "      dist_lists_switch_VGG_corp2[repl_doc_id] = dist_list_switch\n",
        "\n",
        "      prediction_json_im_switch_start_VGG_corp2[repl_doc_id] = preds_switch_start\n",
        "      dist_lists_switch_start_VGG_corp2[repl_doc_id] = dist_list_switch_start\n",
        "\n",
        "\n",
        "      ## Not using switch\n",
        "      dist_list = []\n",
        "      c_mat = page_con_matrix(n_pages)\n",
        "      for i in range(len(im_page_vectors)-1):\n",
        "        current_vector = im_page_vectors[i]\n",
        "        next_vector = im_page_vectors[i+1]\n",
        "        dist = distance.cosine(current_vector, next_vector)\n",
        "        dist_list.append(dist)\n",
        "      dist_list = np.array(dist_list)\n",
        "      if len(dist_list) >1:\n",
        "        dist_list_norm = (dist_list - np.min(dist_list)) / (np.max(dist_list) - np.min(dist_list))\n",
        "        nth_highest = np.sort(dist_list_norm)[-n_docs]\n",
        "      else:\n",
        "        dist_list_norm = dist_list\n",
        "\n",
        "      \n",
        "      dist_lists_noswitch_VGG_corp2[repl_doc_id] = dist_list_norm\n",
        "\n",
        "      if n_pages >1:\n",
        "        cluster = AgglomerativeClustering(n_clusters=n_docs, affinity='cosine', linkage='average',compute_distances = True, connectivity = c_mat)  \n",
        "        image_predictions = cluster.fit_predict(im_page_vectors) \n",
        "\n",
        "\n",
        "        prediction_json_im_noswitch_VGG_corp2[repl_doc_id] = length_list_to_bin(groups_to_lengths(image_predictions))"
      ],
      "metadata": {
        "id": "EOPmt2xkexwi",
        "colab": {
          "base_uri": "https://localhost:8080/"
        },
        "outputId": "c457389c-977d-452d-f231-068bc1cb43c2"
      },
      "execution_count": null,
      "outputs": [
        {
          "output_type": "stream",
          "name": "stderr",
          "text": [
            "100%|██████████| 32/32 [00:51<00:00,  1.62s/it]\n"
          ]
        }
      ]
    },
    {
      "cell_type": "markdown",
      "source": [
        "# Effect of entry problem"
      ],
      "metadata": {
        "id": "QDWOCpQ04r_h"
      }
    },
    {
      "cell_type": "code",
      "source": [
        "def find_indexes_of_ett(preds, gs, auto_switch = False):\n",
        "  etts = []\n",
        "  prev_ind = 0\n",
        "  in_prob = False\n",
        "  for i, pred in enumerate(preds):\n",
        "    gv = gs[i]\n",
        "    if abs(pred-gv) == 1:\n",
        "      if not in_prob:\n",
        "        prev_ind = i\n",
        "        in_prob = True\n",
        "    else:\n",
        "      if in_prob:\n",
        "        prob_len = i-1 - prev_ind\n",
        "        if prob_len >= 10 and sum(preds[prev_ind:i]) > 3:\n",
        "          etts.append(([prev_ind,i], sum(preds[prev_ind:i])))\n",
        "        in_prob = False\n",
        "\n",
        "  if auto_switch:\n",
        "    fixed_res = preds.copy()\n",
        "    for ett in etts:\n",
        "      fixed_res[ett[0][0]+1:ett[0][1]] = np.array([abs(1-x) for x in fixed_res[ett[0][0]+1:ett[0][1]]])\n",
        "    return etts, fixed_res\n",
        "  return etts\n"
      ],
      "metadata": {
        "id": "RGMHu4XP4uFZ"
      },
      "execution_count": null,
      "outputs": []
    },
    {
      "cell_type": "code",
      "source": [
        "def get_etts(pred_d, gld_d):\n",
        "  new_preds = {}\n",
        "  all_etts = []\n",
        "  for stream,preds in pred_d.items():\n",
        "    gs_s = gld_d[stream]\n",
        "    new_ett,fixed = find_indexes_of_ett(preds,gs_s, True)\n",
        "    if new_ett:\n",
        "      ett_l = new_ett[0][0][1] - new_ett[0][0][0]\n",
        "      new_preds[stream] = fixed\n",
        "      all_etts += new_ett\n",
        "    else:\n",
        "      new_preds[stream] = preds\n",
        "  return all_etts, new_preds"
      ],
      "metadata": {
        "id": "5xi3Gxt90ddF"
      },
      "execution_count": null,
      "outputs": []
    },
    {
      "cell_type": "code",
      "source": [
        "im_ett_sw, im_fixed_sw = get_etts(prediction_json_im_switch_start_corp2, gold_std_dict)\n",
        "im_ett_nsw, im_fixed_nsw = get_etts(prediction_json_im_noswitch_corp2, gold_std_dict)\n",
        "\n",
        "text_ett_sw, text_fixed_sw = get_etts(prediction_json_text_switch_start_corp2, gold_std_dict)\n",
        "text_ett_nsw, text_fixed_nsw = get_etts(prediction_json_text_noswitch_corp2, gold_std_dict)\n",
        "\n",
        "comb_ett_sw, comb_fixed_sw = get_etts(prediction_json_comb, gold_std_dict)\n",
        "comb_ett_nsw, comb_fixed_nsw = get_etts(prediction_json_comb_nsw, gold_std_dict)"
      ],
      "metadata": {
        "id": "HLJfIcjs1MYT"
      },
      "execution_count": null,
      "outputs": []
    },
    {
      "cell_type": "code",
      "source": [
        "im_ett_sw_len = [x[1]-x[0] for x,y in im_ett_sw]\n",
        "im_ett_nsw_len = [x[1]-x[0] for x,y in im_ett_nsw]\n",
        "text_ett_sw_len = [x[1]-x[0] for x,y in text_ett_sw]\n",
        "text_ett_nsw_len = [x[1]-x[0] for x,y in text_ett_nsw]\n",
        "comb_ett_sw_len = [x[1]-x[0] for x,y in comb_ett_sw]\n",
        "comb_ett_nsw_len = [x[1]-x[0] for x,y in comb_ett_nsw]\n",
        "\n",
        "print(np.sum(im_ett_sw_len))\n",
        "print(np.sum(im_ett_nsw_len))\n",
        "print(np.sum(text_ett_sw_len))\n",
        "print(np.sum(text_ett_nsw_len))\n",
        "print(np.sum(comb_ett_sw_len))\n",
        "print(np.sum(comb_ett_nsw_len))"
      ],
      "metadata": {
        "colab": {
          "base_uri": "https://localhost:8080/"
        },
        "id": "V_vSo-zI19O2",
        "outputId": "65386b11-8009-4e77-cdbd-618651c4812a"
      },
      "execution_count": null,
      "outputs": [
        {
          "output_type": "stream",
          "name": "stdout",
          "text": [
            "1268\n",
            "0.0\n",
            "1138\n",
            "0.0\n",
            "1341\n",
            "16\n"
          ]
        }
      ]
    },
    {
      "cell_type": "code",
      "source": [
        "len(im_fixed_sw.keys())"
      ],
      "metadata": {
        "colab": {
          "base_uri": "https://localhost:8080/"
        },
        "id": "AUehef0e8eKQ",
        "outputId": "adee049d-52fc-4b85-f278-713417ff9e46"
      },
      "execution_count": null,
      "outputs": [
        {
          "output_type": "execute_result",
          "data": {
            "text/plain": [
              "32"
            ]
          },
          "metadata": {},
          "execution_count": 36
        }
      ]
    },
    {
      "cell_type": "code",
      "source": [
        "new_preds = {}\n",
        "all_etts = []\n",
        "for stream,preds in prediction_json_im_switch_start_corp2.items():\n",
        "  gs_s = gold_std_dict[stream]\n",
        "  new_ett,fixed = find_indexes_of_ett(preds,gs_s, True)\n",
        "  if new_ett:\n",
        "    ett_l = new_ett[0][0][1] - new_ett[0][0][0]\n",
        "    new_preds[stream] = fixed\n",
        "    all_etts += new_ett"
      ],
      "metadata": {
        "id": "-FBhIXe5602z"
      },
      "execution_count": null,
      "outputs": []
    },
    {
      "cell_type": "code",
      "source": [
        "calculate_mean_scores(gold_std_dict,im_fixed_sw)"
      ],
      "metadata": {
        "colab": {
          "base_uri": "https://localhost:8080/",
          "height": 206
        },
        "id": "9MfgPi6Y8CBF",
        "outputId": "5f0eabf7-3723-451d-a7ba-ba03fc9bd563"
      },
      "execution_count": null,
      "outputs": [
        {
          "output_type": "execute_result",
          "data": {
            "text/plain": [
              "                precision  recall    F1  support CI Precision  CI Recall  \\\n",
              "Boundary             0.74    0.71  0.72     6476    0.73-0.75   0.7-0.72   \n",
              "Bcubed               0.82    0.88  0.80     6476    0.81-0.83  0.87-0.89   \n",
              "WindowDiff           0.68    0.68  0.68     6476    0.67-0.69  0.67-0.69   \n",
              "Block                0.52    0.50  0.51     6476    0.51-0.53  0.49-0.51   \n",
              "Weighted Block       0.65    0.62  0.63     6476    0.64-0.66  0.61-0.63   \n",
              "\n",
              "                    CI F1  \n",
              "Boundary        0.71-0.73  \n",
              "Bcubed          0.79-0.81  \n",
              "WindowDiff      0.67-0.69  \n",
              "Block            0.5-0.52  \n",
              "Weighted Block  0.62-0.64  "
            ],
            "text/html": [
              "\n",
              "  <div id=\"df-459d6a16-8476-40a6-8f55-86be8d918c92\">\n",
              "    <div class=\"colab-df-container\">\n",
              "      <div>\n",
              "<style scoped>\n",
              "    .dataframe tbody tr th:only-of-type {\n",
              "        vertical-align: middle;\n",
              "    }\n",
              "\n",
              "    .dataframe tbody tr th {\n",
              "        vertical-align: top;\n",
              "    }\n",
              "\n",
              "    .dataframe thead th {\n",
              "        text-align: right;\n",
              "    }\n",
              "</style>\n",
              "<table border=\"1\" class=\"dataframe\">\n",
              "  <thead>\n",
              "    <tr style=\"text-align: right;\">\n",
              "      <th></th>\n",
              "      <th>precision</th>\n",
              "      <th>recall</th>\n",
              "      <th>F1</th>\n",
              "      <th>support</th>\n",
              "      <th>CI Precision</th>\n",
              "      <th>CI Recall</th>\n",
              "      <th>CI F1</th>\n",
              "    </tr>\n",
              "  </thead>\n",
              "  <tbody>\n",
              "    <tr>\n",
              "      <th>Boundary</th>\n",
              "      <td>0.74</td>\n",
              "      <td>0.71</td>\n",
              "      <td>0.72</td>\n",
              "      <td>6476</td>\n",
              "      <td>0.73-0.75</td>\n",
              "      <td>0.7-0.72</td>\n",
              "      <td>0.71-0.73</td>\n",
              "    </tr>\n",
              "    <tr>\n",
              "      <th>Bcubed</th>\n",
              "      <td>0.82</td>\n",
              "      <td>0.88</td>\n",
              "      <td>0.80</td>\n",
              "      <td>6476</td>\n",
              "      <td>0.81-0.83</td>\n",
              "      <td>0.87-0.89</td>\n",
              "      <td>0.79-0.81</td>\n",
              "    </tr>\n",
              "    <tr>\n",
              "      <th>WindowDiff</th>\n",
              "      <td>0.68</td>\n",
              "      <td>0.68</td>\n",
              "      <td>0.68</td>\n",
              "      <td>6476</td>\n",
              "      <td>0.67-0.69</td>\n",
              "      <td>0.67-0.69</td>\n",
              "      <td>0.67-0.69</td>\n",
              "    </tr>\n",
              "    <tr>\n",
              "      <th>Block</th>\n",
              "      <td>0.52</td>\n",
              "      <td>0.50</td>\n",
              "      <td>0.51</td>\n",
              "      <td>6476</td>\n",
              "      <td>0.51-0.53</td>\n",
              "      <td>0.49-0.51</td>\n",
              "      <td>0.5-0.52</td>\n",
              "    </tr>\n",
              "    <tr>\n",
              "      <th>Weighted Block</th>\n",
              "      <td>0.65</td>\n",
              "      <td>0.62</td>\n",
              "      <td>0.63</td>\n",
              "      <td>6476</td>\n",
              "      <td>0.64-0.66</td>\n",
              "      <td>0.61-0.63</td>\n",
              "      <td>0.62-0.64</td>\n",
              "    </tr>\n",
              "  </tbody>\n",
              "</table>\n",
              "</div>\n",
              "      <button class=\"colab-df-convert\" onclick=\"convertToInteractive('df-459d6a16-8476-40a6-8f55-86be8d918c92')\"\n",
              "              title=\"Convert this dataframe to an interactive table.\"\n",
              "              style=\"display:none;\">\n",
              "        \n",
              "  <svg xmlns=\"http://www.w3.org/2000/svg\" height=\"24px\"viewBox=\"0 0 24 24\"\n",
              "       width=\"24px\">\n",
              "    <path d=\"M0 0h24v24H0V0z\" fill=\"none\"/>\n",
              "    <path d=\"M18.56 5.44l.94 2.06.94-2.06 2.06-.94-2.06-.94-.94-2.06-.94 2.06-2.06.94zm-11 1L8.5 8.5l.94-2.06 2.06-.94-2.06-.94L8.5 2.5l-.94 2.06-2.06.94zm10 10l.94 2.06.94-2.06 2.06-.94-2.06-.94-.94-2.06-.94 2.06-2.06.94z\"/><path d=\"M17.41 7.96l-1.37-1.37c-.4-.4-.92-.59-1.43-.59-.52 0-1.04.2-1.43.59L10.3 9.45l-7.72 7.72c-.78.78-.78 2.05 0 2.83L4 21.41c.39.39.9.59 1.41.59.51 0 1.02-.2 1.41-.59l7.78-7.78 2.81-2.81c.8-.78.8-2.07 0-2.86zM5.41 20L4 18.59l7.72-7.72 1.47 1.35L5.41 20z\"/>\n",
              "  </svg>\n",
              "      </button>\n",
              "      \n",
              "  <style>\n",
              "    .colab-df-container {\n",
              "      display:flex;\n",
              "      flex-wrap:wrap;\n",
              "      gap: 12px;\n",
              "    }\n",
              "\n",
              "    .colab-df-convert {\n",
              "      background-color: #E8F0FE;\n",
              "      border: none;\n",
              "      border-radius: 50%;\n",
              "      cursor: pointer;\n",
              "      display: none;\n",
              "      fill: #1967D2;\n",
              "      height: 32px;\n",
              "      padding: 0 0 0 0;\n",
              "      width: 32px;\n",
              "    }\n",
              "\n",
              "    .colab-df-convert:hover {\n",
              "      background-color: #E2EBFA;\n",
              "      box-shadow: 0px 1px 2px rgba(60, 64, 67, 0.3), 0px 1px 3px 1px rgba(60, 64, 67, 0.15);\n",
              "      fill: #174EA6;\n",
              "    }\n",
              "\n",
              "    [theme=dark] .colab-df-convert {\n",
              "      background-color: #3B4455;\n",
              "      fill: #D2E3FC;\n",
              "    }\n",
              "\n",
              "    [theme=dark] .colab-df-convert:hover {\n",
              "      background-color: #434B5C;\n",
              "      box-shadow: 0px 1px 3px 1px rgba(0, 0, 0, 0.15);\n",
              "      filter: drop-shadow(0px 1px 2px rgba(0, 0, 0, 0.3));\n",
              "      fill: #FFFFFF;\n",
              "    }\n",
              "  </style>\n",
              "\n",
              "      <script>\n",
              "        const buttonEl =\n",
              "          document.querySelector('#df-459d6a16-8476-40a6-8f55-86be8d918c92 button.colab-df-convert');\n",
              "        buttonEl.style.display =\n",
              "          google.colab.kernel.accessAllowed ? 'block' : 'none';\n",
              "\n",
              "        async function convertToInteractive(key) {\n",
              "          const element = document.querySelector('#df-459d6a16-8476-40a6-8f55-86be8d918c92');\n",
              "          const dataTable =\n",
              "            await google.colab.kernel.invokeFunction('convertToInteractive',\n",
              "                                                     [key], {});\n",
              "          if (!dataTable) return;\n",
              "\n",
              "          const docLinkHtml = 'Like what you see? Visit the ' +\n",
              "            '<a target=\"_blank\" href=https://colab.research.google.com/notebooks/data_table.ipynb>data table notebook</a>'\n",
              "            + ' to learn more about interactive tables.';\n",
              "          element.innerHTML = '';\n",
              "          dataTable['output_type'] = 'display_data';\n",
              "          await google.colab.output.renderOutput(dataTable, element);\n",
              "          const docLink = document.createElement('div');\n",
              "          docLink.innerHTML = docLinkHtml;\n",
              "          element.appendChild(docLink);\n",
              "        }\n",
              "      </script>\n",
              "    </div>\n",
              "  </div>\n",
              "  "
            ]
          },
          "metadata": {},
          "execution_count": 38
        }
      ]
    },
    {
      "cell_type": "code",
      "source": [
        "calculate_mean_scores(gold_std_dict,text_fixed_sw)"
      ],
      "metadata": {
        "colab": {
          "base_uri": "https://localhost:8080/",
          "height": 206
        },
        "id": "OipmeHCk9TuS",
        "outputId": "588cfd80-462b-4ccd-93fc-729714fee800"
      },
      "execution_count": null,
      "outputs": [
        {
          "output_type": "execute_result",
          "data": {
            "text/plain": [
              "                precision  recall    F1  support CI Precision  CI Recall  \\\n",
              "Boundary             0.67    0.66  0.66     6476    0.66-0.68  0.65-0.67   \n",
              "Bcubed               0.81    0.84  0.77     6476     0.8-0.82  0.83-0.85   \n",
              "WindowDiff           0.63    0.63  0.63     6476    0.62-0.64  0.62-0.64   \n",
              "Block                0.45    0.45  0.45     6476    0.44-0.46  0.44-0.46   \n",
              "Weighted Block       0.57    0.56  0.57     6476    0.56-0.58  0.55-0.57   \n",
              "\n",
              "                    CI F1  \n",
              "Boundary        0.65-0.67  \n",
              "Bcubed          0.76-0.78  \n",
              "WindowDiff      0.62-0.64  \n",
              "Block           0.44-0.46  \n",
              "Weighted Block  0.56-0.58  "
            ],
            "text/html": [
              "\n",
              "  <div id=\"df-ee9d2340-0e70-475f-b478-c6f565bd8708\">\n",
              "    <div class=\"colab-df-container\">\n",
              "      <div>\n",
              "<style scoped>\n",
              "    .dataframe tbody tr th:only-of-type {\n",
              "        vertical-align: middle;\n",
              "    }\n",
              "\n",
              "    .dataframe tbody tr th {\n",
              "        vertical-align: top;\n",
              "    }\n",
              "\n",
              "    .dataframe thead th {\n",
              "        text-align: right;\n",
              "    }\n",
              "</style>\n",
              "<table border=\"1\" class=\"dataframe\">\n",
              "  <thead>\n",
              "    <tr style=\"text-align: right;\">\n",
              "      <th></th>\n",
              "      <th>precision</th>\n",
              "      <th>recall</th>\n",
              "      <th>F1</th>\n",
              "      <th>support</th>\n",
              "      <th>CI Precision</th>\n",
              "      <th>CI Recall</th>\n",
              "      <th>CI F1</th>\n",
              "    </tr>\n",
              "  </thead>\n",
              "  <tbody>\n",
              "    <tr>\n",
              "      <th>Boundary</th>\n",
              "      <td>0.67</td>\n",
              "      <td>0.66</td>\n",
              "      <td>0.66</td>\n",
              "      <td>6476</td>\n",
              "      <td>0.66-0.68</td>\n",
              "      <td>0.65-0.67</td>\n",
              "      <td>0.65-0.67</td>\n",
              "    </tr>\n",
              "    <tr>\n",
              "      <th>Bcubed</th>\n",
              "      <td>0.81</td>\n",
              "      <td>0.84</td>\n",
              "      <td>0.77</td>\n",
              "      <td>6476</td>\n",
              "      <td>0.8-0.82</td>\n",
              "      <td>0.83-0.85</td>\n",
              "      <td>0.76-0.78</td>\n",
              "    </tr>\n",
              "    <tr>\n",
              "      <th>WindowDiff</th>\n",
              "      <td>0.63</td>\n",
              "      <td>0.63</td>\n",
              "      <td>0.63</td>\n",
              "      <td>6476</td>\n",
              "      <td>0.62-0.64</td>\n",
              "      <td>0.62-0.64</td>\n",
              "      <td>0.62-0.64</td>\n",
              "    </tr>\n",
              "    <tr>\n",
              "      <th>Block</th>\n",
              "      <td>0.45</td>\n",
              "      <td>0.45</td>\n",
              "      <td>0.45</td>\n",
              "      <td>6476</td>\n",
              "      <td>0.44-0.46</td>\n",
              "      <td>0.44-0.46</td>\n",
              "      <td>0.44-0.46</td>\n",
              "    </tr>\n",
              "    <tr>\n",
              "      <th>Weighted Block</th>\n",
              "      <td>0.57</td>\n",
              "      <td>0.56</td>\n",
              "      <td>0.57</td>\n",
              "      <td>6476</td>\n",
              "      <td>0.56-0.58</td>\n",
              "      <td>0.55-0.57</td>\n",
              "      <td>0.56-0.58</td>\n",
              "    </tr>\n",
              "  </tbody>\n",
              "</table>\n",
              "</div>\n",
              "      <button class=\"colab-df-convert\" onclick=\"convertToInteractive('df-ee9d2340-0e70-475f-b478-c6f565bd8708')\"\n",
              "              title=\"Convert this dataframe to an interactive table.\"\n",
              "              style=\"display:none;\">\n",
              "        \n",
              "  <svg xmlns=\"http://www.w3.org/2000/svg\" height=\"24px\"viewBox=\"0 0 24 24\"\n",
              "       width=\"24px\">\n",
              "    <path d=\"M0 0h24v24H0V0z\" fill=\"none\"/>\n",
              "    <path d=\"M18.56 5.44l.94 2.06.94-2.06 2.06-.94-2.06-.94-.94-2.06-.94 2.06-2.06.94zm-11 1L8.5 8.5l.94-2.06 2.06-.94-2.06-.94L8.5 2.5l-.94 2.06-2.06.94zm10 10l.94 2.06.94-2.06 2.06-.94-2.06-.94-.94-2.06-.94 2.06-2.06.94z\"/><path d=\"M17.41 7.96l-1.37-1.37c-.4-.4-.92-.59-1.43-.59-.52 0-1.04.2-1.43.59L10.3 9.45l-7.72 7.72c-.78.78-.78 2.05 0 2.83L4 21.41c.39.39.9.59 1.41.59.51 0 1.02-.2 1.41-.59l7.78-7.78 2.81-2.81c.8-.78.8-2.07 0-2.86zM5.41 20L4 18.59l7.72-7.72 1.47 1.35L5.41 20z\"/>\n",
              "  </svg>\n",
              "      </button>\n",
              "      \n",
              "  <style>\n",
              "    .colab-df-container {\n",
              "      display:flex;\n",
              "      flex-wrap:wrap;\n",
              "      gap: 12px;\n",
              "    }\n",
              "\n",
              "    .colab-df-convert {\n",
              "      background-color: #E8F0FE;\n",
              "      border: none;\n",
              "      border-radius: 50%;\n",
              "      cursor: pointer;\n",
              "      display: none;\n",
              "      fill: #1967D2;\n",
              "      height: 32px;\n",
              "      padding: 0 0 0 0;\n",
              "      width: 32px;\n",
              "    }\n",
              "\n",
              "    .colab-df-convert:hover {\n",
              "      background-color: #E2EBFA;\n",
              "      box-shadow: 0px 1px 2px rgba(60, 64, 67, 0.3), 0px 1px 3px 1px rgba(60, 64, 67, 0.15);\n",
              "      fill: #174EA6;\n",
              "    }\n",
              "\n",
              "    [theme=dark] .colab-df-convert {\n",
              "      background-color: #3B4455;\n",
              "      fill: #D2E3FC;\n",
              "    }\n",
              "\n",
              "    [theme=dark] .colab-df-convert:hover {\n",
              "      background-color: #434B5C;\n",
              "      box-shadow: 0px 1px 3px 1px rgba(0, 0, 0, 0.15);\n",
              "      filter: drop-shadow(0px 1px 2px rgba(0, 0, 0, 0.3));\n",
              "      fill: #FFFFFF;\n",
              "    }\n",
              "  </style>\n",
              "\n",
              "      <script>\n",
              "        const buttonEl =\n",
              "          document.querySelector('#df-ee9d2340-0e70-475f-b478-c6f565bd8708 button.colab-df-convert');\n",
              "        buttonEl.style.display =\n",
              "          google.colab.kernel.accessAllowed ? 'block' : 'none';\n",
              "\n",
              "        async function convertToInteractive(key) {\n",
              "          const element = document.querySelector('#df-ee9d2340-0e70-475f-b478-c6f565bd8708');\n",
              "          const dataTable =\n",
              "            await google.colab.kernel.invokeFunction('convertToInteractive',\n",
              "                                                     [key], {});\n",
              "          if (!dataTable) return;\n",
              "\n",
              "          const docLinkHtml = 'Like what you see? Visit the ' +\n",
              "            '<a target=\"_blank\" href=https://colab.research.google.com/notebooks/data_table.ipynb>data table notebook</a>'\n",
              "            + ' to learn more about interactive tables.';\n",
              "          element.innerHTML = '';\n",
              "          dataTable['output_type'] = 'display_data';\n",
              "          await google.colab.output.renderOutput(dataTable, element);\n",
              "          const docLink = document.createElement('div');\n",
              "          docLink.innerHTML = docLinkHtml;\n",
              "          element.appendChild(docLink);\n",
              "        }\n",
              "      </script>\n",
              "    </div>\n",
              "  </div>\n",
              "  "
            ]
          },
          "metadata": {},
          "execution_count": 39
        }
      ]
    },
    {
      "cell_type": "code",
      "source": [
        "calculate_mean_scores(gold_std_dict,comb_fixed_sw)"
      ],
      "metadata": {
        "colab": {
          "base_uri": "https://localhost:8080/",
          "height": 206
        },
        "id": "tEijtOOx9VlA",
        "outputId": "3947965c-bfdb-4cbd-9168-070af25ad2b5"
      },
      "execution_count": null,
      "outputs": [
        {
          "output_type": "execute_result",
          "data": {
            "text/plain": [
              "                precision  recall    F1  support CI Precision  CI Recall  \\\n",
              "Boundary             0.78    0.77  0.77     6476    0.77-0.79  0.76-0.78   \n",
              "Bcubed               0.86    0.90  0.84     6476    0.85-0.87  0.89-0.91   \n",
              "WindowDiff           0.72    0.72  0.72     6476    0.71-0.73  0.71-0.73   \n",
              "Block                0.60    0.59  0.60     6476    0.59-0.61   0.58-0.6   \n",
              "Weighted Block       0.69    0.68  0.68     6476     0.68-0.7  0.67-0.69   \n",
              "\n",
              "                    CI F1  \n",
              "Boundary        0.76-0.78  \n",
              "Bcubed          0.83-0.85  \n",
              "WindowDiff      0.71-0.73  \n",
              "Block           0.59-0.61  \n",
              "Weighted Block  0.67-0.69  "
            ],
            "text/html": [
              "\n",
              "  <div id=\"df-589508e9-aa35-4710-8b25-a4610d8c8478\">\n",
              "    <div class=\"colab-df-container\">\n",
              "      <div>\n",
              "<style scoped>\n",
              "    .dataframe tbody tr th:only-of-type {\n",
              "        vertical-align: middle;\n",
              "    }\n",
              "\n",
              "    .dataframe tbody tr th {\n",
              "        vertical-align: top;\n",
              "    }\n",
              "\n",
              "    .dataframe thead th {\n",
              "        text-align: right;\n",
              "    }\n",
              "</style>\n",
              "<table border=\"1\" class=\"dataframe\">\n",
              "  <thead>\n",
              "    <tr style=\"text-align: right;\">\n",
              "      <th></th>\n",
              "      <th>precision</th>\n",
              "      <th>recall</th>\n",
              "      <th>F1</th>\n",
              "      <th>support</th>\n",
              "      <th>CI Precision</th>\n",
              "      <th>CI Recall</th>\n",
              "      <th>CI F1</th>\n",
              "    </tr>\n",
              "  </thead>\n",
              "  <tbody>\n",
              "    <tr>\n",
              "      <th>Boundary</th>\n",
              "      <td>0.78</td>\n",
              "      <td>0.77</td>\n",
              "      <td>0.77</td>\n",
              "      <td>6476</td>\n",
              "      <td>0.77-0.79</td>\n",
              "      <td>0.76-0.78</td>\n",
              "      <td>0.76-0.78</td>\n",
              "    </tr>\n",
              "    <tr>\n",
              "      <th>Bcubed</th>\n",
              "      <td>0.86</td>\n",
              "      <td>0.90</td>\n",
              "      <td>0.84</td>\n",
              "      <td>6476</td>\n",
              "      <td>0.85-0.87</td>\n",
              "      <td>0.89-0.91</td>\n",
              "      <td>0.83-0.85</td>\n",
              "    </tr>\n",
              "    <tr>\n",
              "      <th>WindowDiff</th>\n",
              "      <td>0.72</td>\n",
              "      <td>0.72</td>\n",
              "      <td>0.72</td>\n",
              "      <td>6476</td>\n",
              "      <td>0.71-0.73</td>\n",
              "      <td>0.71-0.73</td>\n",
              "      <td>0.71-0.73</td>\n",
              "    </tr>\n",
              "    <tr>\n",
              "      <th>Block</th>\n",
              "      <td>0.60</td>\n",
              "      <td>0.59</td>\n",
              "      <td>0.60</td>\n",
              "      <td>6476</td>\n",
              "      <td>0.59-0.61</td>\n",
              "      <td>0.58-0.6</td>\n",
              "      <td>0.59-0.61</td>\n",
              "    </tr>\n",
              "    <tr>\n",
              "      <th>Weighted Block</th>\n",
              "      <td>0.69</td>\n",
              "      <td>0.68</td>\n",
              "      <td>0.68</td>\n",
              "      <td>6476</td>\n",
              "      <td>0.68-0.7</td>\n",
              "      <td>0.67-0.69</td>\n",
              "      <td>0.67-0.69</td>\n",
              "    </tr>\n",
              "  </tbody>\n",
              "</table>\n",
              "</div>\n",
              "      <button class=\"colab-df-convert\" onclick=\"convertToInteractive('df-589508e9-aa35-4710-8b25-a4610d8c8478')\"\n",
              "              title=\"Convert this dataframe to an interactive table.\"\n",
              "              style=\"display:none;\">\n",
              "        \n",
              "  <svg xmlns=\"http://www.w3.org/2000/svg\" height=\"24px\"viewBox=\"0 0 24 24\"\n",
              "       width=\"24px\">\n",
              "    <path d=\"M0 0h24v24H0V0z\" fill=\"none\"/>\n",
              "    <path d=\"M18.56 5.44l.94 2.06.94-2.06 2.06-.94-2.06-.94-.94-2.06-.94 2.06-2.06.94zm-11 1L8.5 8.5l.94-2.06 2.06-.94-2.06-.94L8.5 2.5l-.94 2.06-2.06.94zm10 10l.94 2.06.94-2.06 2.06-.94-2.06-.94-.94-2.06-.94 2.06-2.06.94z\"/><path d=\"M17.41 7.96l-1.37-1.37c-.4-.4-.92-.59-1.43-.59-.52 0-1.04.2-1.43.59L10.3 9.45l-7.72 7.72c-.78.78-.78 2.05 0 2.83L4 21.41c.39.39.9.59 1.41.59.51 0 1.02-.2 1.41-.59l7.78-7.78 2.81-2.81c.8-.78.8-2.07 0-2.86zM5.41 20L4 18.59l7.72-7.72 1.47 1.35L5.41 20z\"/>\n",
              "  </svg>\n",
              "      </button>\n",
              "      \n",
              "  <style>\n",
              "    .colab-df-container {\n",
              "      display:flex;\n",
              "      flex-wrap:wrap;\n",
              "      gap: 12px;\n",
              "    }\n",
              "\n",
              "    .colab-df-convert {\n",
              "      background-color: #E8F0FE;\n",
              "      border: none;\n",
              "      border-radius: 50%;\n",
              "      cursor: pointer;\n",
              "      display: none;\n",
              "      fill: #1967D2;\n",
              "      height: 32px;\n",
              "      padding: 0 0 0 0;\n",
              "      width: 32px;\n",
              "    }\n",
              "\n",
              "    .colab-df-convert:hover {\n",
              "      background-color: #E2EBFA;\n",
              "      box-shadow: 0px 1px 2px rgba(60, 64, 67, 0.3), 0px 1px 3px 1px rgba(60, 64, 67, 0.15);\n",
              "      fill: #174EA6;\n",
              "    }\n",
              "\n",
              "    [theme=dark] .colab-df-convert {\n",
              "      background-color: #3B4455;\n",
              "      fill: #D2E3FC;\n",
              "    }\n",
              "\n",
              "    [theme=dark] .colab-df-convert:hover {\n",
              "      background-color: #434B5C;\n",
              "      box-shadow: 0px 1px 3px 1px rgba(0, 0, 0, 0.15);\n",
              "      filter: drop-shadow(0px 1px 2px rgba(0, 0, 0, 0.3));\n",
              "      fill: #FFFFFF;\n",
              "    }\n",
              "  </style>\n",
              "\n",
              "      <script>\n",
              "        const buttonEl =\n",
              "          document.querySelector('#df-589508e9-aa35-4710-8b25-a4610d8c8478 button.colab-df-convert');\n",
              "        buttonEl.style.display =\n",
              "          google.colab.kernel.accessAllowed ? 'block' : 'none';\n",
              "\n",
              "        async function convertToInteractive(key) {\n",
              "          const element = document.querySelector('#df-589508e9-aa35-4710-8b25-a4610d8c8478');\n",
              "          const dataTable =\n",
              "            await google.colab.kernel.invokeFunction('convertToInteractive',\n",
              "                                                     [key], {});\n",
              "          if (!dataTable) return;\n",
              "\n",
              "          const docLinkHtml = 'Like what you see? Visit the ' +\n",
              "            '<a target=\"_blank\" href=https://colab.research.google.com/notebooks/data_table.ipynb>data table notebook</a>'\n",
              "            + ' to learn more about interactive tables.';\n",
              "          element.innerHTML = '';\n",
              "          dataTable['output_type'] = 'display_data';\n",
              "          await google.colab.output.renderOutput(dataTable, element);\n",
              "          const docLink = document.createElement('div');\n",
              "          docLink.innerHTML = docLinkHtml;\n",
              "          element.appendChild(docLink);\n",
              "        }\n",
              "      </script>\n",
              "    </div>\n",
              "  </div>\n",
              "  "
            ]
          },
          "metadata": {},
          "execution_count": 40
        }
      ]
    },
    {
      "cell_type": "code",
      "source": [
        "ett_lenghts = [x[1]-x[0] for x,y in all_etts]\n",
        "print(np.mean(ett_lenghts))"
      ],
      "metadata": {
        "colab": {
          "base_uri": "https://localhost:8080/"
        },
        "id": "4lv4vA_iFwWm",
        "outputId": "dd008602-4fbf-40c2-a52b-87e3682b651e"
      },
      "execution_count": null,
      "outputs": [
        {
          "output_type": "stream",
          "name": "stdout",
          "text": [
            "20.50877192982456\n"
          ]
        }
      ]
    },
    {
      "cell_type": "code",
      "source": [
        "sum(ett_lenghts)"
      ],
      "metadata": {
        "colab": {
          "base_uri": "https://localhost:8080/"
        },
        "id": "tVJNLMWoGqaY",
        "outputId": "eb481ad9-f23f-4572-c3af-104395339437"
      },
      "execution_count": null,
      "outputs": [
        {
          "output_type": "execute_result",
          "data": {
            "text/plain": [
              "1169"
            ]
          },
          "metadata": {},
          "execution_count": 158
        }
      ]
    },
    {
      "cell_type": "code",
      "source": [
        "new_preds = {}\n",
        "all_etts = []\n",
        "for stream,preds in prediction_json_text_switch_start_corp2.items():\n",
        "  gs_s = gold_std_dict[stream]\n",
        "  new_ett,fixed = find_indexes_of_ett(preds,gs_s, True)\n",
        "  if new_ett:\n",
        "    ett_l = new_ett[0][0][1] - new_ett[0][0][0]\n",
        "    new_preds[stream] = fixed\n",
        "    all_etts += new_ett"
      ],
      "metadata": {
        "id": "m4zNRhEHe4ML"
      },
      "execution_count": null,
      "outputs": []
    },
    {
      "cell_type": "code",
      "source": [
        "ett_lenghts = [x[1]-x[0] for x,y in all_etts]\n",
        "print(np.mean(ett_lenghts))"
      ],
      "metadata": {
        "colab": {
          "base_uri": "https://localhost:8080/"
        },
        "outputId": "0a8e1bdd-9f73-4024-f110-251aeb272779",
        "id": "gSb61Q0Be4MV"
      },
      "execution_count": null,
      "outputs": [
        {
          "output_type": "stream",
          "name": "stdout",
          "text": [
            "19.60377358490566\n"
          ]
        }
      ]
    },
    {
      "cell_type": "code",
      "source": [
        "sum(ett_lenghts)"
      ],
      "metadata": {
        "colab": {
          "base_uri": "https://localhost:8080/"
        },
        "outputId": "0d7830f7-9235-4226-da69-e1b267e68274",
        "id": "H1XrLVsae4MW"
      },
      "execution_count": null,
      "outputs": [
        {
          "output_type": "execute_result",
          "data": {
            "text/plain": [
              "1039"
            ]
          },
          "metadata": {},
          "execution_count": 162
        }
      ]
    },
    {
      "cell_type": "code",
      "source": [
        "new_preds = {}\n",
        "all_etts = []\n",
        "for stream,preds in prediction_json_comb.items():\n",
        "  gs_s = gold_std_dict[stream]\n",
        "  new_ett,fixed = find_indexes_of_ett(preds,gs_s, True)\n",
        "  if new_ett:\n",
        "    ett_l = new_ett[0][0][1] - new_ett[0][0][0]\n",
        "    new_preds[stream] = fixed\n",
        "    all_etts += new_ett"
      ],
      "metadata": {
        "id": "bKjqJZHjfFGg"
      },
      "execution_count": null,
      "outputs": []
    },
    {
      "cell_type": "code",
      "source": [
        "ett_lenghts = [x[1]-x[0] for x,y in all_etts]\n",
        "print(np.mean(ett_lenghts))"
      ],
      "metadata": {
        "colab": {
          "base_uri": "https://localhost:8080/"
        },
        "outputId": "b681f72f-c3a3-40b7-9bc6-de07e8858287",
        "id": "DrtIA5skfFGi"
      },
      "execution_count": null,
      "outputs": [
        {
          "output_type": "stream",
          "name": "stdout",
          "text": [
            "22.381818181818183\n"
          ]
        }
      ]
    },
    {
      "cell_type": "code",
      "source": [
        "sum(ett_lenghts)"
      ],
      "metadata": {
        "colab": {
          "base_uri": "https://localhost:8080/"
        },
        "outputId": "f34b1bf7-8bb2-4137-bc7c-d732352ba76b",
        "id": "9M8Z15a5fFGk"
      },
      "execution_count": null,
      "outputs": [
        {
          "output_type": "execute_result",
          "data": {
            "text/plain": [
              "1231"
            ]
          },
          "metadata": {},
          "execution_count": 166
        }
      ]
    },
    {
      "cell_type": "code",
      "source": [
        "prediction_json_im_noswitch_corp2"
      ],
      "metadata": {
        "colab": {
          "base_uri": "https://localhost:8080/"
        },
        "id": "VYCEpIaNHhzl",
        "outputId": "461c2cdc-57c4-41aa-e051-6f25b8f07c9c"
      },
      "execution_count": null,
      "outputs": [
        {
          "output_type": "execute_result",
          "data": {
            "text/plain": [
              "0.04652921509313804"
            ]
          },
          "metadata": {},
          "execution_count": 141
        }
      ]
    },
    {
      "cell_type": "code",
      "source": [
        "new_preds = {}\n",
        "all_etts = []\n",
        "for stream,preds in prediction_json_comb.items():\n",
        "  gs_s = gold_std_dict[stream]\n",
        "  new_ett,fixed = find_indexes_of_ett(preds,gs_s, True)\n",
        "  if new_ett:\n",
        "    ett_l = new_ett[0][0][1] - new_ett[0][0][0]\n",
        "    new_preds[stream] = fixed\n",
        "    all_etts += new_ett"
      ],
      "metadata": {
        "id": "QLlDStkOu8ZP"
      },
      "execution_count": null,
      "outputs": []
    },
    {
      "cell_type": "code",
      "source": [
        "ett_lenghts = [x[1]-x[0] for x,y in all_etts]\n",
        "print(np.mean(ett_lenghts))"
      ],
      "metadata": {
        "colab": {
          "base_uri": "https://localhost:8080/"
        },
        "outputId": "9a874c1f-fc0f-43da-e4f3-3a306cbf642b",
        "id": "AK8Xfiyju8ZR"
      },
      "execution_count": null,
      "outputs": [
        {
          "output_type": "stream",
          "name": "stdout",
          "text": [
            "20.630769230769232\n"
          ]
        }
      ]
    },
    {
      "cell_type": "code",
      "source": [
        "sum(ett_lenghts)"
      ],
      "metadata": {
        "colab": {
          "base_uri": "https://localhost:8080/"
        },
        "outputId": "62c63882-05bc-49ca-b263-e2150ae5bcdf",
        "id": "8OR_5GGZu8ZS"
      },
      "execution_count": null,
      "outputs": [
        {
          "output_type": "execute_result",
          "data": {
            "text/plain": [
              "1341"
            ]
          },
          "metadata": {},
          "execution_count": 196
        }
      ]
    },
    {
      "cell_type": "markdown",
      "source": [
        "# In depth look in classification scores"
      ],
      "metadata": {
        "id": "hN1IWO48zMj8"
      }
    },
    {
      "cell_type": "markdown",
      "source": [
        "### Weighted Block / Doc F1"
      ],
      "metadata": {
        "id": "qZ4atMPezrVH"
      }
    },
    {
      "cell_type": "markdown",
      "source": [
        "Change `IoU_TruePositives()` function so that it now returns the doc_id, true positive sets and true positive score for analysis "
      ],
      "metadata": {
        "id": "-ECsoEks4l7h"
      }
    },
    {
      "cell_type": "code",
      "source": [
        "def IoU_TruePositives(t,h, doc_id):\n",
        "    '''A True Positive is a pair h_block, t_block with an IoU>.5.\n",
        "    This function returns the sum of all IoUs(h_block,t_block) for these bvlocks in t and h.'''\n",
        "    def IoU(S,T):\n",
        "        '''Jaccard similarity between sets S and T'''\n",
        "        return len(S&T)/len(S|T)\n",
        "    def get_docs(t):\n",
        "        '''Get the set of documents (where each document is a set of pagenumbers)'''\n",
        "        return {frozenset(S) for S in make_index_doc_lengths(t).values()}\n",
        "    def find_match(S,Candidates):\n",
        "        '''Finds, if it exists,  the unique T in Candidates such that IoU(S,T) >.5'''\n",
        "        return [T for T in Candidates if IoU(S,T) >.5]\n",
        "    t,h= get_docs(t), get_docs(h) # switch to set of docs representation\n",
        "    return [(doc_id,S,IoU(S,find_match(S,t)[0])) for S in h if find_match(S,t)]"
      ],
      "metadata": {
        "id": "66_tJ1_jfzyg"
      },
      "execution_count": null,
      "outputs": []
    },
    {
      "cell_type": "markdown",
      "source": [
        "Add IoU scores per stream to list"
      ],
      "metadata": {
        "id": "vGwZG43p4yJG"
      }
    },
    {
      "cell_type": "code",
      "source": [
        "IoU_tp_normal = []\n",
        "IoU_tp_topk = []\n",
        "doc_id = 0\n",
        "for stream, normal in prediction_normal_corp2.items():\n",
        "  gs = gold_std_dict[stream]\n",
        "  topk = prediction_topn_corp2[stream]\n",
        "  normal_pred = prediction_normal_corp2[stream]\n",
        "  IoU_tp_topk += IoU_TruePositives(bin_to_length_list(gs),bin_to_length_list(topk),doc_id)\n",
        "  IoU_tp_normal += IoU_TruePositives(bin_to_length_list(gs),bin_to_length_list(normal),doc_id)\n",
        "\n",
        "  #keep track of doc_id so that different sets are properly split and not\n",
        "  #seen as the same\n",
        "  doc_id +=1\n"
      ],
      "metadata": {
        "id": "zw1MIt108oF3"
      },
      "execution_count": null,
      "outputs": []
    },
    {
      "cell_type": "markdown",
      "source": [
        "Total amount of predictions for normal and top-k classification"
      ],
      "metadata": {
        "id": "x3ZxgvyZ48QG"
      }
    },
    {
      "cell_type": "code",
      "source": [
        "tot_1_normal = sum([sum(y) for y in prediction_normal_corp2.values()])\n",
        "tot_1_topk = sum([sum(y) for y in prediction_topn_corp2.values()])\n",
        "print(tot_1_normal,tot_1_topk)"
      ],
      "metadata": {
        "colab": {
          "base_uri": "https://localhost:8080/"
        },
        "id": "-8EgdJKojXvn",
        "outputId": "502af1b6-85ab-4c88-fd83-542d78551dff"
      },
      "execution_count": null,
      "outputs": [
        {
          "output_type": "stream",
          "name": "stdout",
          "text": [
            "6008.0 6476.0\n"
          ]
        }
      ]
    },
    {
      "cell_type": "code",
      "source": [
        "# Look at all changed sets.\n",
        "#Total of 2234 different sets (i.e. true positives)\n",
        "different_total = list(set(IoU_tp_topk).symmetric_difference(set(IoU_tp_normal)))\n",
        "new = list(set(IoU_tp_topk) -set(IoU_tp_normal))\n",
        "changed = list(set(IoU_tp_normal) -set(IoU_tp_topk))\n",
        "print(len(different_total),len(new),len(changed))\n",
        "avg_len = np.mean([len(s[1]) for s in new])\n",
        "print(avg_len)\n",
        "avg_len = np.mean([len(s[1]) for s in changed])\n",
        "print(avg_len)\n",
        "avg_iou_score = np.mean([s[2] for s in new])\n",
        "print(avg_iou_score)\n",
        "avg_iou_score = np.mean([s[2] for s in changed])\n",
        "print(avg_iou_score)"
      ],
      "metadata": {
        "colab": {
          "base_uri": "https://localhost:8080/"
        },
        "id": "NR3m9CTygHxt",
        "outputId": "6a9be0eb-ce0d-440f-de85-b39505a0976d"
      },
      "execution_count": null,
      "outputs": [
        {
          "output_type": "stream",
          "name": "stdout",
          "text": [
            "2233 1701 532\n",
            "4.554379776601999\n",
            "9.847744360902256\n",
            "0.9623459622139406\n",
            "0.7312303363947863\n"
          ]
        }
      ]
    },
    {
      "cell_type": "code",
      "source": [
        "len_less_than2 = sum([s[2] for s in IoU_tp_normal if len(s[1]) <= 2])\n",
        "len_more_than2 = sum([s[2] for s in IoU_tp_normal if len(s[1]) > 2])\n",
        "print('normal_scores')\n",
        "print('true predicted docs with less than 2 pages: ', len_less_than2)\n",
        "print('more than two pages: ',len_more_than2)\n",
        "print('total true positives: ' ,len_less_than2+len_more_than2)\n",
        "\n",
        "len_less_than2 = sum([s[2] for s in IoU_tp_topk if len(s[1]) <= 2])\n",
        "len_more_than2 = sum([s[2] for s in IoU_tp_topk if len(s[1]) > 2])\n",
        "print('top-k scores')\n",
        "print('true predicted docs with less than 2 pages: ',len_less_than2)\n",
        "print('more than two pages: ',len_more_than2)\n",
        "print('total true positives: ',len_less_than2+len_more_than2)"
      ],
      "metadata": {
        "colab": {
          "base_uri": "https://localhost:8080/"
        },
        "id": "Ec8uxUk3LtuA",
        "outputId": "4b65571b-2f98-4220-95b6-6341c1c905ca"
      },
      "execution_count": null,
      "outputs": [
        {
          "output_type": "stream",
          "name": "stdout",
          "text": [
            "normal_scores\n",
            "true predicted docs with less than 2 pages:  2664.0000000000014\n",
            "more than two pages:  1810.0804693331484\n",
            "total true positives:  4474.08046933315\n",
            "top-k scores\n",
            "true predicted docs with less than 2 pages:  3497.666666666664\n",
            "more than two pages:  2224.349745430369\n",
            "total true positives:  5722.016412097033\n"
          ]
        }
      ]
    },
    {
      "cell_type": "markdown",
      "source": [
        "### Boundary and Page F1"
      ],
      "metadata": {
        "id": "p29Z4aeyzzp8"
      }
    },
    {
      "cell_type": "code",
      "source": [
        "def get_base_met(gs, pred):\n",
        "  \"\"\"\n",
        "  Small function to get base metric scores for boundary classification \n",
        "  \"\"\"\n",
        "  tot_1 = sum(gs)\n",
        "  comb = pred - gs\n",
        "  fn = len(np.where(comb == -1)[0])\n",
        "  fp = len(np.where(comb == 1)[0])\n",
        "  tp = tot_1 - fn\n",
        "  tn = len(gs) - tot_1 - fn\n",
        "  return {'tp' :tp, 'tn' :tn,'fp' :fp,'fn':fn}"
      ],
      "metadata": {
        "id": "hQ-JkRyN-Put"
      },
      "execution_count": null,
      "outputs": []
    },
    {
      "cell_type": "code",
      "source": [
        "from collections import Counter\n",
        "#get scores for normal and top-k\n",
        "tp_normal = [get_base_met(gold_std_dict[x],prediction_normal_corp2[x]) for x in prediction_normal_corp2]\n",
        "tp_topk = [get_base_met(gold_std_dict[x],prediction_topn_corp2[x]) for x in prediction_topn_corp2]"
      ],
      "metadata": {
        "id": "Q46Upx5B176F"
      },
      "execution_count": null,
      "outputs": []
    },
    {
      "cell_type": "markdown",
      "source": [
        "Count all scores up"
      ],
      "metadata": {
        "id": "spm_1cMB582i"
      }
    },
    {
      "cell_type": "code",
      "source": [
        "normal_tot = Counter()\n",
        "topk_tot = Counter()\n",
        "for i in range(len(tp_normal)):\n",
        "  normal_tot.update(tp_normal[i])\n",
        "  topk_tot.update(tp_topk[i])"
      ],
      "metadata": {
        "id": "rurdrwFlmiVj"
      },
      "execution_count": null,
      "outputs": []
    },
    {
      "cell_type": "code",
      "source": [
        "normal_tot"
      ],
      "metadata": {
        "colab": {
          "base_uri": "https://localhost:8080/"
        },
        "id": "FCb800zomyUj",
        "outputId": "0f1b6dc4-e5f7-4516-c40b-b6ec2e160877"
      },
      "execution_count": null,
      "outputs": [
        {
          "output_type": "execute_result",
          "data": {
            "text/plain": [
              "Counter({'tp': 5769, 'tn': 17941, 'fp': 239, 'fn': 707})"
            ]
          },
          "metadata": {},
          "execution_count": 82
        }
      ]
    },
    {
      "cell_type": "code",
      "source": [
        "topk_tot"
      ],
      "metadata": {
        "colab": {
          "base_uri": "https://localhost:8080/"
        },
        "id": "KHueOqvUmz9b",
        "outputId": "be9bb409-0983-437c-bb20-df2e5f0f5301"
      },
      "execution_count": null,
      "outputs": [
        {
          "output_type": "execute_result",
          "data": {
            "text/plain": [
              "Counter({'tp': 5999, 'tn': 18171, 'fp': 477, 'fn': 477})"
            ]
          },
          "metadata": {},
          "execution_count": 83
        }
      ]
    },
    {
      "cell_type": "code",
      "source": [
        "sum([sum(x) for x in gold_std_dict.values()])"
      ],
      "metadata": {
        "colab": {
          "base_uri": "https://localhost:8080/"
        },
        "id": "gOHFcJ6p9shm",
        "outputId": "1083f5ed-ce09-4fd4-a4ed-d6480f3837b8"
      },
      "execution_count": null,
      "outputs": [
        {
          "output_type": "execute_result",
          "data": {
            "text/plain": [
              "6476"
            ]
          },
          "metadata": {},
          "execution_count": 84
        }
      ]
    },
    {
      "cell_type": "markdown",
      "source": [
        "# Calculating distance between VGG representations\n",
        " "
      ],
      "metadata": {
        "id": "Ub9cYdCSzdiU"
      }
    },
    {
      "cell_type": "code",
      "source": [
        "from collections import Counter\n",
        "from tqdm import tqdm\n",
        "used_corpus = test_data\n",
        "used_standard = gold_std_dict\n",
        "\n",
        "total_dist_counter = Counter()\n",
        "individual_dists = {}\n",
        "for doc_id, content in tqdm(used_corpus.groupby('name')):\n",
        "    repl_doc_id = doc_id.replace('__concatenated','')\n",
        "    corpus = content['corpus'].iloc[0]\n",
        "    gold_std = used_standard[repl_doc_id]\n",
        "    n_docs = sum(gold_std)\n",
        "    n_pages = len(gold_std)\n",
        "    corpus_im_folder = '/content/gdrive/MyDrive/master_thesis/new_corpus/VGG_vectors'.format(corpus+1)\n",
        "    \n",
        "    im_page_vectors_path = os.path.join(corpus_im_folder,doc_id+'.npy')\n",
        "    if not os.path.exists(im_page_vectors_path):\n",
        "      continue\n",
        "    \n",
        "    im_page_vectors = np.load(im_page_vectors_path)\n",
        "    dist_dict_all = distance_against_eachother(im_page_vectors, gold_std)\n",
        "    individual_dists[doc_id] = dist_dict_all\n",
        "    total_dist_counter.update(dist_dict_all)"
      ],
      "metadata": {
        "colab": {
          "base_uri": "https://localhost:8080/",
          "height": 397
        },
        "id": "tmr-MM7MKgjJ",
        "outputId": "3422234f-e696-4f58-96bd-3371559d1c1c"
      },
      "execution_count": null,
      "outputs": [
        {
          "output_type": "stream",
          "name": "stderr",
          "text": [
            " 29%|██▉       | 10/34 [01:04<02:34,  6.45s/it]\n"
          ]
        },
        {
          "output_type": "error",
          "ename": "KeyboardInterrupt",
          "evalue": "ignored",
          "traceback": [
            "\u001b[0;31m---------------------------------------------------------------------------\u001b[0m",
            "\u001b[0;31mKeyboardInterrupt\u001b[0m                         Traceback (most recent call last)",
            "\u001b[0;32m<ipython-input-158-5690ae0d9a3e>\u001b[0m in \u001b[0;36m<module>\u001b[0;34m\u001b[0m\n\u001b[1;32m     19\u001b[0m \u001b[0;34m\u001b[0m\u001b[0m\n\u001b[1;32m     20\u001b[0m     \u001b[0mim_page_vectors\u001b[0m \u001b[0;34m=\u001b[0m \u001b[0mnp\u001b[0m\u001b[0;34m.\u001b[0m\u001b[0mload\u001b[0m\u001b[0;34m(\u001b[0m\u001b[0mim_page_vectors_path\u001b[0m\u001b[0;34m)\u001b[0m\u001b[0;34m\u001b[0m\u001b[0;34m\u001b[0m\u001b[0m\n\u001b[0;32m---> 21\u001b[0;31m     \u001b[0mdist_dict_all\u001b[0m \u001b[0;34m=\u001b[0m \u001b[0mdistance_against_eachother\u001b[0m\u001b[0;34m(\u001b[0m\u001b[0mim_page_vectors\u001b[0m\u001b[0;34m,\u001b[0m \u001b[0mgold_std\u001b[0m\u001b[0;34m)\u001b[0m\u001b[0;34m\u001b[0m\u001b[0;34m\u001b[0m\u001b[0m\n\u001b[0m\u001b[1;32m     22\u001b[0m     \u001b[0mindividual_dists\u001b[0m\u001b[0;34m[\u001b[0m\u001b[0mdoc_id\u001b[0m\u001b[0;34m]\u001b[0m \u001b[0;34m=\u001b[0m \u001b[0mdist_dict_all\u001b[0m\u001b[0;34m\u001b[0m\u001b[0;34m\u001b[0m\u001b[0m\n\u001b[1;32m     23\u001b[0m     \u001b[0mtotal_dist_counter\u001b[0m\u001b[0;34m.\u001b[0m\u001b[0mupdate\u001b[0m\u001b[0;34m(\u001b[0m\u001b[0mdist_dict_all\u001b[0m\u001b[0;34m)\u001b[0m\u001b[0;34m\u001b[0m\u001b[0;34m\u001b[0m\u001b[0m\n",
            "\u001b[0;32m<ipython-input-119-87c984536eba>\u001b[0m in \u001b[0;36mdistance_against_eachother\u001b[0;34m(vector_list, gold_standard)\u001b[0m\n\u001b[1;32m     17\u001b[0m       \u001b[0msame\u001b[0m \u001b[0;34m=\u001b[0m \u001b[0mvec_comparrison\u001b[0m\u001b[0;34m(\u001b[0m\u001b[0mvec\u001b[0m\u001b[0;34m,\u001b[0m\u001b[0mcurrent_vectors\u001b[0m\u001b[0;34m[\u001b[0m\u001b[0mi\u001b[0m\u001b[0;34m+\u001b[0m\u001b[0;36m1\u001b[0m\u001b[0;34m:\u001b[0m\u001b[0;34m]\u001b[0m\u001b[0;34m)\u001b[0m\u001b[0;34m\u001b[0m\u001b[0;34m\u001b[0m\u001b[0m\n\u001b[1;32m     18\u001b[0m       \u001b[0mbef\u001b[0m \u001b[0;34m=\u001b[0m \u001b[0mvec_comparrison\u001b[0m\u001b[0;34m(\u001b[0m\u001b[0mvec\u001b[0m\u001b[0;34m,\u001b[0m\u001b[0mvectors_before\u001b[0m\u001b[0;34m)\u001b[0m\u001b[0;34m\u001b[0m\u001b[0;34m\u001b[0m\u001b[0m\n\u001b[0;32m---> 19\u001b[0;31m       \u001b[0maft\u001b[0m \u001b[0;34m=\u001b[0m \u001b[0mvec_comparrison\u001b[0m\u001b[0;34m(\u001b[0m\u001b[0mvec\u001b[0m\u001b[0;34m,\u001b[0m\u001b[0mvectors_after\u001b[0m\u001b[0;34m)\u001b[0m\u001b[0;34m\u001b[0m\u001b[0;34m\u001b[0m\u001b[0m\n\u001b[0m\u001b[1;32m     20\u001b[0m       \u001b[0msame_doc\u001b[0m \u001b[0;34m+=\u001b[0m \u001b[0msame\u001b[0m\u001b[0;34m\u001b[0m\u001b[0;34m\u001b[0m\u001b[0m\n\u001b[1;32m     21\u001b[0m       \u001b[0mdiff_doc\u001b[0m \u001b[0;34m+=\u001b[0m \u001b[0;34m(\u001b[0m\u001b[0mbef\u001b[0m\u001b[0;34m+\u001b[0m\u001b[0maft\u001b[0m\u001b[0;34m)\u001b[0m \u001b[0;34m/\u001b[0m\u001b[0;36m2\u001b[0m\u001b[0;34m\u001b[0m\u001b[0;34m\u001b[0m\u001b[0m\n",
            "\u001b[0;32m<ipython-input-118-16343d208ed7>\u001b[0m in \u001b[0;36mvec_comparrison\u001b[0;34m(vector, vector_list)\u001b[0m\n\u001b[1;32m      5\u001b[0m       \u001b[0;32mif\u001b[0m \u001b[0;34m(\u001b[0m\u001b[0mvector\u001b[0m \u001b[0;34m==\u001b[0m \u001b[0mvec\u001b[0m\u001b[0;34m)\u001b[0m\u001b[0;34m.\u001b[0m\u001b[0mall\u001b[0m\u001b[0;34m(\u001b[0m\u001b[0;34m)\u001b[0m\u001b[0;34m:\u001b[0m\u001b[0;34m\u001b[0m\u001b[0;34m\u001b[0m\u001b[0m\n\u001b[1;32m      6\u001b[0m         \u001b[0;32mcontinue\u001b[0m\u001b[0;34m\u001b[0m\u001b[0;34m\u001b[0m\u001b[0m\n\u001b[0;32m----> 7\u001b[0;31m       \u001b[0mtot_dist\u001b[0m \u001b[0;34m+=\u001b[0m \u001b[0mdistance\u001b[0m\u001b[0;34m.\u001b[0m\u001b[0mcosine\u001b[0m\u001b[0;34m(\u001b[0m\u001b[0mvector\u001b[0m\u001b[0;34m,\u001b[0m \u001b[0mvec\u001b[0m\u001b[0;34m)\u001b[0m\u001b[0;34m\u001b[0m\u001b[0;34m\u001b[0m\u001b[0m\n\u001b[0m\u001b[1;32m      8\u001b[0m     \u001b[0;32mreturn\u001b[0m \u001b[0mtot_dist\u001b[0m \u001b[0;34m/\u001b[0m \u001b[0mlen\u001b[0m\u001b[0;34m(\u001b[0m\u001b[0mvector_list\u001b[0m\u001b[0;34m)\u001b[0m\u001b[0;34m\u001b[0m\u001b[0;34m\u001b[0m\u001b[0m\n\u001b[1;32m      9\u001b[0m   \u001b[0;32melse\u001b[0m\u001b[0;34m:\u001b[0m\u001b[0;34m\u001b[0m\u001b[0;34m\u001b[0m\u001b[0m\n",
            "\u001b[0;32m/usr/local/lib/python3.7/dist-packages/scipy/spatial/distance.py\u001b[0m in \u001b[0;36mcosine\u001b[0;34m(u, v, w)\u001b[0m\n\u001b[1;32m    745\u001b[0m     \u001b[0;31m#   or 'reflective correlation'\u001b[0m\u001b[0;34m\u001b[0m\u001b[0;34m\u001b[0m\u001b[0;34m\u001b[0m\u001b[0m\n\u001b[1;32m    746\u001b[0m     \u001b[0;31m# clamp the result to 0-2\u001b[0m\u001b[0;34m\u001b[0m\u001b[0;34m\u001b[0m\u001b[0;34m\u001b[0m\u001b[0m\n\u001b[0;32m--> 747\u001b[0;31m     \u001b[0;32mreturn\u001b[0m \u001b[0mmax\u001b[0m\u001b[0;34m(\u001b[0m\u001b[0;36m0\u001b[0m\u001b[0;34m,\u001b[0m \u001b[0mmin\u001b[0m\u001b[0;34m(\u001b[0m\u001b[0mcorrelation\u001b[0m\u001b[0;34m(\u001b[0m\u001b[0mu\u001b[0m\u001b[0;34m,\u001b[0m \u001b[0mv\u001b[0m\u001b[0;34m,\u001b[0m \u001b[0mw\u001b[0m\u001b[0;34m=\u001b[0m\u001b[0mw\u001b[0m\u001b[0;34m,\u001b[0m \u001b[0mcentered\u001b[0m\u001b[0;34m=\u001b[0m\u001b[0;32mFalse\u001b[0m\u001b[0;34m)\u001b[0m\u001b[0;34m,\u001b[0m \u001b[0;36m2.0\u001b[0m\u001b[0;34m)\u001b[0m\u001b[0;34m)\u001b[0m\u001b[0;34m\u001b[0m\u001b[0;34m\u001b[0m\u001b[0m\n\u001b[0m\u001b[1;32m    748\u001b[0m \u001b[0;34m\u001b[0m\u001b[0m\n\u001b[1;32m    749\u001b[0m \u001b[0;34m\u001b[0m\u001b[0m\n",
            "\u001b[0;31mKeyboardInterrupt\u001b[0m: "
          ]
        }
      ]
    },
    {
      "cell_type": "code",
      "source": [
        "for key,val in total_dist_counter.items():\n",
        "  print(key)\n",
        "  print(val / 34)"
      ],
      "metadata": {
        "colab": {
          "base_uri": "https://localhost:8080/"
        },
        "id": "5QbrcDNeCa_T",
        "outputId": "d6ec4df4-0c73-43a6-a854-3665de7d5fda"
      },
      "execution_count": null,
      "outputs": [
        {
          "output_type": "stream",
          "name": "stdout",
          "text": [
            "same_document\n",
            "0.2315279306885405\n",
            "different_document\n",
            "0.2357630071387904\n"
          ]
        }
      ]
    },
    {
      "cell_type": "code",
      "source": [
        "from scipy import stats\n",
        "same_doc = []\n",
        "diff_doc = []\n",
        "for key,val in individual_dists.items():\n",
        "  same_doc.append(val['same_document'])\n",
        "  diff_doc.append(val['different_document'])\n",
        "\n",
        "stats.ttest_ind(same_doc, diff_doc)"
      ],
      "metadata": {
        "colab": {
          "base_uri": "https://localhost:8080/"
        },
        "id": "3MkFJZ8JUufN",
        "outputId": "13e915ea-4243-4df3-bfbf-058201d81656"
      },
      "execution_count": null,
      "outputs": [
        {
          "output_type": "execute_result",
          "data": {
            "text/plain": [
              "Ttest_indResult(statistic=-0.3365771744819045, pvalue=0.737536818937613)"
            ]
          },
          "metadata": {},
          "execution_count": 134
        }
      ]
    },
    {
      "cell_type": "code",
      "source": [
        "diffs = pd.DataFrame(list(individual_dists.keys()), columns = ['stream'])\n",
        "diffs['same_doc'] = same_doc\n",
        "diffs['diff_doc'] = diff_doc\n",
        "diffs.to_csv('/content/gdrive/MyDrive/master_thesis/new_corpus/differences.csv', index = False)"
      ],
      "metadata": {
        "id": "lVStMk-5XITf"
      },
      "execution_count": null,
      "outputs": []
    },
    {
      "cell_type": "markdown",
      "source": [
        "# Testing multimodality\n"
      ],
      "metadata": {
        "id": "OI-BlHZKa6sN"
      }
    },
    {
      "cell_type": "markdown",
      "source": [
        "## Combining modalities"
      ],
      "metadata": {
        "id": "TIPdkwPRwevt"
      }
    },
    {
      "cell_type": "markdown",
      "source": [
        "#### Late fusion"
      ],
      "metadata": {
        "id": "wZa07ieD8TNw"
      }
    },
    {
      "cell_type": "markdown",
      "source": [
        "Finetuned"
      ],
      "metadata": {
        "id": "jMlJuN5bYnBh"
      }
    },
    {
      "cell_type": "code",
      "source": [
        "def combine_distlists(dl1,dl2, k1, k2, to_dist_mat = True):\n",
        "  n_pages = len(dl1)\n",
        "  combined_dl = np.zeros(n_pages)\n",
        "  for i in range(n_pages):\n",
        "    dl1_val = dl1[i]\n",
        "    dl2_val = dl2[i]\n",
        "\n",
        "    cmbd_val1 = np.power(dl1_val,k1)\n",
        "    cmbd_val2 = np.power(dl2_val,k2)\n",
        "\n",
        "    cmbd_val12 = cmbd_val1 * cmbd_val2\n",
        "    combined_dl[i] = cmbd_val12\n",
        "\n",
        "  dist_mat = np.zeros((n_pages+1,n_pages+1))\n",
        "\n",
        "  for i,dist in enumerate(combined_dl):\n",
        "    if i < n_pages:\n",
        "      dist_mat[i,i+1] = dist\n",
        "      dist_mat[i+1,i] = dist\n",
        "  if to_dist_mat:\n",
        "    return dist_mat\n",
        "\n",
        "  return combined_dl"
      ],
      "metadata": {
        "id": "FH2hH81GbFex"
      },
      "execution_count": null,
      "outputs": []
    },
    {
      "cell_type": "code",
      "source": [
        "all_res= pd.DataFrame(columns =['i','j','method','Boundary','PQ'])\n",
        "\n",
        "combined_dist_list_nsw ={}\n",
        "combined_dist_list_sw ={}\n",
        "combined_dist_list_sws ={}\n",
        "\n",
        "i = 1\n",
        "j = 1\n",
        "nsw_preds = {'bd' : [],'wb':[]}\n",
        "sw_preds = {'bd' : [],'wb':[]}\n",
        "sws_preds = {'bd' : [],'wb':[]}\n",
        "j = np.round(j,1)\n",
        "for doc,dl in dist_lists_noswitch_corp2.items():\n",
        "  n_docs = int(sum(gold_std_dict[doc]))\n",
        "  n_pages = len(gold_std_dict[doc])\n",
        "  c_mat = page_con_matrix(n_pages)\n",
        "\n",
        "  if n_pages > 1:\n",
        "    cluster = AgglomerativeClustering(n_clusters=n_docs, affinity='precomputed', linkage='average', connectivity=c_mat)  \n",
        "    text_dl = dist_lists_text_noswitch_corp2[doc]\n",
        "    combined_dist_list_nsw[doc] =  combine_distlists(dl,text_dl,i,j)\n",
        "    preds = length_list_to_bin(groups_to_lengths(cluster.fit_predict(combined_dist_list_nsw[doc])))\n",
        "    nsw_preds['bd'].append(f1(gold_std_dict[doc], preds))\n",
        "    nsw_preds['wb'].append(IoU_F1(bin_to_length_list(gold_std_dict[doc]), bin_to_length_list(preds)))\n",
        "\n",
        "    dl = dist_lists_switch_corp2[doc]\n",
        "    text_dl = dist_lists_text_switch_corp2[doc]\n",
        "    combined_dist_list_sw[doc] =  combine_distlists(dl,text_dl,i,j)\n",
        "    preds = length_list_to_bin(groups_to_lengths(cluster.fit_predict(combined_dist_list_sw[doc])))\n",
        "    sw_preds['bd'].append(f1(gold_std_dict[doc], preds))\n",
        "    sw_preds['wb'].append(IoU_F1(bin_to_length_list(gold_std_dict[doc]), bin_to_length_list(preds)))\n",
        "\n",
        "    dl =dist_lists_switch_start_corp2[doc]\n",
        "    text_dl = dist_lists_text_switch_start_corp2[doc]\n",
        "    combined_dist_list_sws[doc] =  combine_distlists(dl,text_dl,i,j)\n",
        "    preds = length_list_to_bin(groups_to_lengths(cluster.fit_predict(combined_dist_list_sws[doc])))\n",
        "    sws_preds['bd'].append(f1(gold_std_dict[doc], preds))\n",
        "    sws_preds['wb'].append(IoU_F1(bin_to_length_list(gold_std_dict[doc]), bin_to_length_list(preds)))\n",
        "  \n",
        "nsw_row = [i,j,'noswitch',np.mean(nsw_preds['bd']),np.mean(nsw_preds['wb'])]\n",
        "sw_row = [i,j,'switch',np.mean(sw_preds['bd']),np.mean(sw_preds['wb'])]\n",
        "sws_row = [i,j,'switch_start',np.mean(sws_preds['bd']),np.mean(sws_preds['wb'])]\n",
        "\n",
        "all_res.loc[len(all_res)] = nsw_row\n",
        "all_res.loc[len(all_res)] = sw_row\n",
        "all_res.loc[len(all_res)] = sws_row\n"
      ],
      "metadata": {
        "id": "DQt3EF9G8lr7"
      },
      "execution_count": null,
      "outputs": []
    },
    {
      "cell_type": "code",
      "source": [
        "all_res"
      ],
      "metadata": {
        "colab": {
          "base_uri": "https://localhost:8080/",
          "height": 143
        },
        "id": "vQdKPq9rG5fQ",
        "outputId": "b28a5e76-64c7-4d1e-92d4-5508ddf75c03"
      },
      "execution_count": null,
      "outputs": [
        {
          "output_type": "execute_result",
          "data": {
            "text/plain": [
              "   i  j        method  Boundary        PQ\n",
              "0  1  1      noswitch  0.573826  0.303456\n",
              "1  1  1        switch  0.637225  0.518613\n",
              "2  1  1  switch_start  0.648033  0.535067"
            ],
            "text/html": [
              "\n",
              "  <div id=\"df-85f7ded4-0caa-4ceb-b783-e347efea0dae\">\n",
              "    <div class=\"colab-df-container\">\n",
              "      <div>\n",
              "<style scoped>\n",
              "    .dataframe tbody tr th:only-of-type {\n",
              "        vertical-align: middle;\n",
              "    }\n",
              "\n",
              "    .dataframe tbody tr th {\n",
              "        vertical-align: top;\n",
              "    }\n",
              "\n",
              "    .dataframe thead th {\n",
              "        text-align: right;\n",
              "    }\n",
              "</style>\n",
              "<table border=\"1\" class=\"dataframe\">\n",
              "  <thead>\n",
              "    <tr style=\"text-align: right;\">\n",
              "      <th></th>\n",
              "      <th>i</th>\n",
              "      <th>j</th>\n",
              "      <th>method</th>\n",
              "      <th>Boundary</th>\n",
              "      <th>PQ</th>\n",
              "    </tr>\n",
              "  </thead>\n",
              "  <tbody>\n",
              "    <tr>\n",
              "      <th>0</th>\n",
              "      <td>1</td>\n",
              "      <td>1</td>\n",
              "      <td>noswitch</td>\n",
              "      <td>0.573826</td>\n",
              "      <td>0.303456</td>\n",
              "    </tr>\n",
              "    <tr>\n",
              "      <th>1</th>\n",
              "      <td>1</td>\n",
              "      <td>1</td>\n",
              "      <td>switch</td>\n",
              "      <td>0.637225</td>\n",
              "      <td>0.518613</td>\n",
              "    </tr>\n",
              "    <tr>\n",
              "      <th>2</th>\n",
              "      <td>1</td>\n",
              "      <td>1</td>\n",
              "      <td>switch_start</td>\n",
              "      <td>0.648033</td>\n",
              "      <td>0.535067</td>\n",
              "    </tr>\n",
              "  </tbody>\n",
              "</table>\n",
              "</div>\n",
              "      <button class=\"colab-df-convert\" onclick=\"convertToInteractive('df-85f7ded4-0caa-4ceb-b783-e347efea0dae')\"\n",
              "              title=\"Convert this dataframe to an interactive table.\"\n",
              "              style=\"display:none;\">\n",
              "        \n",
              "  <svg xmlns=\"http://www.w3.org/2000/svg\" height=\"24px\"viewBox=\"0 0 24 24\"\n",
              "       width=\"24px\">\n",
              "    <path d=\"M0 0h24v24H0V0z\" fill=\"none\"/>\n",
              "    <path d=\"M18.56 5.44l.94 2.06.94-2.06 2.06-.94-2.06-.94-.94-2.06-.94 2.06-2.06.94zm-11 1L8.5 8.5l.94-2.06 2.06-.94-2.06-.94L8.5 2.5l-.94 2.06-2.06.94zm10 10l.94 2.06.94-2.06 2.06-.94-2.06-.94-.94-2.06-.94 2.06-2.06.94z\"/><path d=\"M17.41 7.96l-1.37-1.37c-.4-.4-.92-.59-1.43-.59-.52 0-1.04.2-1.43.59L10.3 9.45l-7.72 7.72c-.78.78-.78 2.05 0 2.83L4 21.41c.39.39.9.59 1.41.59.51 0 1.02-.2 1.41-.59l7.78-7.78 2.81-2.81c.8-.78.8-2.07 0-2.86zM5.41 20L4 18.59l7.72-7.72 1.47 1.35L5.41 20z\"/>\n",
              "  </svg>\n",
              "      </button>\n",
              "      \n",
              "  <style>\n",
              "    .colab-df-container {\n",
              "      display:flex;\n",
              "      flex-wrap:wrap;\n",
              "      gap: 12px;\n",
              "    }\n",
              "\n",
              "    .colab-df-convert {\n",
              "      background-color: #E8F0FE;\n",
              "      border: none;\n",
              "      border-radius: 50%;\n",
              "      cursor: pointer;\n",
              "      display: none;\n",
              "      fill: #1967D2;\n",
              "      height: 32px;\n",
              "      padding: 0 0 0 0;\n",
              "      width: 32px;\n",
              "    }\n",
              "\n",
              "    .colab-df-convert:hover {\n",
              "      background-color: #E2EBFA;\n",
              "      box-shadow: 0px 1px 2px rgba(60, 64, 67, 0.3), 0px 1px 3px 1px rgba(60, 64, 67, 0.15);\n",
              "      fill: #174EA6;\n",
              "    }\n",
              "\n",
              "    [theme=dark] .colab-df-convert {\n",
              "      background-color: #3B4455;\n",
              "      fill: #D2E3FC;\n",
              "    }\n",
              "\n",
              "    [theme=dark] .colab-df-convert:hover {\n",
              "      background-color: #434B5C;\n",
              "      box-shadow: 0px 1px 3px 1px rgba(0, 0, 0, 0.15);\n",
              "      filter: drop-shadow(0px 1px 2px rgba(0, 0, 0, 0.3));\n",
              "      fill: #FFFFFF;\n",
              "    }\n",
              "  </style>\n",
              "\n",
              "      <script>\n",
              "        const buttonEl =\n",
              "          document.querySelector('#df-85f7ded4-0caa-4ceb-b783-e347efea0dae button.colab-df-convert');\n",
              "        buttonEl.style.display =\n",
              "          google.colab.kernel.accessAllowed ? 'block' : 'none';\n",
              "\n",
              "        async function convertToInteractive(key) {\n",
              "          const element = document.querySelector('#df-85f7ded4-0caa-4ceb-b783-e347efea0dae');\n",
              "          const dataTable =\n",
              "            await google.colab.kernel.invokeFunction('convertToInteractive',\n",
              "                                                     [key], {});\n",
              "          if (!dataTable) return;\n",
              "\n",
              "          const docLinkHtml = 'Like what you see? Visit the ' +\n",
              "            '<a target=\"_blank\" href=https://colab.research.google.com/notebooks/data_table.ipynb>data table notebook</a>'\n",
              "            + ' to learn more about interactive tables.';\n",
              "          element.innerHTML = '';\n",
              "          dataTable['output_type'] = 'display_data';\n",
              "          await google.colab.output.renderOutput(dataTable, element);\n",
              "          const docLink = document.createElement('div');\n",
              "          docLink.innerHTML = docLinkHtml;\n",
              "          element.appendChild(docLink);\n",
              "        }\n",
              "      </script>\n",
              "    </div>\n",
              "  </div>\n",
              "  "
            ]
          },
          "metadata": {},
          "execution_count": 56
        }
      ]
    },
    {
      "cell_type": "markdown",
      "source": [
        "Pretrained"
      ],
      "metadata": {
        "id": "341dIEUH8Rov"
      }
    },
    {
      "cell_type": "code",
      "source": [
        "gold_std_dict = {}\n",
        "\n",
        "for doc_id,content in test_data.groupby('name'):\n",
        "    repl_doc_id = doc_id.replace('__concatenated','')\n",
        "    content = content.sort_values(by='page')\n",
        "    gold_std = content['label'].values\n",
        "    gold_std_dict[repl_doc_id] = gold_std"
      ],
      "metadata": {
        "id": "8_MKcYE3yyq9"
      },
      "execution_count": null,
      "outputs": []
    },
    {
      "cell_type": "markdown",
      "source": [
        "late fusion"
      ],
      "metadata": {
        "id": "KWy5894NYSHM"
      }
    },
    {
      "cell_type": "code",
      "source": [
        "\n",
        "all_res= pd.DataFrame(columns =['i','j','method','Boundary','PQ'])\n",
        "\n",
        "combined_dist_list_nsw ={}\n",
        "combined_dist_list_sw ={}\n",
        "combined_dist_list_sws ={}\n",
        "\n",
        "nsw_preds = {}\n",
        "sw_preds = {}\n",
        "sws_preds = {}\n",
        "i = 0.1\n",
        "j = 0.1\n",
        "\n",
        "for doc,dl in dist_lists_noswitch_VGG_corp2.items():\n",
        "  n_docs = int(sum(gold_std_dict[doc]))\n",
        "  n_pages = len(gold_std_dict[doc])\n",
        "  c_mat = page_con_matrix(n_pages)\n",
        "\n",
        "  if n_docs > 1:\n",
        "    cluster = AgglomerativeClustering(n_clusters=n_docs, affinity='precomputed', linkage='average', connectivity=c_mat)  \n",
        "    text_dl = text_dist_list_noswitch_VGG_corp2[doc]\n",
        "    combined_dist_list_nsw[doc] =  combine_distlists(dl,text_dl,i,j)\n",
        "    nsw_preds[doc] = length_list_to_bin(groups_to_lengths(cluster.fit_predict(combined_dist_list_nsw[doc])))\n",
        "\n",
        "    dl = dist_lists_switch_VGG_corp2[doc]\n",
        "    text_dl = text_dist_list_switch_VGG_corp2[doc]\n",
        "    combined_dist_list_sw[doc] =  combine_distlists(dl,text_dl,i,j)\n",
        "    sw_preds[doc] = length_list_to_bin(groups_to_lengths(cluster.fit_predict(combined_dist_list_sw[doc])))\n",
        "\n",
        "    dl =dist_lists_switch_start_VGG_corp2[doc]\n",
        "    text_dl = text_dist_list_switch_start_VGG_corp2[doc]\n",
        "    combined_dist_list_sws[doc] =  combine_distlists(dl,text_dl,i,j)\n",
        "    sws_preds[doc] = length_list_to_bin(groups_to_lengths(cluster.fit_predict(combined_dist_list_sws[doc])))\n"
      ],
      "metadata": {
        "id": "Bqc3xuFJwmMA"
      },
      "execution_count": null,
      "outputs": []
    },
    {
      "cell_type": "code",
      "source": [
        "gold_std_dict = {id: vals for id,vals in gold_std_dict.items() if id in sws_preds}\n",
        "nsw_res = calculate_mean_scores(gold_std_dict,nsw_preds)\n",
        "sw_res = calculate_mean_scores(gold_std_dict,sw_preds)\n",
        "sws_res = calculate_mean_scores(gold_std_dict,sws_preds)\n",
        "\n",
        "nsw_row = [i,j,'noswitch',nsw_res.loc['Boundary']['F1'],nsw_res.loc['Weighted Block']['F1']]\n",
        "sw_row = [i,j,'switch',sw_res.loc['Boundary']['F1'],sw_res.loc['Weighted Block']['F1']]\n",
        "sws_row = [i,j,'switch_start',sws_res.loc['Boundary']['F1'],sws_res.loc['Weighted Block']['F1']]\n",
        "\n",
        "all_res.loc[len(all_res)] = nsw_row\n",
        "all_res.loc[len(all_res)] = sw_row\n",
        "all_res.loc[len(all_res)] = sws_row"
      ],
      "metadata": {
        "id": "ecSuQcBmU9zS"
      },
      "execution_count": null,
      "outputs": []
    },
    {
      "cell_type": "code",
      "source": [
        "all_res"
      ],
      "metadata": {
        "colab": {
          "base_uri": "https://localhost:8080/",
          "height": 143
        },
        "id": "ysMgHzOu13iL",
        "outputId": "65599b97-15a8-4e63-daa7-ce77c6c1e82f"
      },
      "execution_count": null,
      "outputs": [
        {
          "output_type": "execute_result",
          "data": {
            "text/plain": [
              "     i    j        method  Boundary    PQ\n",
              "0  0.1  0.1      noswitch      0.48  0.25\n",
              "1  0.1  0.1        switch      0.41  0.26\n",
              "2  0.1  0.1  switch_start      0.42  0.27"
            ],
            "text/html": [
              "\n",
              "  <div id=\"df-e44125e4-60b2-43f2-9058-6c923fdefd06\">\n",
              "    <div class=\"colab-df-container\">\n",
              "      <div>\n",
              "<style scoped>\n",
              "    .dataframe tbody tr th:only-of-type {\n",
              "        vertical-align: middle;\n",
              "    }\n",
              "\n",
              "    .dataframe tbody tr th {\n",
              "        vertical-align: top;\n",
              "    }\n",
              "\n",
              "    .dataframe thead th {\n",
              "        text-align: right;\n",
              "    }\n",
              "</style>\n",
              "<table border=\"1\" class=\"dataframe\">\n",
              "  <thead>\n",
              "    <tr style=\"text-align: right;\">\n",
              "      <th></th>\n",
              "      <th>i</th>\n",
              "      <th>j</th>\n",
              "      <th>method</th>\n",
              "      <th>Boundary</th>\n",
              "      <th>PQ</th>\n",
              "    </tr>\n",
              "  </thead>\n",
              "  <tbody>\n",
              "    <tr>\n",
              "      <th>0</th>\n",
              "      <td>0.1</td>\n",
              "      <td>0.1</td>\n",
              "      <td>noswitch</td>\n",
              "      <td>0.48</td>\n",
              "      <td>0.25</td>\n",
              "    </tr>\n",
              "    <tr>\n",
              "      <th>1</th>\n",
              "      <td>0.1</td>\n",
              "      <td>0.1</td>\n",
              "      <td>switch</td>\n",
              "      <td>0.41</td>\n",
              "      <td>0.26</td>\n",
              "    </tr>\n",
              "    <tr>\n",
              "      <th>2</th>\n",
              "      <td>0.1</td>\n",
              "      <td>0.1</td>\n",
              "      <td>switch_start</td>\n",
              "      <td>0.42</td>\n",
              "      <td>0.27</td>\n",
              "    </tr>\n",
              "  </tbody>\n",
              "</table>\n",
              "</div>\n",
              "      <button class=\"colab-df-convert\" onclick=\"convertToInteractive('df-e44125e4-60b2-43f2-9058-6c923fdefd06')\"\n",
              "              title=\"Convert this dataframe to an interactive table.\"\n",
              "              style=\"display:none;\">\n",
              "        \n",
              "  <svg xmlns=\"http://www.w3.org/2000/svg\" height=\"24px\"viewBox=\"0 0 24 24\"\n",
              "       width=\"24px\">\n",
              "    <path d=\"M0 0h24v24H0V0z\" fill=\"none\"/>\n",
              "    <path d=\"M18.56 5.44l.94 2.06.94-2.06 2.06-.94-2.06-.94-.94-2.06-.94 2.06-2.06.94zm-11 1L8.5 8.5l.94-2.06 2.06-.94-2.06-.94L8.5 2.5l-.94 2.06-2.06.94zm10 10l.94 2.06.94-2.06 2.06-.94-2.06-.94-.94-2.06-.94 2.06-2.06.94z\"/><path d=\"M17.41 7.96l-1.37-1.37c-.4-.4-.92-.59-1.43-.59-.52 0-1.04.2-1.43.59L10.3 9.45l-7.72 7.72c-.78.78-.78 2.05 0 2.83L4 21.41c.39.39.9.59 1.41.59.51 0 1.02-.2 1.41-.59l7.78-7.78 2.81-2.81c.8-.78.8-2.07 0-2.86zM5.41 20L4 18.59l7.72-7.72 1.47 1.35L5.41 20z\"/>\n",
              "  </svg>\n",
              "      </button>\n",
              "      \n",
              "  <style>\n",
              "    .colab-df-container {\n",
              "      display:flex;\n",
              "      flex-wrap:wrap;\n",
              "      gap: 12px;\n",
              "    }\n",
              "\n",
              "    .colab-df-convert {\n",
              "      background-color: #E8F0FE;\n",
              "      border: none;\n",
              "      border-radius: 50%;\n",
              "      cursor: pointer;\n",
              "      display: none;\n",
              "      fill: #1967D2;\n",
              "      height: 32px;\n",
              "      padding: 0 0 0 0;\n",
              "      width: 32px;\n",
              "    }\n",
              "\n",
              "    .colab-df-convert:hover {\n",
              "      background-color: #E2EBFA;\n",
              "      box-shadow: 0px 1px 2px rgba(60, 64, 67, 0.3), 0px 1px 3px 1px rgba(60, 64, 67, 0.15);\n",
              "      fill: #174EA6;\n",
              "    }\n",
              "\n",
              "    [theme=dark] .colab-df-convert {\n",
              "      background-color: #3B4455;\n",
              "      fill: #D2E3FC;\n",
              "    }\n",
              "\n",
              "    [theme=dark] .colab-df-convert:hover {\n",
              "      background-color: #434B5C;\n",
              "      box-shadow: 0px 1px 3px 1px rgba(0, 0, 0, 0.15);\n",
              "      filter: drop-shadow(0px 1px 2px rgba(0, 0, 0, 0.3));\n",
              "      fill: #FFFFFF;\n",
              "    }\n",
              "  </style>\n",
              "\n",
              "      <script>\n",
              "        const buttonEl =\n",
              "          document.querySelector('#df-e44125e4-60b2-43f2-9058-6c923fdefd06 button.colab-df-convert');\n",
              "        buttonEl.style.display =\n",
              "          google.colab.kernel.accessAllowed ? 'block' : 'none';\n",
              "\n",
              "        async function convertToInteractive(key) {\n",
              "          const element = document.querySelector('#df-e44125e4-60b2-43f2-9058-6c923fdefd06');\n",
              "          const dataTable =\n",
              "            await google.colab.kernel.invokeFunction('convertToInteractive',\n",
              "                                                     [key], {});\n",
              "          if (!dataTable) return;\n",
              "\n",
              "          const docLinkHtml = 'Like what you see? Visit the ' +\n",
              "            '<a target=\"_blank\" href=https://colab.research.google.com/notebooks/data_table.ipynb>data table notebook</a>'\n",
              "            + ' to learn more about interactive tables.';\n",
              "          element.innerHTML = '';\n",
              "          dataTable['output_type'] = 'display_data';\n",
              "          await google.colab.output.renderOutput(dataTable, element);\n",
              "          const docLink = document.createElement('div');\n",
              "          docLink.innerHTML = docLinkHtml;\n",
              "          element.appendChild(docLink);\n",
              "        }\n",
              "      </script>\n",
              "    </div>\n",
              "  </div>\n",
              "  "
            ]
          },
          "metadata": {},
          "execution_count": 121
        }
      ]
    },
    {
      "cell_type": "markdown",
      "source": [
        "#### Early Fusion "
      ],
      "metadata": {
        "id": "QwuSUZmJV5uP"
      }
    },
    {
      "cell_type": "markdown",
      "source": [
        "Finetuned"
      ],
      "metadata": {
        "id": "2zYTvnAfYsOv"
      }
    },
    {
      "cell_type": "code",
      "source": [
        "vector_path_im = '/content/gdrive/MyDrive/master_thesis/new_corpus/image_vectors'\n",
        "vector_path_text = '/content/gdrive/MyDrive/master_thesis/new_corpus/text_vectors_finetuned'\n",
        "im_sums = []\n",
        "text_sums = []\n",
        "for doc_id, content in tqdm(test_data.groupby('name')):\n",
        "  repl_doc_id = doc_id.replace('__concatenated','')\n",
        "  corpus = content['corpus'].iloc[0]\n",
        "\n",
        "  #text_vectors, labels = get_vectors_for_stream(used_corpus,doc_id,vector_dict_used,text_vectors_used)\n",
        "  if not os.path.exists(os.path.join(vector_path_text,repl_doc_id + '.npy')):\n",
        "    continue\n",
        "  text_vectors = np.load(os.path.join(vector_path_text,repl_doc_id + '.npy'))\n",
        "  labels = gold_std_dict[repl_doc_id]\n",
        "\n",
        "  if not os.path.exists(os.path.join(vector_path_im,repl_doc_id + '.npy')):\n",
        "    continue\n",
        "  image_vectors = np.load(os.path.join(vector_path_im,repl_doc_id + '.npy'))\n",
        "\n",
        "  im_sum = np.sum(abs(image_vectors)) / (image_vectors.shape[0] * image_vectors.shape[1])\n",
        "  text_sum = np.sum(abs(text_vectors)) / (text_vectors.shape[0] * text_vectors.shape[1])\n",
        "\n",
        "  im_sums.append(im_sum)\n",
        "  text_sums.append(text_sum)\n"
      ],
      "metadata": {
        "id": "XyCD-QojvbtH"
      },
      "execution_count": null,
      "outputs": []
    },
    {
      "cell_type": "code",
      "source": [
        "\n",
        "prediction_json_comb = {}\n",
        "prediction_json_comb_nsw = {}\n",
        "prediction_json_im = {}\n",
        "prediction_json_text = {}\n",
        "gold_std_bin = {}\n",
        "\n",
        "vector_path_im = '/content/gdrive/MyDrive/master_thesis/new_corpus/image_vectors'\n",
        "vector_path_text = '/content/gdrive/MyDrive/master_thesis/new_corpus/text_vectors_finetuned'\n",
        "for doc_id, content in tqdm(test_data.groupby('name')):\n",
        "  repl_doc_id = doc_id.replace('__concatenated','')\n",
        "  corpus = content['corpus'].iloc[0]\n",
        "\n",
        "  #text_vectors, labels = get_vectors_for_stream(used_corpus,doc_id,vector_dict_used,text_vectors_used)\n",
        "  if not os.path.exists(os.path.join(vector_path_text,repl_doc_id + '.npy')):\n",
        "    continue\n",
        "  text_vectors = np.load(os.path.join(vector_path_text,repl_doc_id + '.npy'))\n",
        "  labels = gold_std_dict[repl_doc_id]\n",
        "\n",
        "  if not os.path.exists(os.path.join(vector_path_im,repl_doc_id + '.npy')):\n",
        "    continue\n",
        "  image_vectors = np.load(os.path.join(vector_path_im,repl_doc_id + '.npy'))\n",
        "\n",
        "  im_sum = np.sum(abs(image_vectors)) / (image_vectors.shape[0] * image_vectors.shape[1])\n",
        "  text_sum = np.sum(abs(text_vectors)) / (text_vectors.shape[0] * text_vectors.shape[1])\n",
        "  if im_sum > text_sum:\n",
        "    image_vectors = image_vectors / (im_sum / text_sum)\n",
        "  else:\n",
        "    text_vectors = text_vectors / (text_sum / im_sum)\n",
        "\n",
        "\n",
        "  combined_vectors = np.concatenate([image_vectors,text_vectors],axis=1)\n",
        "\n",
        "  if n_pages > 1:\n",
        "    ## Using switch\n",
        "    _, preds_im = cluster_with_switch(labels,image_vectors, labels_bin = True)\n",
        "    _, preds_text = cluster_with_switch(labels,text_vectors, labels_bin = True)\n",
        "    _, preds_cmbd = cluster_with_switch(labels,combined_vectors, labels_bin = True)\n",
        "\n",
        "    prediction_json_comb[doc_id] = preds_cmbd\n",
        "    prediction_json_im[doc_id] = preds_im\n",
        "    prediction_json_text[doc_id] = preds_text\n",
        "\n",
        "    n_docs = sum(labels)\n",
        "    n_pages = len(labels)\n",
        "    c_mat = page_con_matrix(n_pages)\n",
        "    cluster = AgglomerativeClustering(n_clusters=n_docs, affinity='cosine', linkage='average',compute_distances = True, connectivity = c_mat)  \n",
        "    cmbd_nsw_predictions = cluster.fit_predict(combined_vectors) \n",
        "\n",
        "\n",
        "    prediction_json_comb_nsw[repl_doc_id] = length_list_to_bin(groups_to_lengths(cmbd_nsw_predictions))"
      ],
      "metadata": {
        "colab": {
          "base_uri": "https://localhost:8080/"
        },
        "id": "KDxKi3Y6V70a",
        "outputId": "ccde9e67-0192-4e5c-c1ab-bd511c3828ce"
      },
      "execution_count": null,
      "outputs": [
        {
          "output_type": "stream",
          "name": "stderr",
          "text": [
            "100%|██████████| 32/32 [00:13<00:00,  2.40it/s]\n"
          ]
        }
      ]
    },
    {
      "cell_type": "code",
      "source": [
        "\n",
        "prediction_json_comb_pre = {}\n",
        "prediction_json_comb_nsw_pre = {}\n",
        "prediction_json_im_pre = {}\n",
        "prediction_json_text_pre = {}\n",
        "gold_std_bin_pre = {}\n",
        "\n",
        "vector_path_im = '/content/gdrive/MyDrive/master_thesis/new_corpus/VGG_vectors'\n",
        "vector_path_text = '/content/gdrive/MyDrive/master_thesis/new_corpus/text_vectors'\n",
        "for doc_id, content in tqdm(test_data.groupby('name')):\n",
        "  repl_doc_id = doc_id.replace('__concatenated','')\n",
        "  corpus = content['corpus'].iloc[0]\n",
        "\n",
        "  text_page_vectors_path = os.path.join(vector_path_text,repl_doc_id+'.pickle')\n",
        "  if not os.path.exists(text_page_vectors_path):\n",
        "    continue\n",
        "  \n",
        "  with open(text_page_vectors_path, 'rb') as f:\n",
        "    text_vectors = pickle.load(f)\n",
        "    f.close()\n",
        "\n",
        "  labels = gold_std_dict[repl_doc_id]\n",
        "\n",
        "  if not os.path.exists(os.path.join(vector_path_im,repl_doc_id + '.npy')):\n",
        "    continue\n",
        "  image_vectors = np.load(os.path.join(vector_path_im,repl_doc_id + '.npy'))\n",
        "\n",
        "  im_sum = np.sum(abs(image_vectors)) / (image_vectors.shape[0] * image_vectors.shape[1])\n",
        "  text_sum = np.sum(abs(text_vectors)) / (text_vectors.shape[0] * text_vectors.shape[1])\n",
        "  if im_sum > text_sum:\n",
        "    image_vectors = image_vectors / (im_sum / text_sum)\n",
        "  else:\n",
        "    text_vectors = text_vectors / (text_sum / im_sum)\n",
        "\n",
        "\n",
        "  combined_vectors = np.concatenate([image_vectors,text_vectors],axis=1)\n",
        "\n",
        "  if n_pages > 1:\n",
        "    ## Using switch\n",
        "    _, preds_im = cluster_with_switch(labels,image_vectors, labels_bin = True)\n",
        "    _, preds_text = cluster_with_switch(labels,text_vectors, labels_bin = True)\n",
        "    _, preds_cmbd = cluster_with_switch(labels,combined_vectors, labels_bin = True)\n",
        "\n",
        "    prediction_json_comb_pre[doc_id] = preds_cmbd\n",
        "    prediction_json_im_pre[doc_id] = preds_im\n",
        "    prediction_json_text_pre[doc_id] = preds_text\n",
        "\n",
        "    n_docs = sum(labels)\n",
        "    n_pages = len(labels)\n",
        "    c_mat = page_con_matrix(n_pages)\n",
        "    cluster = AgglomerativeClustering(n_clusters=n_docs, affinity='cosine', linkage='average',compute_distances = True, connectivity = c_mat)  \n",
        "    cmbd_nsw_predictions = cluster.fit_predict(combined_vectors) \n",
        "\n",
        "\n",
        "    prediction_json_comb_nsw_pre[repl_doc_id] = length_list_to_bin(groups_to_lengths(cmbd_nsw_predictions))"
      ],
      "metadata": {
        "colab": {
          "base_uri": "https://localhost:8080/"
        },
        "id": "L9-e-jdHTPxa",
        "outputId": "f30d8a10-bb0b-4def-a2f3-548b294817c5"
      },
      "execution_count": null,
      "outputs": [
        {
          "output_type": "stream",
          "name": "stderr",
          "text": [
            "100%|██████████| 32/32 [00:38<00:00,  1.19s/it]\n"
          ]
        }
      ]
    },
    {
      "cell_type": "code",
      "source": [
        "min2 = True\n",
        "if min2:\n",
        "  prediction_json_comb = {stream : preds for stream,preds in prediction_json_comb.items() if sum(gold_std_dict[stream]) > 1}\n",
        "  prediction_json_im= {stream : preds for stream,preds in prediction_json_im.items() if sum(gold_std_dict[stream]) > 1}\n",
        "  prediction_json_text= {stream : preds for stream,preds in prediction_json_text.items() if sum(gold_std_dict[stream]) > 1}\n",
        "  prediction_json_comb_nsw= {stream : preds for stream,preds in prediction_json_comb_nsw.items() if sum(gold_std_dict[stream]) > 1}\n",
        "  gold_std_dict = {id: vals for id,vals in gold_std_dict.items() if id in prediction_json_text }"
      ],
      "metadata": {
        "id": "Sp7Kr6fMXrCM"
      },
      "execution_count": null,
      "outputs": []
    },
    {
      "cell_type": "code",
      "source": [
        "cmbd_scores_nsw = calculate_mean_scores(gold_std_dict,prediction_json_comb_nsw)\n",
        "cmbd_scores_nsw"
      ],
      "metadata": {
        "colab": {
          "base_uri": "https://localhost:8080/",
          "height": 206
        },
        "id": "2uxWx9bsSuZq",
        "outputId": "70751e48-c185-468f-9650-7c06029d9c6d"
      },
      "execution_count": null,
      "outputs": [
        {
          "output_type": "execute_result",
          "data": {
            "text/plain": [
              "                precision  recall    F1  support CI Precision  CI Recall  \\\n",
              "Boundary             0.49    0.49  0.49     6476     0.48-0.5   0.48-0.5   \n",
              "Bcubed               0.70    0.72  0.59     6476    0.69-0.71  0.71-0.73   \n",
              "WindowDiff           0.34    0.34  0.34     6476    0.33-0.35  0.33-0.35   \n",
              "Block                0.11    0.11  0.11     6476     0.1-0.12   0.1-0.12   \n",
              "Weighted Block       0.24    0.24  0.24     6476    0.23-0.25  0.23-0.25   \n",
              "\n",
              "                    CI F1  \n",
              "Boundary         0.48-0.5  \n",
              "Bcubed           0.58-0.6  \n",
              "WindowDiff      0.33-0.35  \n",
              "Block            0.1-0.12  \n",
              "Weighted Block  0.23-0.25  "
            ],
            "text/html": [
              "\n",
              "  <div id=\"df-7df9b3ca-2353-420e-bfd9-2af8007658bd\">\n",
              "    <div class=\"colab-df-container\">\n",
              "      <div>\n",
              "<style scoped>\n",
              "    .dataframe tbody tr th:only-of-type {\n",
              "        vertical-align: middle;\n",
              "    }\n",
              "\n",
              "    .dataframe tbody tr th {\n",
              "        vertical-align: top;\n",
              "    }\n",
              "\n",
              "    .dataframe thead th {\n",
              "        text-align: right;\n",
              "    }\n",
              "</style>\n",
              "<table border=\"1\" class=\"dataframe\">\n",
              "  <thead>\n",
              "    <tr style=\"text-align: right;\">\n",
              "      <th></th>\n",
              "      <th>precision</th>\n",
              "      <th>recall</th>\n",
              "      <th>F1</th>\n",
              "      <th>support</th>\n",
              "      <th>CI Precision</th>\n",
              "      <th>CI Recall</th>\n",
              "      <th>CI F1</th>\n",
              "    </tr>\n",
              "  </thead>\n",
              "  <tbody>\n",
              "    <tr>\n",
              "      <th>Boundary</th>\n",
              "      <td>0.49</td>\n",
              "      <td>0.49</td>\n",
              "      <td>0.49</td>\n",
              "      <td>6476</td>\n",
              "      <td>0.48-0.5</td>\n",
              "      <td>0.48-0.5</td>\n",
              "      <td>0.48-0.5</td>\n",
              "    </tr>\n",
              "    <tr>\n",
              "      <th>Bcubed</th>\n",
              "      <td>0.70</td>\n",
              "      <td>0.72</td>\n",
              "      <td>0.59</td>\n",
              "      <td>6476</td>\n",
              "      <td>0.69-0.71</td>\n",
              "      <td>0.71-0.73</td>\n",
              "      <td>0.58-0.6</td>\n",
              "    </tr>\n",
              "    <tr>\n",
              "      <th>WindowDiff</th>\n",
              "      <td>0.34</td>\n",
              "      <td>0.34</td>\n",
              "      <td>0.34</td>\n",
              "      <td>6476</td>\n",
              "      <td>0.33-0.35</td>\n",
              "      <td>0.33-0.35</td>\n",
              "      <td>0.33-0.35</td>\n",
              "    </tr>\n",
              "    <tr>\n",
              "      <th>Block</th>\n",
              "      <td>0.11</td>\n",
              "      <td>0.11</td>\n",
              "      <td>0.11</td>\n",
              "      <td>6476</td>\n",
              "      <td>0.1-0.12</td>\n",
              "      <td>0.1-0.12</td>\n",
              "      <td>0.1-0.12</td>\n",
              "    </tr>\n",
              "    <tr>\n",
              "      <th>Weighted Block</th>\n",
              "      <td>0.24</td>\n",
              "      <td>0.24</td>\n",
              "      <td>0.24</td>\n",
              "      <td>6476</td>\n",
              "      <td>0.23-0.25</td>\n",
              "      <td>0.23-0.25</td>\n",
              "      <td>0.23-0.25</td>\n",
              "    </tr>\n",
              "  </tbody>\n",
              "</table>\n",
              "</div>\n",
              "      <button class=\"colab-df-convert\" onclick=\"convertToInteractive('df-7df9b3ca-2353-420e-bfd9-2af8007658bd')\"\n",
              "              title=\"Convert this dataframe to an interactive table.\"\n",
              "              style=\"display:none;\">\n",
              "        \n",
              "  <svg xmlns=\"http://www.w3.org/2000/svg\" height=\"24px\"viewBox=\"0 0 24 24\"\n",
              "       width=\"24px\">\n",
              "    <path d=\"M0 0h24v24H0V0z\" fill=\"none\"/>\n",
              "    <path d=\"M18.56 5.44l.94 2.06.94-2.06 2.06-.94-2.06-.94-.94-2.06-.94 2.06-2.06.94zm-11 1L8.5 8.5l.94-2.06 2.06-.94-2.06-.94L8.5 2.5l-.94 2.06-2.06.94zm10 10l.94 2.06.94-2.06 2.06-.94-2.06-.94-.94-2.06-.94 2.06-2.06.94z\"/><path d=\"M17.41 7.96l-1.37-1.37c-.4-.4-.92-.59-1.43-.59-.52 0-1.04.2-1.43.59L10.3 9.45l-7.72 7.72c-.78.78-.78 2.05 0 2.83L4 21.41c.39.39.9.59 1.41.59.51 0 1.02-.2 1.41-.59l7.78-7.78 2.81-2.81c.8-.78.8-2.07 0-2.86zM5.41 20L4 18.59l7.72-7.72 1.47 1.35L5.41 20z\"/>\n",
              "  </svg>\n",
              "      </button>\n",
              "      \n",
              "  <style>\n",
              "    .colab-df-container {\n",
              "      display:flex;\n",
              "      flex-wrap:wrap;\n",
              "      gap: 12px;\n",
              "    }\n",
              "\n",
              "    .colab-df-convert {\n",
              "      background-color: #E8F0FE;\n",
              "      border: none;\n",
              "      border-radius: 50%;\n",
              "      cursor: pointer;\n",
              "      display: none;\n",
              "      fill: #1967D2;\n",
              "      height: 32px;\n",
              "      padding: 0 0 0 0;\n",
              "      width: 32px;\n",
              "    }\n",
              "\n",
              "    .colab-df-convert:hover {\n",
              "      background-color: #E2EBFA;\n",
              "      box-shadow: 0px 1px 2px rgba(60, 64, 67, 0.3), 0px 1px 3px 1px rgba(60, 64, 67, 0.15);\n",
              "      fill: #174EA6;\n",
              "    }\n",
              "\n",
              "    [theme=dark] .colab-df-convert {\n",
              "      background-color: #3B4455;\n",
              "      fill: #D2E3FC;\n",
              "    }\n",
              "\n",
              "    [theme=dark] .colab-df-convert:hover {\n",
              "      background-color: #434B5C;\n",
              "      box-shadow: 0px 1px 3px 1px rgba(0, 0, 0, 0.15);\n",
              "      filter: drop-shadow(0px 1px 2px rgba(0, 0, 0, 0.3));\n",
              "      fill: #FFFFFF;\n",
              "    }\n",
              "  </style>\n",
              "\n",
              "      <script>\n",
              "        const buttonEl =\n",
              "          document.querySelector('#df-7df9b3ca-2353-420e-bfd9-2af8007658bd button.colab-df-convert');\n",
              "        buttonEl.style.display =\n",
              "          google.colab.kernel.accessAllowed ? 'block' : 'none';\n",
              "\n",
              "        async function convertToInteractive(key) {\n",
              "          const element = document.querySelector('#df-7df9b3ca-2353-420e-bfd9-2af8007658bd');\n",
              "          const dataTable =\n",
              "            await google.colab.kernel.invokeFunction('convertToInteractive',\n",
              "                                                     [key], {});\n",
              "          if (!dataTable) return;\n",
              "\n",
              "          const docLinkHtml = 'Like what you see? Visit the ' +\n",
              "            '<a target=\"_blank\" href=https://colab.research.google.com/notebooks/data_table.ipynb>data table notebook</a>'\n",
              "            + ' to learn more about interactive tables.';\n",
              "          element.innerHTML = '';\n",
              "          dataTable['output_type'] = 'display_data';\n",
              "          await google.colab.output.renderOutput(dataTable, element);\n",
              "          const docLink = document.createElement('div');\n",
              "          docLink.innerHTML = docLinkHtml;\n",
              "          element.appendChild(docLink);\n",
              "        }\n",
              "      </script>\n",
              "    </div>\n",
              "  </div>\n",
              "  "
            ]
          },
          "metadata": {},
          "execution_count": 112
        }
      ]
    },
    {
      "cell_type": "code",
      "source": [
        "im_scores = calculate_mean_scores(gold_std_dict,prediction_json_im)\n",
        "text_scores = calculate_mean_scores(gold_std_dict,prediction_json_text)\n",
        "cmbd_scores = calculate_mean_scores(gold_std_dict,prediction_json_comb)\n",
        "im_scores"
      ],
      "metadata": {
        "colab": {
          "base_uri": "https://localhost:8080/",
          "height": 206
        },
        "outputId": "7b46a728-5f2a-4deb-d37c-9373b8afbc6b",
        "id": "ai7cZiB5XrCO"
      },
      "execution_count": null,
      "outputs": [
        {
          "output_type": "execute_result",
          "data": {
            "text/plain": [
              "                precision  recall    F1  support CI Precision  CI Recall  \\\n",
              "Boundary             0.43    0.43  0.43     6476    0.42-0.44  0.42-0.44   \n",
              "Bcubed               0.70    0.71  0.59     6476    0.69-0.71   0.7-0.72   \n",
              "WindowDiff           0.38    0.38  0.38     6476    0.37-0.39  0.37-0.39   \n",
              "Block                0.18    0.18  0.18     6476    0.17-0.19  0.17-0.19   \n",
              "Weighted Block       0.29    0.29  0.29     6476     0.28-0.3   0.28-0.3   \n",
              "\n",
              "                    CI F1  \n",
              "Boundary        0.42-0.44  \n",
              "Bcubed           0.58-0.6  \n",
              "WindowDiff      0.37-0.39  \n",
              "Block           0.17-0.19  \n",
              "Weighted Block   0.28-0.3  "
            ],
            "text/html": [
              "\n",
              "  <div id=\"df-e31c154a-d7ac-4710-8d82-119c81082134\">\n",
              "    <div class=\"colab-df-container\">\n",
              "      <div>\n",
              "<style scoped>\n",
              "    .dataframe tbody tr th:only-of-type {\n",
              "        vertical-align: middle;\n",
              "    }\n",
              "\n",
              "    .dataframe tbody tr th {\n",
              "        vertical-align: top;\n",
              "    }\n",
              "\n",
              "    .dataframe thead th {\n",
              "        text-align: right;\n",
              "    }\n",
              "</style>\n",
              "<table border=\"1\" class=\"dataframe\">\n",
              "  <thead>\n",
              "    <tr style=\"text-align: right;\">\n",
              "      <th></th>\n",
              "      <th>precision</th>\n",
              "      <th>recall</th>\n",
              "      <th>F1</th>\n",
              "      <th>support</th>\n",
              "      <th>CI Precision</th>\n",
              "      <th>CI Recall</th>\n",
              "      <th>CI F1</th>\n",
              "    </tr>\n",
              "  </thead>\n",
              "  <tbody>\n",
              "    <tr>\n",
              "      <th>Boundary</th>\n",
              "      <td>0.43</td>\n",
              "      <td>0.43</td>\n",
              "      <td>0.43</td>\n",
              "      <td>6476</td>\n",
              "      <td>0.42-0.44</td>\n",
              "      <td>0.42-0.44</td>\n",
              "      <td>0.42-0.44</td>\n",
              "    </tr>\n",
              "    <tr>\n",
              "      <th>Bcubed</th>\n",
              "      <td>0.70</td>\n",
              "      <td>0.71</td>\n",
              "      <td>0.59</td>\n",
              "      <td>6476</td>\n",
              "      <td>0.69-0.71</td>\n",
              "      <td>0.7-0.72</td>\n",
              "      <td>0.58-0.6</td>\n",
              "    </tr>\n",
              "    <tr>\n",
              "      <th>WindowDiff</th>\n",
              "      <td>0.38</td>\n",
              "      <td>0.38</td>\n",
              "      <td>0.38</td>\n",
              "      <td>6476</td>\n",
              "      <td>0.37-0.39</td>\n",
              "      <td>0.37-0.39</td>\n",
              "      <td>0.37-0.39</td>\n",
              "    </tr>\n",
              "    <tr>\n",
              "      <th>Block</th>\n",
              "      <td>0.18</td>\n",
              "      <td>0.18</td>\n",
              "      <td>0.18</td>\n",
              "      <td>6476</td>\n",
              "      <td>0.17-0.19</td>\n",
              "      <td>0.17-0.19</td>\n",
              "      <td>0.17-0.19</td>\n",
              "    </tr>\n",
              "    <tr>\n",
              "      <th>Weighted Block</th>\n",
              "      <td>0.29</td>\n",
              "      <td>0.29</td>\n",
              "      <td>0.29</td>\n",
              "      <td>6476</td>\n",
              "      <td>0.28-0.3</td>\n",
              "      <td>0.28-0.3</td>\n",
              "      <td>0.28-0.3</td>\n",
              "    </tr>\n",
              "  </tbody>\n",
              "</table>\n",
              "</div>\n",
              "      <button class=\"colab-df-convert\" onclick=\"convertToInteractive('df-e31c154a-d7ac-4710-8d82-119c81082134')\"\n",
              "              title=\"Convert this dataframe to an interactive table.\"\n",
              "              style=\"display:none;\">\n",
              "        \n",
              "  <svg xmlns=\"http://www.w3.org/2000/svg\" height=\"24px\"viewBox=\"0 0 24 24\"\n",
              "       width=\"24px\">\n",
              "    <path d=\"M0 0h24v24H0V0z\" fill=\"none\"/>\n",
              "    <path d=\"M18.56 5.44l.94 2.06.94-2.06 2.06-.94-2.06-.94-.94-2.06-.94 2.06-2.06.94zm-11 1L8.5 8.5l.94-2.06 2.06-.94-2.06-.94L8.5 2.5l-.94 2.06-2.06.94zm10 10l.94 2.06.94-2.06 2.06-.94-2.06-.94-.94-2.06-.94 2.06-2.06.94z\"/><path d=\"M17.41 7.96l-1.37-1.37c-.4-.4-.92-.59-1.43-.59-.52 0-1.04.2-1.43.59L10.3 9.45l-7.72 7.72c-.78.78-.78 2.05 0 2.83L4 21.41c.39.39.9.59 1.41.59.51 0 1.02-.2 1.41-.59l7.78-7.78 2.81-2.81c.8-.78.8-2.07 0-2.86zM5.41 20L4 18.59l7.72-7.72 1.47 1.35L5.41 20z\"/>\n",
              "  </svg>\n",
              "      </button>\n",
              "      \n",
              "  <style>\n",
              "    .colab-df-container {\n",
              "      display:flex;\n",
              "      flex-wrap:wrap;\n",
              "      gap: 12px;\n",
              "    }\n",
              "\n",
              "    .colab-df-convert {\n",
              "      background-color: #E8F0FE;\n",
              "      border: none;\n",
              "      border-radius: 50%;\n",
              "      cursor: pointer;\n",
              "      display: none;\n",
              "      fill: #1967D2;\n",
              "      height: 32px;\n",
              "      padding: 0 0 0 0;\n",
              "      width: 32px;\n",
              "    }\n",
              "\n",
              "    .colab-df-convert:hover {\n",
              "      background-color: #E2EBFA;\n",
              "      box-shadow: 0px 1px 2px rgba(60, 64, 67, 0.3), 0px 1px 3px 1px rgba(60, 64, 67, 0.15);\n",
              "      fill: #174EA6;\n",
              "    }\n",
              "\n",
              "    [theme=dark] .colab-df-convert {\n",
              "      background-color: #3B4455;\n",
              "      fill: #D2E3FC;\n",
              "    }\n",
              "\n",
              "    [theme=dark] .colab-df-convert:hover {\n",
              "      background-color: #434B5C;\n",
              "      box-shadow: 0px 1px 3px 1px rgba(0, 0, 0, 0.15);\n",
              "      filter: drop-shadow(0px 1px 2px rgba(0, 0, 0, 0.3));\n",
              "      fill: #FFFFFF;\n",
              "    }\n",
              "  </style>\n",
              "\n",
              "      <script>\n",
              "        const buttonEl =\n",
              "          document.querySelector('#df-e31c154a-d7ac-4710-8d82-119c81082134 button.colab-df-convert');\n",
              "        buttonEl.style.display =\n",
              "          google.colab.kernel.accessAllowed ? 'block' : 'none';\n",
              "\n",
              "        async function convertToInteractive(key) {\n",
              "          const element = document.querySelector('#df-e31c154a-d7ac-4710-8d82-119c81082134');\n",
              "          const dataTable =\n",
              "            await google.colab.kernel.invokeFunction('convertToInteractive',\n",
              "                                                     [key], {});\n",
              "          if (!dataTable) return;\n",
              "\n",
              "          const docLinkHtml = 'Like what you see? Visit the ' +\n",
              "            '<a target=\"_blank\" href=https://colab.research.google.com/notebooks/data_table.ipynb>data table notebook</a>'\n",
              "            + ' to learn more about interactive tables.';\n",
              "          element.innerHTML = '';\n",
              "          dataTable['output_type'] = 'display_data';\n",
              "          await google.colab.output.renderOutput(dataTable, element);\n",
              "          const docLink = document.createElement('div');\n",
              "          docLink.innerHTML = docLinkHtml;\n",
              "          element.appendChild(docLink);\n",
              "        }\n",
              "      </script>\n",
              "    </div>\n",
              "  </div>\n",
              "  "
            ]
          },
          "metadata": {},
          "execution_count": 113
        }
      ]
    },
    {
      "cell_type": "code",
      "source": [
        "text_scores"
      ],
      "metadata": {
        "colab": {
          "base_uri": "https://localhost:8080/",
          "height": 206
        },
        "outputId": "7360ea6e-7d7e-466a-d236-99c452520de8",
        "id": "Mwpfb2yCXrCP"
      },
      "execution_count": null,
      "outputs": [
        {
          "output_type": "execute_result",
          "data": {
            "text/plain": [
              "                precision  recall    F1  support CI Precision  CI Recall  \\\n",
              "Boundary             0.39    0.39  0.39     6476     0.38-0.4   0.38-0.4   \n",
              "Bcubed               0.67    0.67  0.55     6476    0.66-0.68  0.66-0.68   \n",
              "WindowDiff           0.37    0.37  0.37     6476    0.36-0.38  0.36-0.38   \n",
              "Block                0.14    0.14  0.14     6476    0.13-0.15  0.13-0.15   \n",
              "Weighted Block       0.24    0.24  0.24     6476    0.23-0.25  0.23-0.25   \n",
              "\n",
              "                    CI F1  \n",
              "Boundary         0.38-0.4  \n",
              "Bcubed          0.54-0.56  \n",
              "WindowDiff      0.36-0.38  \n",
              "Block           0.13-0.15  \n",
              "Weighted Block  0.23-0.25  "
            ],
            "text/html": [
              "\n",
              "  <div id=\"df-8c55394e-2a20-4447-84bb-0bbb157ff99b\">\n",
              "    <div class=\"colab-df-container\">\n",
              "      <div>\n",
              "<style scoped>\n",
              "    .dataframe tbody tr th:only-of-type {\n",
              "        vertical-align: middle;\n",
              "    }\n",
              "\n",
              "    .dataframe tbody tr th {\n",
              "        vertical-align: top;\n",
              "    }\n",
              "\n",
              "    .dataframe thead th {\n",
              "        text-align: right;\n",
              "    }\n",
              "</style>\n",
              "<table border=\"1\" class=\"dataframe\">\n",
              "  <thead>\n",
              "    <tr style=\"text-align: right;\">\n",
              "      <th></th>\n",
              "      <th>precision</th>\n",
              "      <th>recall</th>\n",
              "      <th>F1</th>\n",
              "      <th>support</th>\n",
              "      <th>CI Precision</th>\n",
              "      <th>CI Recall</th>\n",
              "      <th>CI F1</th>\n",
              "    </tr>\n",
              "  </thead>\n",
              "  <tbody>\n",
              "    <tr>\n",
              "      <th>Boundary</th>\n",
              "      <td>0.39</td>\n",
              "      <td>0.39</td>\n",
              "      <td>0.39</td>\n",
              "      <td>6476</td>\n",
              "      <td>0.38-0.4</td>\n",
              "      <td>0.38-0.4</td>\n",
              "      <td>0.38-0.4</td>\n",
              "    </tr>\n",
              "    <tr>\n",
              "      <th>Bcubed</th>\n",
              "      <td>0.67</td>\n",
              "      <td>0.67</td>\n",
              "      <td>0.55</td>\n",
              "      <td>6476</td>\n",
              "      <td>0.66-0.68</td>\n",
              "      <td>0.66-0.68</td>\n",
              "      <td>0.54-0.56</td>\n",
              "    </tr>\n",
              "    <tr>\n",
              "      <th>WindowDiff</th>\n",
              "      <td>0.37</td>\n",
              "      <td>0.37</td>\n",
              "      <td>0.37</td>\n",
              "      <td>6476</td>\n",
              "      <td>0.36-0.38</td>\n",
              "      <td>0.36-0.38</td>\n",
              "      <td>0.36-0.38</td>\n",
              "    </tr>\n",
              "    <tr>\n",
              "      <th>Block</th>\n",
              "      <td>0.14</td>\n",
              "      <td>0.14</td>\n",
              "      <td>0.14</td>\n",
              "      <td>6476</td>\n",
              "      <td>0.13-0.15</td>\n",
              "      <td>0.13-0.15</td>\n",
              "      <td>0.13-0.15</td>\n",
              "    </tr>\n",
              "    <tr>\n",
              "      <th>Weighted Block</th>\n",
              "      <td>0.24</td>\n",
              "      <td>0.24</td>\n",
              "      <td>0.24</td>\n",
              "      <td>6476</td>\n",
              "      <td>0.23-0.25</td>\n",
              "      <td>0.23-0.25</td>\n",
              "      <td>0.23-0.25</td>\n",
              "    </tr>\n",
              "  </tbody>\n",
              "</table>\n",
              "</div>\n",
              "      <button class=\"colab-df-convert\" onclick=\"convertToInteractive('df-8c55394e-2a20-4447-84bb-0bbb157ff99b')\"\n",
              "              title=\"Convert this dataframe to an interactive table.\"\n",
              "              style=\"display:none;\">\n",
              "        \n",
              "  <svg xmlns=\"http://www.w3.org/2000/svg\" height=\"24px\"viewBox=\"0 0 24 24\"\n",
              "       width=\"24px\">\n",
              "    <path d=\"M0 0h24v24H0V0z\" fill=\"none\"/>\n",
              "    <path d=\"M18.56 5.44l.94 2.06.94-2.06 2.06-.94-2.06-.94-.94-2.06-.94 2.06-2.06.94zm-11 1L8.5 8.5l.94-2.06 2.06-.94-2.06-.94L8.5 2.5l-.94 2.06-2.06.94zm10 10l.94 2.06.94-2.06 2.06-.94-2.06-.94-.94-2.06-.94 2.06-2.06.94z\"/><path d=\"M17.41 7.96l-1.37-1.37c-.4-.4-.92-.59-1.43-.59-.52 0-1.04.2-1.43.59L10.3 9.45l-7.72 7.72c-.78.78-.78 2.05 0 2.83L4 21.41c.39.39.9.59 1.41.59.51 0 1.02-.2 1.41-.59l7.78-7.78 2.81-2.81c.8-.78.8-2.07 0-2.86zM5.41 20L4 18.59l7.72-7.72 1.47 1.35L5.41 20z\"/>\n",
              "  </svg>\n",
              "      </button>\n",
              "      \n",
              "  <style>\n",
              "    .colab-df-container {\n",
              "      display:flex;\n",
              "      flex-wrap:wrap;\n",
              "      gap: 12px;\n",
              "    }\n",
              "\n",
              "    .colab-df-convert {\n",
              "      background-color: #E8F0FE;\n",
              "      border: none;\n",
              "      border-radius: 50%;\n",
              "      cursor: pointer;\n",
              "      display: none;\n",
              "      fill: #1967D2;\n",
              "      height: 32px;\n",
              "      padding: 0 0 0 0;\n",
              "      width: 32px;\n",
              "    }\n",
              "\n",
              "    .colab-df-convert:hover {\n",
              "      background-color: #E2EBFA;\n",
              "      box-shadow: 0px 1px 2px rgba(60, 64, 67, 0.3), 0px 1px 3px 1px rgba(60, 64, 67, 0.15);\n",
              "      fill: #174EA6;\n",
              "    }\n",
              "\n",
              "    [theme=dark] .colab-df-convert {\n",
              "      background-color: #3B4455;\n",
              "      fill: #D2E3FC;\n",
              "    }\n",
              "\n",
              "    [theme=dark] .colab-df-convert:hover {\n",
              "      background-color: #434B5C;\n",
              "      box-shadow: 0px 1px 3px 1px rgba(0, 0, 0, 0.15);\n",
              "      filter: drop-shadow(0px 1px 2px rgba(0, 0, 0, 0.3));\n",
              "      fill: #FFFFFF;\n",
              "    }\n",
              "  </style>\n",
              "\n",
              "      <script>\n",
              "        const buttonEl =\n",
              "          document.querySelector('#df-8c55394e-2a20-4447-84bb-0bbb157ff99b button.colab-df-convert');\n",
              "        buttonEl.style.display =\n",
              "          google.colab.kernel.accessAllowed ? 'block' : 'none';\n",
              "\n",
              "        async function convertToInteractive(key) {\n",
              "          const element = document.querySelector('#df-8c55394e-2a20-4447-84bb-0bbb157ff99b');\n",
              "          const dataTable =\n",
              "            await google.colab.kernel.invokeFunction('convertToInteractive',\n",
              "                                                     [key], {});\n",
              "          if (!dataTable) return;\n",
              "\n",
              "          const docLinkHtml = 'Like what you see? Visit the ' +\n",
              "            '<a target=\"_blank\" href=https://colab.research.google.com/notebooks/data_table.ipynb>data table notebook</a>'\n",
              "            + ' to learn more about interactive tables.';\n",
              "          element.innerHTML = '';\n",
              "          dataTable['output_type'] = 'display_data';\n",
              "          await google.colab.output.renderOutput(dataTable, element);\n",
              "          const docLink = document.createElement('div');\n",
              "          docLink.innerHTML = docLinkHtml;\n",
              "          element.appendChild(docLink);\n",
              "        }\n",
              "      </script>\n",
              "    </div>\n",
              "  </div>\n",
              "  "
            ]
          },
          "metadata": {},
          "execution_count": 114
        }
      ]
    },
    {
      "cell_type": "code",
      "source": [
        "cmbd_scores"
      ],
      "metadata": {
        "colab": {
          "base_uri": "https://localhost:8080/",
          "height": 206
        },
        "outputId": "bf268353-52fd-4ffe-a3de-1a37049cf6c7",
        "id": "3x2jH75YXrCP"
      },
      "execution_count": null,
      "outputs": [
        {
          "output_type": "execute_result",
          "data": {
            "text/plain": [
              "                precision  recall    F1  support CI Precision  CI Recall  \\\n",
              "Boundary             0.44    0.44  0.44     6476    0.43-0.45  0.43-0.45   \n",
              "Bcubed               0.70    0.71  0.59     6476    0.69-0.71   0.7-0.72   \n",
              "WindowDiff           0.39    0.39  0.39     6476     0.38-0.4   0.38-0.4   \n",
              "Block                0.19    0.19  0.19     6476     0.18-0.2   0.18-0.2   \n",
              "Weighted Block       0.30    0.30  0.30     6476    0.29-0.31  0.29-0.31   \n",
              "\n",
              "                    CI F1  \n",
              "Boundary        0.43-0.45  \n",
              "Bcubed           0.58-0.6  \n",
              "WindowDiff       0.38-0.4  \n",
              "Block            0.18-0.2  \n",
              "Weighted Block  0.29-0.31  "
            ],
            "text/html": [
              "\n",
              "  <div id=\"df-5cdd3a21-5a4c-47a1-838a-18464c26f57e\">\n",
              "    <div class=\"colab-df-container\">\n",
              "      <div>\n",
              "<style scoped>\n",
              "    .dataframe tbody tr th:only-of-type {\n",
              "        vertical-align: middle;\n",
              "    }\n",
              "\n",
              "    .dataframe tbody tr th {\n",
              "        vertical-align: top;\n",
              "    }\n",
              "\n",
              "    .dataframe thead th {\n",
              "        text-align: right;\n",
              "    }\n",
              "</style>\n",
              "<table border=\"1\" class=\"dataframe\">\n",
              "  <thead>\n",
              "    <tr style=\"text-align: right;\">\n",
              "      <th></th>\n",
              "      <th>precision</th>\n",
              "      <th>recall</th>\n",
              "      <th>F1</th>\n",
              "      <th>support</th>\n",
              "      <th>CI Precision</th>\n",
              "      <th>CI Recall</th>\n",
              "      <th>CI F1</th>\n",
              "    </tr>\n",
              "  </thead>\n",
              "  <tbody>\n",
              "    <tr>\n",
              "      <th>Boundary</th>\n",
              "      <td>0.44</td>\n",
              "      <td>0.44</td>\n",
              "      <td>0.44</td>\n",
              "      <td>6476</td>\n",
              "      <td>0.43-0.45</td>\n",
              "      <td>0.43-0.45</td>\n",
              "      <td>0.43-0.45</td>\n",
              "    </tr>\n",
              "    <tr>\n",
              "      <th>Bcubed</th>\n",
              "      <td>0.70</td>\n",
              "      <td>0.71</td>\n",
              "      <td>0.59</td>\n",
              "      <td>6476</td>\n",
              "      <td>0.69-0.71</td>\n",
              "      <td>0.7-0.72</td>\n",
              "      <td>0.58-0.6</td>\n",
              "    </tr>\n",
              "    <tr>\n",
              "      <th>WindowDiff</th>\n",
              "      <td>0.39</td>\n",
              "      <td>0.39</td>\n",
              "      <td>0.39</td>\n",
              "      <td>6476</td>\n",
              "      <td>0.38-0.4</td>\n",
              "      <td>0.38-0.4</td>\n",
              "      <td>0.38-0.4</td>\n",
              "    </tr>\n",
              "    <tr>\n",
              "      <th>Block</th>\n",
              "      <td>0.19</td>\n",
              "      <td>0.19</td>\n",
              "      <td>0.19</td>\n",
              "      <td>6476</td>\n",
              "      <td>0.18-0.2</td>\n",
              "      <td>0.18-0.2</td>\n",
              "      <td>0.18-0.2</td>\n",
              "    </tr>\n",
              "    <tr>\n",
              "      <th>Weighted Block</th>\n",
              "      <td>0.30</td>\n",
              "      <td>0.30</td>\n",
              "      <td>0.30</td>\n",
              "      <td>6476</td>\n",
              "      <td>0.29-0.31</td>\n",
              "      <td>0.29-0.31</td>\n",
              "      <td>0.29-0.31</td>\n",
              "    </tr>\n",
              "  </tbody>\n",
              "</table>\n",
              "</div>\n",
              "      <button class=\"colab-df-convert\" onclick=\"convertToInteractive('df-5cdd3a21-5a4c-47a1-838a-18464c26f57e')\"\n",
              "              title=\"Convert this dataframe to an interactive table.\"\n",
              "              style=\"display:none;\">\n",
              "        \n",
              "  <svg xmlns=\"http://www.w3.org/2000/svg\" height=\"24px\"viewBox=\"0 0 24 24\"\n",
              "       width=\"24px\">\n",
              "    <path d=\"M0 0h24v24H0V0z\" fill=\"none\"/>\n",
              "    <path d=\"M18.56 5.44l.94 2.06.94-2.06 2.06-.94-2.06-.94-.94-2.06-.94 2.06-2.06.94zm-11 1L8.5 8.5l.94-2.06 2.06-.94-2.06-.94L8.5 2.5l-.94 2.06-2.06.94zm10 10l.94 2.06.94-2.06 2.06-.94-2.06-.94-.94-2.06-.94 2.06-2.06.94z\"/><path d=\"M17.41 7.96l-1.37-1.37c-.4-.4-.92-.59-1.43-.59-.52 0-1.04.2-1.43.59L10.3 9.45l-7.72 7.72c-.78.78-.78 2.05 0 2.83L4 21.41c.39.39.9.59 1.41.59.51 0 1.02-.2 1.41-.59l7.78-7.78 2.81-2.81c.8-.78.8-2.07 0-2.86zM5.41 20L4 18.59l7.72-7.72 1.47 1.35L5.41 20z\"/>\n",
              "  </svg>\n",
              "      </button>\n",
              "      \n",
              "  <style>\n",
              "    .colab-df-container {\n",
              "      display:flex;\n",
              "      flex-wrap:wrap;\n",
              "      gap: 12px;\n",
              "    }\n",
              "\n",
              "    .colab-df-convert {\n",
              "      background-color: #E8F0FE;\n",
              "      border: none;\n",
              "      border-radius: 50%;\n",
              "      cursor: pointer;\n",
              "      display: none;\n",
              "      fill: #1967D2;\n",
              "      height: 32px;\n",
              "      padding: 0 0 0 0;\n",
              "      width: 32px;\n",
              "    }\n",
              "\n",
              "    .colab-df-convert:hover {\n",
              "      background-color: #E2EBFA;\n",
              "      box-shadow: 0px 1px 2px rgba(60, 64, 67, 0.3), 0px 1px 3px 1px rgba(60, 64, 67, 0.15);\n",
              "      fill: #174EA6;\n",
              "    }\n",
              "\n",
              "    [theme=dark] .colab-df-convert {\n",
              "      background-color: #3B4455;\n",
              "      fill: #D2E3FC;\n",
              "    }\n",
              "\n",
              "    [theme=dark] .colab-df-convert:hover {\n",
              "      background-color: #434B5C;\n",
              "      box-shadow: 0px 1px 3px 1px rgba(0, 0, 0, 0.15);\n",
              "      filter: drop-shadow(0px 1px 2px rgba(0, 0, 0, 0.3));\n",
              "      fill: #FFFFFF;\n",
              "    }\n",
              "  </style>\n",
              "\n",
              "      <script>\n",
              "        const buttonEl =\n",
              "          document.querySelector('#df-5cdd3a21-5a4c-47a1-838a-18464c26f57e button.colab-df-convert');\n",
              "        buttonEl.style.display =\n",
              "          google.colab.kernel.accessAllowed ? 'block' : 'none';\n",
              "\n",
              "        async function convertToInteractive(key) {\n",
              "          const element = document.querySelector('#df-5cdd3a21-5a4c-47a1-838a-18464c26f57e');\n",
              "          const dataTable =\n",
              "            await google.colab.kernel.invokeFunction('convertToInteractive',\n",
              "                                                     [key], {});\n",
              "          if (!dataTable) return;\n",
              "\n",
              "          const docLinkHtml = 'Like what you see? Visit the ' +\n",
              "            '<a target=\"_blank\" href=https://colab.research.google.com/notebooks/data_table.ipynb>data table notebook</a>'\n",
              "            + ' to learn more about interactive tables.';\n",
              "          element.innerHTML = '';\n",
              "          dataTable['output_type'] = 'display_data';\n",
              "          await google.colab.output.renderOutput(dataTable, element);\n",
              "          const docLink = document.createElement('div');\n",
              "          docLink.innerHTML = docLinkHtml;\n",
              "          element.appendChild(docLink);\n",
              "        }\n",
              "      </script>\n",
              "    </div>\n",
              "  </div>\n",
              "  "
            ]
          },
          "metadata": {},
          "execution_count": 115
        }
      ]
    },
    {
      "cell_type": "markdown",
      "source": [
        "# Using buzzwords with tfIdf"
      ],
      "metadata": {
        "id": "zv6H2zgZwkL8"
      }
    },
    {
      "cell_type": "code",
      "execution_count": null,
      "metadata": {
        "id": "KiknAkQqfe3w"
      },
      "outputs": [],
      "source": [
        "fp_np_dict = {}\n",
        "for id in prediction_json_im_noswitch_corp2:\n",
        "  pred = prediction_json_im_noswitch_corp2[id]\n",
        "  gs = gold_std_dict[id]\n",
        "  temp_list = pred - gs\n",
        "  fp = np.where(temp_list == 1)[0]\n",
        "  fn = np.where(temp_list == -1)[0]\n",
        "  fp_np_dict[id] =  {'fp' : fp, 'fn' : fn}"
      ]
    },
    {
      "cell_type": "code",
      "execution_count": null,
      "metadata": {
        "colab": {
          "base_uri": "https://localhost:8080/"
        },
        "id": "8nUvb8u8gTq4",
        "outputId": "1d2ffe07-eafd-441b-bcbe-0f61fb04afb2"
      },
      "outputs": [
        {
          "output_type": "execute_result",
          "data": {
            "text/plain": [
              "{'fp': array([ 2, 11, 13, 17, 20, 22, 31, 35]),\n",
              " 'fn': array([ 6,  8, 10, 15, 16, 33, 34, 39])}"
            ]
          },
          "metadata": {},
          "execution_count": 20
        }
      ],
      "source": [
        "fp_np_dict[list(fp_np_dict.keys())[0]]"
      ]
    },
    {
      "cell_type": "code",
      "execution_count": null,
      "metadata": {
        "id": "8Ts4f8cKyjsg"
      },
      "outputs": [],
      "source": [
        "all_streams = test_data['name'].unique()"
      ]
    },
    {
      "cell_type": "code",
      "execution_count": null,
      "metadata": {
        "id": "zPiT-i2PhVM_"
      },
      "outputs": [],
      "source": [
        "last_page_texts = []\n",
        "first_page_texts = []\n",
        "all_page_texts = []\n",
        "last_page_indexes = []\n",
        "first_page_indexes = []\n",
        "\n",
        "n = 0\n",
        "for key,val in fp_np_dict.items():\n",
        "  sub_df = test_data[test_data['name'] == key]\n",
        "  start_page = sub_df['page'].values[0]\n",
        "  sub_texts = list(sub_df['text'].values)\n",
        "  fps = val['fp']\n",
        "  all_page_texts += sub_texts\n",
        "  last_page_indexes += list(fps + n)\n",
        "  first_page_indexes+= list(fps + n+1)\n",
        "  n += len(sub_texts)\n",
        "  fps = list(fps)\n",
        "  if fps:\n",
        "    for ind in fps:\n",
        "      last_page_texts.append(sub_df['text'].values[ind-1])\n",
        "      first_page_texts.append(sub_df['text'].values[ind])\n",
        "                           "
      ]
    },
    {
      "cell_type": "code",
      "execution_count": null,
      "metadata": {
        "id": "FC4d7yZcjwZ5"
      },
      "outputs": [],
      "source": [
        "def remove_nan(inp):\n",
        "  if isinstance(inp,str):\n",
        "    return inp\n",
        "  else:\n",
        "    return ''"
      ]
    },
    {
      "cell_type": "code",
      "execution_count": null,
      "metadata": {
        "colab": {
          "base_uri": "https://localhost:8080/"
        },
        "id": "zScyC12wjW52",
        "outputId": "4388368f-a6f1-4502-e277-f8348b51668e"
      },
      "outputs": [
        {
          "output_type": "execute_result",
          "data": {
            "text/plain": [
              "3089"
            ]
          },
          "metadata": {},
          "execution_count": 44
        }
      ],
      "source": [
        "last_page_texts = [remove_nan(x) for x in last_page_texts]\n",
        "len(last_page_texts)"
      ]
    },
    {
      "cell_type": "code",
      "execution_count": null,
      "metadata": {
        "id": "SA2NF5-Yzrwv",
        "colab": {
          "base_uri": "https://localhost:8080/"
        },
        "outputId": "0b3b8ba0-0f4f-42c8-9152-6693253b9be4"
      },
      "outputs": [
        {
          "output_type": "execute_result",
          "data": {
            "text/plain": [
              "25124"
            ]
          },
          "metadata": {},
          "execution_count": 46
        }
      ],
      "source": [
        "all_page_texts = [remove_nan(x) for x in all_page_texts]\n",
        "len(all_page_texts)"
      ]
    },
    {
      "cell_type": "code",
      "execution_count": null,
      "metadata": {
        "id": "lB26ZbsQjGsP"
      },
      "outputs": [],
      "source": [
        "from sklearn.feature_extraction.text import TfidfVectorizer\n",
        "\n",
        "vectorizer = TfidfVectorizer()\n",
        "X = vectorizer.fit_transform(all_page_texts)\n",
        "fts = vectorizer.get_feature_names_out()"
      ]
    },
    {
      "cell_type": "code",
      "execution_count": null,
      "metadata": {
        "colab": {
          "base_uri": "https://localhost:8080/"
        },
        "id": "pBYAhbz20f6f",
        "outputId": "aa9dfb5d-3f38-4378-fa8d-6cab7a3c1cc6"
      },
      "outputs": [
        {
          "output_type": "execute_result",
          "data": {
            "text/plain": [
              "(25124, 178408)"
            ]
          },
          "metadata": {},
          "execution_count": 48
        }
      ],
      "source": [
        "X.shape"
      ]
    },
    {
      "cell_type": "code",
      "execution_count": null,
      "metadata": {
        "colab": {
          "base_uri": "https://localhost:8080/"
        },
        "id": "BEk1zCmd0ojs",
        "outputId": "d35a4bc5-6de2-4d3f-c8be-9381f7d3c305"
      },
      "outputs": [
        {
          "output_type": "execute_result",
          "data": {
            "text/plain": [
              "178408"
            ]
          },
          "metadata": {},
          "execution_count": 49
        }
      ],
      "source": [
        "len(fts)"
      ]
    },
    {
      "cell_type": "code",
      "execution_count": null,
      "metadata": {
        "id": "PCQjWhvuk37O"
      },
      "outputs": [],
      "source": [
        "selected_matrix = X[np.array(last_page_indexes)]"
      ]
    },
    {
      "cell_type": "code",
      "execution_count": null,
      "metadata": {
        "colab": {
          "base_uri": "https://localhost:8080/"
        },
        "id": "aGEr-hBj6Khr",
        "outputId": "c57cc00f-501e-41d7-d8b8-44817ea55652"
      },
      "outputs": [
        {
          "output_type": "execute_result",
          "data": {
            "text/plain": [
              "(22035, 178408)"
            ]
          },
          "metadata": {},
          "execution_count": 51
        }
      ],
      "source": [
        "bool_idx = np.zeros(X.shape[0], dtype=bool)\n",
        "bool_idx[last_page_indexes] = True\n",
        "selected_matrix = X[np.array(last_page_indexes)]\n",
        "rest_matrix = X[~bool_idx]\n",
        "rest_matrix.shape"
      ]
    },
    {
      "cell_type": "code",
      "execution_count": null,
      "metadata": {
        "id": "AQCW3bVO7T8B"
      },
      "outputs": [],
      "source": [
        "avgs_selected = np.array(np.squeeze(selected_matrix.mean(axis = 0)))[0].flatten()\n",
        "avgs_rest = np.array(np.squeeze(rest_matrix.mean(axis = 0)))[0].flatten()\n",
        "\n",
        "subtracted = avgs_rest - avgs_selected\n",
        "inds = np.argpartition(subtracted, -40)[-40:]\n",
        "new_top = fts[inds]"
      ]
    },
    {
      "cell_type": "code",
      "execution_count": null,
      "metadata": {
        "colab": {
          "base_uri": "https://localhost:8080/"
        },
        "id": "Q46B2qBQ8leH",
        "outputId": "3fb4dfe5-2dcd-42c9-dc8e-4f0beb93b573"
      },
      "outputs": [
        {
          "output_type": "execute_result",
          "data": {
            "text/plain": [
              "(10,)"
            ]
          },
          "metadata": {},
          "execution_count": 54
        }
      ],
      "source": [
        "new_top.shape"
      ]
    },
    {
      "cell_type": "code",
      "execution_count": null,
      "metadata": {
        "colab": {
          "base_uri": "https://localhost:8080/"
        },
        "id": "uVizVW3K8fGv",
        "outputId": "a4149578-1993-4185-bb0a-e9c9b45024c7"
      },
      "outputs": [
        {
          "output_type": "execute_result",
          "data": {
            "text/plain": [
              "array(['33', 'testen', 'brabant', 'gelderland', '23', '07', 'weergegeven',\n",
              "       'received', '08', '20', 'totaal', 'noord', 'nederland', 'bron',\n",
              "       '29', 'gemeld', '12', 'gemelde', 'per', '100', 'ggd', '30', '2020',\n",
              "       'pm', 'zuid', '27', 'am', 'figuur', '19', 'patiénten', 'covid',\n",
              "       'situatie', 'overleden', 'epidemiologische', '000', 'aantal', '25',\n",
              "       'vanaf', 'meldingen', '00'], dtype=object)"
            ]
          },
          "metadata": {},
          "execution_count": 64
        }
      ],
      "source": [
        "new_top"
      ]
    },
    {
      "cell_type": "code",
      "execution_count": null,
      "metadata": {
        "id": "l5Nzq1rr01pu"
      },
      "outputs": [],
      "source": [
        "topn = get_keywords_from_matrix(selected_matrix,fts,300)"
      ]
    },
    {
      "cell_type": "code",
      "execution_count": null,
      "metadata": {
        "id": "i8jj2XYWjL-p"
      },
      "outputs": [],
      "source": [
        "def sort_coo(coo_matrix):\n",
        "    \"\"\"Sort a dict with highest score\"\"\"\n",
        "    tuples = zip(coo_matrix.col, coo_matrix.data)\n",
        "    return sorted(tuples, key=lambda x: (x[1], x[0]), reverse=True)\n",
        "\n",
        "def extract_topn_from_vector(feature_names, sorted_items, topn=10):\n",
        "    \"\"\"get the feature names and tf-idf score of top n items\"\"\"\n",
        "    \n",
        "    #use only topn items from vector\n",
        "    sorted_items = sorted_items[:topn]\n",
        "\n",
        "    score_vals = []\n",
        "    feature_vals = []\n",
        "    \n",
        "    # word index and corresponding tf-idf score\n",
        "    for idx, score in sorted_items:\n",
        "        \n",
        "        #keep track of feature name and its corresponding score\n",
        "        score_vals.append(score)\n",
        "        feature_vals.append(feature_names[idx])\n",
        "\n",
        "    #create a tuples of feature, score\n",
        "    results= {}\n",
        "    for idx in range(len(feature_vals)):\n",
        "        results[feature_vals[idx]]=score_vals[idx]\n",
        "    \n",
        "    return results"
      ]
    },
    {
      "cell_type": "code",
      "execution_count": null,
      "metadata": {
        "id": "MsneZtpU0k1d"
      },
      "outputs": [],
      "source": [
        "def get_keywords_from_matrix(matrix, fts,N = 10):\n",
        "    \"\"\"Return top k keywords from a doc using TF-IDF method\"\"\"\n",
        "\n",
        "    #sort the tf-idf vectors by descending order of scores\n",
        "    sorted_items=sort_coo(matrix.tocoo())\n",
        "\n",
        "    #extract only TOP_K_KEYWORDS\n",
        "    keywords=extract_topn_from_vector(fts,sorted_items,N )\n",
        "    \n",
        "    return list(keywords.keys())"
      ]
    },
    {
      "cell_type": "code",
      "source": [
        "get_keywords_from_matrix"
      ],
      "metadata": {
        "id": "PInlQe_o2bTG"
      },
      "execution_count": null,
      "outputs": []
    },
    {
      "cell_type": "code",
      "execution_count": null,
      "metadata": {
        "id": "8lt49W0lltPZ"
      },
      "outputs": [],
      "source": [
        "def get_keywords(vectorizer, low,N = 10):\n",
        "    \"\"\"Return top k keywords from a doc using TF-IDF method\"\"\"\n",
        "\n",
        "    #generate tf-idf for the given document\n",
        "    tf_idf_vector = vectorizer.transform(low)\n",
        "    fts = vectorizer.get_feature_names_out()\n",
        "    \n",
        "    #sort the tf-idf vectors by descending order of scores\n",
        "    sorted_items=sort_coo(tf_idf_vector.tocoo())\n",
        "\n",
        "    #extract only TOP_K_KEYWORDS\n",
        "    keywords=extract_topn_from_vector(fts,sorted_items,N )\n",
        "    \n",
        "    return list(keywords.keys())\n",
        "\n"
      ]
    },
    {
      "cell_type": "code",
      "execution_count": null,
      "metadata": {
        "id": "aiYhQbKgl7px"
      },
      "outputs": [],
      "source": [
        "top30 =get_keywords(vectorizer,last_page_texts,20)"
      ]
    },
    {
      "cell_type": "markdown",
      "source": [
        "# Testing variety in K for classification"
      ],
      "metadata": {
        "id": "EtoqHM_UFgew"
      }
    },
    {
      "cell_type": "code",
      "source": [
        "def set_first_value1(results):\n",
        "  results[0] = 1\n",
        "  return results"
      ],
      "metadata": {
        "id": "r0y1J538FiaE"
      },
      "execution_count": null,
      "outputs": []
    },
    {
      "cell_type": "code",
      "source": [
        "def select_topn(pred_list, n):\n",
        "  pred_labels = np.zeros(len(pred_list))\n",
        "  inds = np.argpartition(pred_list, -n)[-n:]\n",
        "  for ind in inds:\n",
        "    pred_labels[ind] = 1\n",
        "  return pred_labels"
      ],
      "metadata": {
        "id": "36xc1Tg4GX0D"
      },
      "execution_count": null,
      "outputs": []
    },
    {
      "cell_type": "code",
      "source": [
        "import random\n",
        "\n",
        "prediction_json_corp2 = {stream : preds for stream,preds in prediction_json_corp2.items() if sum(gold_std_dict[stream]) > 1}\n",
        "\n",
        "def select_topn(pred_list, n):\n",
        "  pred_labels = np.zeros(len(pred_list))\n",
        "  inds = np.argpartition(pred_list, -n)[-n:]\n",
        "  for ind in inds:\n",
        "    pred_labels[ind] = 1\n",
        "  return pred_labels\n",
        "  \n",
        "def set_first_value1(results):\n",
        "  results[0] = 1\n",
        "  return results\n",
        "\n",
        "results = {'k_mult' : [], 'Boundary' : [], 'WB' :[], 'bd_precision':[],'bd_recall':[],'wb_precision':[],'wb_recall':[]}\n",
        "for k in tqdm(np.arange(0.5,2.5,0.01)):\n",
        "  rand_mult = random.uniform(0.5, 2.5)\n",
        "  bound_f1 = []\n",
        "  wb_f1 = []\n",
        "  \n",
        "  bound_pre = []\n",
        "  bound_rec = []\n",
        "  \n",
        "  wb_pre = []\n",
        "  wb_rec = []\n",
        "  for doc_id, pred in prediction_json_corp2.items():\n",
        "    gld = gold_std_dict[doc_id]\n",
        "    n_docs = sum(gld)\n",
        "    n_pages = len(gld)\n",
        "    diff_k = int(rand_mult * n_docs)\n",
        "    diff_k = max(diff_k,1)\n",
        "    diff_k = min(n_pages,diff_k)\n",
        "    pred = np.array(pred)\n",
        "\n",
        "    pred_flat = set_first_value1(pred.flatten())\n",
        "    topn = select_topn(pred_flat,diff_k)\n",
        "\n",
        "    bound_f1.append(f1(gld, topn))\n",
        "    bound_pre.append(precision(gld,topn))\n",
        "    bound_rec.append(recall(gld,topn))\n",
        "\n",
        "    gld_len = bin_to_length_list(gld)\n",
        "    topn_len = bin_to_length_list(topn)\n",
        "    WTP = IoU_TruePositives(gld_len,topn_len)\n",
        "    wb_precision = WTP / len(gld_len)\n",
        "    wb_recall = WTP / len(topn_len)\n",
        "    if wb_precision + wb_recall == 0:\n",
        "      wb_f1_s = 0\n",
        "    else:\n",
        "      wb_f1_s = (2*wb_precision*wb_recall) / (wb_precision+wb_recall)\n",
        "    wb_f1.append(wb_f1_s)\n",
        "    wb_pre.append(wb_precision)\n",
        "    wb_rec.append(wb_recall)\n",
        "\n",
        "  mean_bound = np.mean(bound_f1)\n",
        "  mean_wb = np.mean(wb_f1)\n",
        "  results['k_mult'].append(rand_mult)\n",
        "  results['Boundary'].append(mean_bound)\n",
        "  results['bd_precision'].append(np.mean(bound_pre))\n",
        "  results['bd_recall'].append(np.mean(bound_rec))\n",
        "  results['WB'].append(mean_wb)\n",
        "  results['wb_precision'].append(np.mean(wb_pre))\n",
        "  results['wb_recall'].append(np.mean(wb_rec))"
      ],
      "metadata": {
        "colab": {
          "base_uri": "https://localhost:8080/"
        },
        "id": "oc9CzA4EGR5t",
        "outputId": "4e6f970d-aa21-4e5f-b3b7-ebc72c7677b5"
      },
      "execution_count": null,
      "outputs": [
        {
          "output_type": "stream",
          "name": "stderr",
          "text": [
            "100%|██████████| 200/200 [14:11<00:00,  4.26s/it]\n"
          ]
        }
      ]
    },
    {
      "cell_type": "code",
      "source": [
        "with open('out.json','w') as f:\n",
        "  json.dump(results,f)"
      ],
      "metadata": {
        "id": "xDsKaiIKB-AP"
      },
      "execution_count": null,
      "outputs": []
    },
    {
      "cell_type": "code",
      "source": [
        "res_df = pd.DataFrame(results)\n",
        "res_df = res_df.sort_values(by='k_mult')"
      ],
      "metadata": {
        "id": "xn7joSutVE4s"
      },
      "execution_count": null,
      "outputs": []
    },
    {
      "cell_type": "code",
      "source": [
        "sns.set_theme()\n",
        "\n",
        "x = res_df['k_mult'].values\n",
        "bd = res_df['Boundary'].values\n",
        "bd_base = res_df['basic_bound'].values\n",
        "bd_p = res_df['bd_precision'].values\n",
        "bd_r = res_df['bd_recall'].values\n",
        "\n",
        "plt.plot(x, bd, '-', label ='Page F1', linewidth=3)\n",
        "plt.plot(x, bd_p, '-', label ='Page Precision', linewidth=3)\n",
        "plt.plot(x, bd_r, '-', label ='Page Recall', linewidth=3)\n",
        "plt.plot(x, bd_base, '-', label ='Normal Page F1', linewidth=3)\n",
        "\n",
        "idx_bd = np.argwhere(np.diff(np.sign(bd - bd_base))).flatten()\n",
        "plt.plot([0.79,1.21], [0.86,.86], 'ro', linewidth=5)\n",
        "\n",
        "plt.title(\"Variety in K for Page F1\")\n",
        "plt.xlabel(\"K multiplier\")\n",
        "plt.ylabel(\"Prediction Score\")\n",
        "plt.legend(loc = 'best')\n",
        "plt.ylim(0.3, 1.09)\n",
        "plt.xlim(0.5, 2.5)\n",
        "\n",
        "plt.show()"
      ],
      "metadata": {
        "colab": {
          "base_uri": "https://localhost:8080/",
          "height": 301
        },
        "id": "eNSG9JvsaDOV",
        "outputId": "4101b045-fc92-422d-b73d-1e4cef51fe85"
      },
      "execution_count": null,
      "outputs": [
        {
          "output_type": "display_data",
          "data": {
            "text/plain": [
              "<Figure size 432x288 with 1 Axes>"
            ],
            "image/png": "[encoded data removed]"
          },
          "metadata": {}
        }
      ]
    },
    {
      "cell_type": "code",
      "source": [
        "sns.set_theme()\n",
        "\n",
        "x = res_df['k_mult'].values\n",
        "wb = res_df['WB'].values\n",
        "wb_base = res_df['basic_wb'].values\n",
        "wb_p = res_df['wb_precision'].values\n",
        "wb_r = res_df['wb_recall'].values\n",
        "\n",
        "plt.plot(x, wb, '-', label ='Doc F1', linewidth=3)\n",
        "plt.plot(x, wb_r, '-', label ='Doc Precision', linewidth=3)\n",
        "plt.plot(x, wb_p, '-', label ='Doc Recall', linewidth=3)\n",
        "plt.plot(x, wb_base, '-', label = 'Normal Doc F1', linewidth=3)\n",
        "\n",
        "plt.plot([0.7,1.35], [0.68,0.68], 'ro')\n",
        "\n",
        "plt.title(\"Variety in K for Doc F1\")\n",
        "plt.xlabel(\"K multiplier\")\n",
        "plt.ylabel(\"Prediction Score\")\n",
        "plt.legend(loc = 'best')\n",
        "plt.ylim(0.3, 1.09)\n",
        "plt.xlim(0.5, 2.5)\n",
        "plt.show()"
      ],
      "metadata": {
        "colab": {
          "base_uri": "https://localhost:8080/",
          "height": 301
        },
        "id": "irFWIfm7Znfl",
        "outputId": "0a12a987-f744-46a5-d3f0-2c383fb0c21d"
      },
      "execution_count": null,
      "outputs": [
        {
          "output_type": "display_data",
          "data": {
            "text/plain": [
              "<Figure size 432x288 with 1 Axes>"
            ],
            "image/png": "[encoded data removed]"
          },
          "metadata": {}
        }
      ]
    },
    {
      "cell_type": "markdown",
      "source": [
        "## Predicting K using XGBOOST"
      ],
      "metadata": {
        "id": "Lod3EoN9VON2"
      }
    },
    {
      "cell_type": "code",
      "source": [
        "def stream_to_vec(doc_dists, n_pages, corp, n_corps = 2, add_up = True):\n",
        "  all_hists = []\n",
        "  cmbd_hist = np.zeros(10)\n",
        "  for doc_dist in doc_dists:\n",
        "    hist, bin_edges = np.histogram(doc_dist, density=False,bins=np.arange(0,1.1,0.1))\n",
        "    if add_up:\n",
        "      cmbd_hist += hist\n",
        "    else:  \n",
        "      all_hists += list(hist)\n",
        "\n",
        "  if add_up:\n",
        "    vec_arr = np.array([n_pages] + list(cmbd_hist))\n",
        "  else:\n",
        "    vec_arr = np.array([n_pages] + list(all_hists))\n",
        "  return vec_arr"
      ],
      "metadata": {
        "id": "3VsbNO-Ee7rq"
      },
      "execution_count": null,
      "outputs": []
    },
    {
      "cell_type": "code",
      "source": [
        "train_data = pd.read_csv('/content/gdrive/MyDrive/master_thesis/new_corpus/train_data.csv')\n",
        "combined_corp2 = pd.concat([test_data, train_data], ignore_index=True, sort=False)"
      ],
      "metadata": {
        "id": "VJPslJksXPID"
      },
      "execution_count": null,
      "outputs": []
    },
    {
      "cell_type": "code",
      "source": [
        "gold_std_dict_all = {}\n",
        "for doc_id,content in combined_corp2.groupby('name'):\n",
        "    repl_doc_id = doc_id.replace('__concatenated','')\n",
        "    content = content.sort_values(by='page')\n",
        "    gold_std = content['label'].values\n",
        "    gold_std_dict_all[repl_doc_id] = gold_std"
      ],
      "metadata": {
        "id": "wl4R9wifXvfe"
      },
      "execution_count": null,
      "outputs": []
    },
    {
      "cell_type": "code",
      "source": [
        "import pickle\n",
        "test_vals = test_data['name'].unique()\n",
        "import itertools\n",
        "test_distlists = {}\n",
        "train_distlists = {}\n",
        "\n",
        "use_dist_list = True\n",
        "\n",
        "train_text_folder = '/content/gdrive/MyDrive/master_thesis/new_corpus/train_text_pretrained_corp2'\n",
        "train_im_folder = '/content/gdrive/MyDrive/master_thesis/new_corpus/vgg_train'\n",
        "\n",
        "test_text_folder = '/content/gdrive/MyDrive/master_thesis/new_corpus/text_vectors'\n",
        "test_im_folder = '/content/gdrive/MyDrive/master_thesis/new_corpus/VGG_vectors'\n",
        "\n",
        "stuff = [0,1]\n",
        "\n",
        "all_train = []\n",
        "all_test = []\n",
        "for L in range(1,len(stuff) + 1):\n",
        "  for subset in itertools.combinations(stuff, L):\n",
        "    test_set = {'streams':[],'vectors' : [], 'gold_std' : []}\n",
        "    train_set = {'streams':[],'vectors' : [], 'gold_std' : []}\n",
        "    print(subset)\n",
        "    for doc_id, content in tqdm(combined_corp2.groupby('name')):\n",
        "      repl_doc_id = doc_id.replace('__concatenated','')\n",
        "      content = content.sort_values(by='page')\n",
        "      corpus = content['corpus'].iloc[0]\n",
        "      gold_std = gold_std_dict_all[repl_doc_id]\n",
        "      n_docs = sum(gold_std)\n",
        "      if n_docs > 1:\n",
        "        n_pages = len(gold_std)\n",
        "\n",
        "        if doc_id in test_vals:\n",
        "          corpus_im_folder = test_im_folder\n",
        "        else:\n",
        "          corpus_im_folder = train_im_folder\n",
        "        im_page_vectors_path = os.path.join(corpus_im_folder,doc_id+'.npy')\n",
        "        im_page_vectors = np.load(im_page_vectors_path)\n",
        "        \n",
        "        if doc_id in test_vals:\n",
        "          corpus_text_folder = test_text_folder\n",
        "          text_page_vectors_path = os.path.join(corpus_text_folder,doc_id+'.pickle')\n",
        "          with open(text_page_vectors_path, 'rb') as f:\n",
        "            text_page_vectors = pickle.load(f)\n",
        "            f.close()\n",
        "          \n",
        "          #text_page_vectors = np.load(text_page_vectors_path)\n",
        "        else:\n",
        "          corpus_text_folder = train_text_folder\n",
        "          text_page_vectors_path = os.path.join(corpus_text_folder,doc_id+'_.npy')\n",
        "          text_page_vectors = np.load(text_page_vectors_path)\n",
        "        \n",
        "        \n",
        "        used_vectors = text_page_vectors\n",
        "\n",
        "        dist_list = []\n",
        "        for i in range(len(used_vectors)-1):\n",
        "          current_vector = used_vectors[i]\n",
        "          next_vector = used_vectors[i+1]\n",
        "          dist = distance.cosine(current_vector, next_vector)\n",
        "          dist_list.append(dist)\n",
        "        dist_list = np.array(dist_list)\n",
        "        if len(dist_list) >1:\n",
        "          dist_list_norm_text = (dist_list - np.min(dist_list)) / (np.max(dist_list) - np.min(dist_list))\n",
        "        else:\n",
        "          dist_list_norm_text = dist_list\n",
        "\n",
        "        used_vectors = im_page_vectors\n",
        "\n",
        "        dist_list = []\n",
        "        for i in range(len(used_vectors)-1):\n",
        "          current_vector = used_vectors[i]\n",
        "          next_vector = used_vectors[i+1]\n",
        "          dist = distance.cosine(current_vector, next_vector)\n",
        "          dist_list.append(dist)\n",
        "        dist_list = np.array(dist_list)\n",
        "        if len(dist_list) >1:\n",
        "          dist_list_norm_image = (dist_list - np.min(dist_list)) / (np.max(dist_list) - np.min(dist_list))\n",
        "        else:\n",
        "          dist_list_norm_image = dist_list\n",
        "\n",
        "        both_dist_lists = [dist_list_norm_image,dist_list_norm_text]\n",
        "        selected = [both_dist_lists[id] for id in subset]\n",
        "\n",
        "        if use_dist_list:\n",
        "          stream_vec = stream_to_vec(selected,n_pages, corpus, add_up = False)\n",
        "        else:\n",
        "          preds_flattend = prediction_json_corp1[doc_id].flatten()\n",
        "          stream_vec = stream_to_vec(preds_flattend, n_pages, corpus)\n",
        "        if doc_id in test_vals:\n",
        "          test_set['vectors'].append(stream_vec)\n",
        "          test_set['gold_std'].append(n_docs)\n",
        "          test_set['streams'].append(doc_id)\n",
        "        else:\n",
        "          train_set['vectors'].append(stream_vec)\n",
        "          train_set['gold_std'].append(n_docs)\n",
        "          train_set['streams'].append(doc_id)\n",
        "\n",
        "\n",
        "    all_train.append(train_set)\n",
        "    all_test.append(test_set)\n",
        "    model = XGBRegressor(objective = 'reg:squarederror')\n",
        "    model.fit(train_set['vectors'], train_set['gold_std'])\n",
        "    predictions = model.predict(test_set['vectors'])\n",
        "    pred_round = np.round(predictions)\n",
        "    mse_score = mean_squared_error(test_set['gold_std'],pred_round)\n",
        "    print(mse_score)\n",
        "\n",
        "    # use predictions for classification\n",
        "    predictedk_topk = {'bd' : [], 'wb' : []}\n",
        "    for i,stream in enumerate(test_set['streams']):\n",
        "      n_pages =len(gold_std_dict[stream])\n",
        "      n_docs = sum(gold_std_dict[stream])\n",
        "\n",
        "      if n_docs > 1:\n",
        "\n",
        "        predicted_k = int(pred_round[i])\n",
        "        predicted_k = min(n_pages,predicted_k)\n",
        "        predicted_k = max(predicted_k,1)\n",
        "        pred = prediction_json_corp2[stream]\n",
        "        pred_flat = set_first_value1(pred.flatten())\n",
        "        topn = select_topn(pred_flat,predicted_k)\n",
        "\n",
        "        predictedk_topk['bd'].append(f1(gold_std_dict[stream], topn))\n",
        "        predictedk_topk['wb'].append(IoU_F1(bin_to_length_list(gold_std_dict[stream]), bin_to_length_list(topn)))\n",
        "\n",
        "    print(np.mean(predictedk_topk['bd']))\n",
        "    print(np.mean(predictedk_topk['wb']))\n",
        "  \n",
        "  print()\n",
        "  print('-------------------------------')\n",
        "  print()"
      ],
      "metadata": {
        "colab": {
          "base_uri": "https://localhost:8080/"
        },
        "id": "yTH9EGjnSdSf",
        "outputId": "822c8115-6f63-43db-91a8-7a5a55943276"
      },
      "execution_count": null,
      "outputs": [
        {
          "output_type": "stream",
          "name": "stdout",
          "text": [
            "(0,)\n"
          ]
        },
        {
          "output_type": "stream",
          "name": "stderr",
          "text": [
            "100%|██████████| 108/108 [00:33<00:00,  3.25it/s]\n"
          ]
        },
        {
          "output_type": "stream",
          "name": "stdout",
          "text": [
            "15641.28125\n",
            "0.7913441702868792\n",
            "0.6611213507348218\n",
            "(1,)\n"
          ]
        },
        {
          "output_type": "stream",
          "name": "stderr",
          "text": [
            "100%|██████████| 108/108 [00:15<00:00,  6.77it/s]\n"
          ]
        },
        {
          "output_type": "stream",
          "name": "stdout",
          "text": [
            "8519.25\n",
            "0.7804526675274585\n",
            "0.6439613516487818\n",
            "\n",
            "-------------------------------\n",
            "\n",
            "(0, 1)\n"
          ]
        },
        {
          "output_type": "stream",
          "name": "stderr",
          "text": [
            "100%|██████████| 108/108 [00:15<00:00,  6.82it/s]\n"
          ]
        },
        {
          "output_type": "stream",
          "name": "stdout",
          "text": [
            "11459.90625\n",
            "0.7924071175454248\n",
            "0.6574243469405079\n",
            "\n",
            "-------------------------------\n",
            "\n"
          ]
        }
      ]
    },
    {
      "cell_type": "code",
      "source": [
        "# https://machinelearningmastery.com/xgboost-for-regression/\n",
        "import xgboost\n",
        "from sklearn.model_selection import cross_val_score\n",
        "from sklearn.model_selection import RepeatedKFold\n",
        "from sklearn.model_selection import train_test_split\n",
        "from xgboost import XGBRegressor\n",
        "from sklearn.metrics import mean_squared_error\n"
      ],
      "metadata": {
        "id": "IrNXGt8dhe9L"
      },
      "execution_count": null,
      "outputs": []
    },
    {
      "cell_type": "markdown",
      "source": [
        "searching hyperparameters\n",
        "https://www.kaggle.com/code/prashant111/a-guide-on-xgboost-hyperparameters-tuning/notebook\n"
      ],
      "metadata": {
        "id": "ibMQaWp7LjeV"
      }
    },
    {
      "cell_type": "code",
      "source": [
        "train_set = all_train[0]\n",
        "test_set = all_test[0]"
      ],
      "metadata": {
        "id": "EBYz3TrzJDMG"
      },
      "execution_count": null,
      "outputs": []
    },
    {
      "cell_type": "code",
      "source": [
        "train_sts, val_sts = train_test_split(train_arr, test_size =0.2)"
      ],
      "metadata": {
        "id": "_4wkS2saI5y_"
      },
      "execution_count": null,
      "outputs": []
    },
    {
      "cell_type": "code",
      "source": [
        "self_hp = {'n_est' : [100,200,300,500,1000],\n",
        "           'depth' : [3,4,5,6,7,8],\n",
        "           'lr' : [0.3,0.1,0.01,0.001],\n",
        "           'gamma' : [0,0.1,0.2,0.3,0.01]}"
      ],
      "metadata": {
        "id": "nuMfvv6sQ_FN"
      },
      "execution_count": null,
      "outputs": []
    },
    {
      "cell_type": "code",
      "source": [
        "X_train = list(train_sts[:,:10])\n",
        "Y_train = list(train_sts[:,-1])\n",
        "X_val = list(val_sts[:,:10])\n",
        "Y_val = list(val_sts[:,-1])"
      ],
      "metadata": {
        "id": "8XqngIndTBY_"
      },
      "execution_count": null,
      "outputs": []
    },
    {
      "cell_type": "code",
      "source": [
        "out_row = []\n",
        "max_score = 100000\n",
        "for est in self_hp['n_est']:\n",
        "  for depth in self_hp['depth']:\n",
        "    for lr in self_hp['lr']:\n",
        "      for g in self_hp['gamma']:\n",
        "        model = XGBRegressor(objective = 'reg:squarederror', n_estimators= est, \n",
        "                             max_depth=depth, learning_rate=lr, gamma = g)\n",
        "        model.fit(X_train, Y_train)\n",
        "        predictions = model.predict(X_val)\n",
        "        pred_round = np.round(predictions)\n",
        "        mse_score = mean_squared_error(Y_val,pred_round)\n",
        "        if mse_score < max_score:\n",
        "          print('new HS {}'.format(mse_score))\n",
        "          print('n_estimators: {}, max_depth: {}, learning_rate: {}, gamma: {}'.format(est,depth,lr,g))\n",
        "          max_score = mse_score\n",
        "        out_row.append([est,depth,lr,mse_score])"
      ],
      "metadata": {
        "id": "8VnppZZ_PM_g",
        "colab": {
          "base_uri": "https://localhost:8080/"
        },
        "outputId": "5f503858-3c74-42b9-d60c-68d8ca4e9fa7"
      },
      "execution_count": null,
      "outputs": [
        {
          "output_type": "stream",
          "name": "stdout",
          "text": [
            "new HS 16966.625\n",
            "n_estimators: 100, max_depth: 3, learning_rate: 0.3, gamma: 0\n",
            "new HS 16942.875\n",
            "n_estimators: 100, max_depth: 3, learning_rate: 0.3, gamma: 0.1\n",
            "new HS 16934.3125\n",
            "n_estimators: 100, max_depth: 3, learning_rate: 0.3, gamma: 0.01\n",
            "new HS 16545.9375\n",
            "n_estimators: 300, max_depth: 3, learning_rate: 0.01, gamma: 0\n"
          ]
        }
      ]
    },
    {
      "cell_type": "code",
      "source": [
        "# Best parameters are very dependent on which stream is selected. There is too much varianceS\n",
        "\n",
        "# for one specific val set\n",
        "#n_estimators: 1000, max_depth: 6, learning_rate: 0.01, gamma: 0.2\n",
        "\n",
        "#n_estimators: 1000, max_depth: 3, learning_rate: 0.01, gamma: 0.1\n",
        "\n",
        "#n_estimators: 100, max_depth: 8, learning_rate: 0.3, gamma: 0.3\n",
        "\n",
        "#None of the above perform bette than the base metrics on the real test set for \n",
        "#corpus 1\n"
      ],
      "metadata": {
        "id": "OaviVC5VVZku"
      },
      "execution_count": null,
      "outputs": []
    },
    {
      "cell_type": "code",
      "source": [
        "model = XGBRegressor(objective = 'reg:squarederror')\n",
        "\n",
        "model.fit(train_set['vectors'], train_set['gold_std'])\n",
        "predictions = model.predict(test_set['vectors'])\n",
        "pred_round = np.round(predictions)\n",
        "mse_score = mean_squared_error(test_set['gold_std'],pred_round)\n",
        "mse_score"
      ],
      "metadata": {
        "colab": {
          "base_uri": "https://localhost:8080/"
        },
        "id": "roxKQrcYUSXk",
        "outputId": "b346e8c9-f1f9-4e0c-fd28-ac2f1eb59061"
      },
      "execution_count": null,
      "outputs": [
        {
          "output_type": "execute_result",
          "data": {
            "text/plain": [
              "15641.28125"
            ]
          },
          "metadata": {},
          "execution_count": 45
        }
      ]
    },
    {
      "cell_type": "code",
      "source": [
        "abs_dist_lower = []\n",
        "abs_dist_higher = []\n",
        "for i,pred_k in enumerate(pred_round):\n",
        "  gld = test_set['gold_std'][i]\n",
        "  pred_k = int(pred_k)\n",
        "  dist = pred_k / gld\n",
        "  if dist > 1:\n",
        "    abs_dist_higher.append(dist)\n",
        "  else:\n",
        "    abs_dist_lower.append(dist)\n",
        "\n",
        "print(np.mean(abs_dist_higher))\n",
        "print(np.mean(abs_dist_lower))"
      ],
      "metadata": {
        "colab": {
          "base_uri": "https://localhost:8080/"
        },
        "id": "1cqLvfHpKIL7",
        "outputId": "a66e2ce9-4a91-4e8e-a82c-c18bd8f45a55"
      },
      "execution_count": null,
      "outputs": [
        {
          "output_type": "stream",
          "name": "stdout",
          "text": [
            "1.9573134616630008\n",
            "0.7890677426337812\n"
          ]
        }
      ]
    },
    {
      "cell_type": "markdown",
      "source": [
        "We can see that with this predictions there is no way to go above the basic prection value"
      ],
      "metadata": {
        "id": "S8clsLEF5SaD"
      }
    },
    {
      "cell_type": "code",
      "source": [
        "# use predictions for classification\n",
        "for mult in np.arange(1,2.3,0.1):\n",
        "  predictedk_topk = {'bd' : [], 'wb' : []}\n",
        "  for i,stream in enumerate(test_set['streams']):\n",
        "    n_pages = len(gold_std_dict[stream])\n",
        "\n",
        "    predicted_k = int(pred_round[i] * mult)\n",
        "    predicted_k = min(n_pages,predicted_k)\n",
        "    predicted_k = max(predicted_k,1)\n",
        "    pred = prediction_json_corp2[stream]\n",
        "    pred_flat = set_first_value1(pred.flatten())\n",
        "    topn = select_topn(pred_flat,predicted_k)\n",
        "\n",
        "    predictedk_topk['bd'].append(f1(gold_std_dict[stream], topn))\n",
        "    predictedk_topk['wb'].append(IoU_F1(bin_to_length_list(gold_std_dict[stream]), bin_to_length_list(topn)))\n",
        "\n",
        "  print(mult)\n",
        "  print(np.mean(predictedk_topk['bd']))\n",
        "  print(np.mean(predictedk_topk['wb']))\n"
      ],
      "metadata": {
        "colab": {
          "base_uri": "https://localhost:8080/",
          "height": 432
        },
        "id": "x4NeD9z9xmqF",
        "outputId": "85c5412c-d5fd-4978-dd9f-50c1c0b7c3e0"
      },
      "execution_count": null,
      "outputs": [
        {
          "output_type": "stream",
          "name": "stdout",
          "text": [
            "1.0\n",
            "0.7913441702868792\n",
            "0.6611213507348218\n"
          ]
        },
        {
          "output_type": "error",
          "ename": "KeyboardInterrupt",
          "evalue": "ignored",
          "traceback": [
            "\u001b[0;31m---------------------------------------------------------------------------\u001b[0m",
            "\u001b[0;31mKeyboardInterrupt\u001b[0m                         Traceback (most recent call last)",
            "\u001b[0;32m<ipython-input-47-621c614ace85>\u001b[0m in \u001b[0;36m<module>\u001b[0;34m\u001b[0m\n\u001b[1;32m     13\u001b[0m \u001b[0;34m\u001b[0m\u001b[0m\n\u001b[1;32m     14\u001b[0m     \u001b[0mpredictedk_topk\u001b[0m\u001b[0;34m[\u001b[0m\u001b[0;34m'bd'\u001b[0m\u001b[0;34m]\u001b[0m\u001b[0;34m.\u001b[0m\u001b[0mappend\u001b[0m\u001b[0;34m(\u001b[0m\u001b[0mf1\u001b[0m\u001b[0;34m(\u001b[0m\u001b[0mgold_std_dict\u001b[0m\u001b[0;34m[\u001b[0m\u001b[0mstream\u001b[0m\u001b[0;34m]\u001b[0m\u001b[0;34m,\u001b[0m \u001b[0mtopn\u001b[0m\u001b[0;34m)\u001b[0m\u001b[0;34m)\u001b[0m\u001b[0;34m\u001b[0m\u001b[0;34m\u001b[0m\u001b[0m\n\u001b[0;32m---> 15\u001b[0;31m     \u001b[0mpredictedk_topk\u001b[0m\u001b[0;34m[\u001b[0m\u001b[0;34m'wb'\u001b[0m\u001b[0;34m]\u001b[0m\u001b[0;34m.\u001b[0m\u001b[0mappend\u001b[0m\u001b[0;34m(\u001b[0m\u001b[0mIoU_F1\u001b[0m\u001b[0;34m(\u001b[0m\u001b[0mbin_to_length_list\u001b[0m\u001b[0;34m(\u001b[0m\u001b[0mgold_std_dict\u001b[0m\u001b[0;34m[\u001b[0m\u001b[0mstream\u001b[0m\u001b[0;34m]\u001b[0m\u001b[0;34m)\u001b[0m\u001b[0;34m,\u001b[0m \u001b[0mbin_to_length_list\u001b[0m\u001b[0;34m(\u001b[0m\u001b[0mtopn\u001b[0m\u001b[0;34m)\u001b[0m\u001b[0;34m)\u001b[0m\u001b[0;34m)\u001b[0m\u001b[0;34m\u001b[0m\u001b[0;34m\u001b[0m\u001b[0m\n\u001b[0m\u001b[1;32m     16\u001b[0m \u001b[0;34m\u001b[0m\u001b[0m\n\u001b[1;32m     17\u001b[0m   \u001b[0mprint\u001b[0m\u001b[0;34m(\u001b[0m\u001b[0mmult\u001b[0m\u001b[0;34m)\u001b[0m\u001b[0;34m\u001b[0m\u001b[0;34m\u001b[0m\u001b[0m\n",
            "\u001b[0;32m/content/metricutils.py\u001b[0m in \u001b[0;36mIoU_F1\u001b[0;34m(t, h)\u001b[0m\n\u001b[1;32m    194\u001b[0m \u001b[0;34m\u001b[0m\u001b[0m\n\u001b[1;32m    195\u001b[0m \u001b[0;32mdef\u001b[0m \u001b[0mIoU_F1\u001b[0m\u001b[0;34m(\u001b[0m\u001b[0mt\u001b[0m\u001b[0;34m,\u001b[0m\u001b[0mh\u001b[0m\u001b[0;34m)\u001b[0m\u001b[0;34m:\u001b[0m\u001b[0;34m\u001b[0m\u001b[0;34m\u001b[0m\u001b[0m\n\u001b[0;32m--> 196\u001b[0;31m     \u001b[0mP\u001b[0m\u001b[0;34m,\u001b[0m\u001b[0mR\u001b[0m\u001b[0;34m=\u001b[0m \u001b[0mIoU_P\u001b[0m\u001b[0;34m(\u001b[0m\u001b[0mt\u001b[0m\u001b[0;34m,\u001b[0m\u001b[0mh\u001b[0m\u001b[0;34m)\u001b[0m\u001b[0;34m,\u001b[0m\u001b[0mIoU_R\u001b[0m\u001b[0;34m(\u001b[0m\u001b[0mt\u001b[0m\u001b[0;34m,\u001b[0m\u001b[0mh\u001b[0m\u001b[0;34m)\u001b[0m\u001b[0;34m\u001b[0m\u001b[0;34m\u001b[0m\u001b[0m\n\u001b[0m\u001b[1;32m    197\u001b[0m     \u001b[0;31m#todo, add the direct definition using FPs and FNs as well.\u001b[0m\u001b[0;34m\u001b[0m\u001b[0;34m\u001b[0m\u001b[0;34m\u001b[0m\u001b[0m\n\u001b[1;32m    198\u001b[0m     \u001b[0;31m# and test they are indeed equal\u001b[0m\u001b[0;34m\u001b[0m\u001b[0;34m\u001b[0m\u001b[0;34m\u001b[0m\u001b[0m\n",
            "\u001b[0;32m/content/metricutils.py\u001b[0m in \u001b[0;36mIoU_P\u001b[0;34m(t, h)\u001b[0m\n\u001b[1;32m    186\u001b[0m \u001b[0;34m\u001b[0m\u001b[0m\n\u001b[1;32m    187\u001b[0m \u001b[0;32mdef\u001b[0m \u001b[0mIoU_P\u001b[0m\u001b[0;34m(\u001b[0m\u001b[0mt\u001b[0m\u001b[0;34m,\u001b[0m\u001b[0mh\u001b[0m\u001b[0;34m)\u001b[0m\u001b[0;34m:\u001b[0m\u001b[0;34m\u001b[0m\u001b[0;34m\u001b[0m\u001b[0m\n\u001b[0;32m--> 188\u001b[0;31m     \u001b[0;32mreturn\u001b[0m \u001b[0mIoU_TruePositives\u001b[0m\u001b[0;34m(\u001b[0m\u001b[0mt\u001b[0m\u001b[0;34m,\u001b[0m\u001b[0mh\u001b[0m\u001b[0;34m)\u001b[0m\u001b[0;34m/\u001b[0m\u001b[0mlen\u001b[0m\u001b[0;34m(\u001b[0m\u001b[0mh\u001b[0m\u001b[0;34m)\u001b[0m\u001b[0;34m\u001b[0m\u001b[0;34m\u001b[0m\u001b[0m\n\u001b[0m\u001b[1;32m    189\u001b[0m \u001b[0;34m\u001b[0m\u001b[0m\n\u001b[1;32m    190\u001b[0m \u001b[0;34m\u001b[0m\u001b[0m\n",
            "\u001b[0;32m/content/metricutils.py\u001b[0m in \u001b[0;36mIoU_TruePositives\u001b[0;34m(t, h)\u001b[0m\n\u001b[1;32m    182\u001b[0m         \u001b[0;32mreturn\u001b[0m \u001b[0;34m[\u001b[0m\u001b[0mT\u001b[0m \u001b[0;32mfor\u001b[0m \u001b[0mT\u001b[0m \u001b[0;32min\u001b[0m \u001b[0mCandidates\u001b[0m \u001b[0;32mif\u001b[0m \u001b[0mIoU\u001b[0m\u001b[0;34m(\u001b[0m\u001b[0mS\u001b[0m\u001b[0;34m,\u001b[0m\u001b[0mT\u001b[0m\u001b[0;34m)\u001b[0m \u001b[0;34m>\u001b[0m\u001b[0;36m.5\u001b[0m\u001b[0;34m]\u001b[0m\u001b[0;34m\u001b[0m\u001b[0;34m\u001b[0m\u001b[0m\n\u001b[1;32m    183\u001b[0m     \u001b[0mt\u001b[0m\u001b[0;34m,\u001b[0m\u001b[0mh\u001b[0m\u001b[0;34m=\u001b[0m \u001b[0mget_docs\u001b[0m\u001b[0;34m(\u001b[0m\u001b[0mt\u001b[0m\u001b[0;34m)\u001b[0m\u001b[0;34m,\u001b[0m \u001b[0mget_docs\u001b[0m\u001b[0;34m(\u001b[0m\u001b[0mh\u001b[0m\u001b[0;34m)\u001b[0m \u001b[0;31m# switch to set of docs representation\u001b[0m\u001b[0;34m\u001b[0m\u001b[0;34m\u001b[0m\u001b[0m\n\u001b[0;32m--> 184\u001b[0;31m     \u001b[0;32mreturn\u001b[0m \u001b[0msum\u001b[0m\u001b[0;34m(\u001b[0m\u001b[0mIoU\u001b[0m\u001b[0;34m(\u001b[0m\u001b[0mS\u001b[0m\u001b[0;34m,\u001b[0m\u001b[0mfind_match\u001b[0m\u001b[0;34m(\u001b[0m\u001b[0mS\u001b[0m\u001b[0;34m,\u001b[0m\u001b[0mt\u001b[0m\u001b[0;34m)\u001b[0m\u001b[0;34m[\u001b[0m\u001b[0;36m0\u001b[0m\u001b[0;34m]\u001b[0m\u001b[0;34m)\u001b[0m \u001b[0;32mfor\u001b[0m \u001b[0mS\u001b[0m \u001b[0;32min\u001b[0m \u001b[0mh\u001b[0m \u001b[0;32mif\u001b[0m \u001b[0mfind_match\u001b[0m\u001b[0;34m(\u001b[0m\u001b[0mS\u001b[0m\u001b[0;34m,\u001b[0m\u001b[0mt\u001b[0m\u001b[0;34m)\u001b[0m\u001b[0;34m)\u001b[0m\u001b[0;34m\u001b[0m\u001b[0;34m\u001b[0m\u001b[0m\n\u001b[0m\u001b[1;32m    185\u001b[0m \u001b[0;34m\u001b[0m\u001b[0m\n\u001b[1;32m    186\u001b[0m \u001b[0;34m\u001b[0m\u001b[0m\n",
            "\u001b[0;32m/content/metricutils.py\u001b[0m in \u001b[0;36m<genexpr>\u001b[0;34m(.0)\u001b[0m\n\u001b[1;32m    182\u001b[0m         \u001b[0;32mreturn\u001b[0m \u001b[0;34m[\u001b[0m\u001b[0mT\u001b[0m \u001b[0;32mfor\u001b[0m \u001b[0mT\u001b[0m \u001b[0;32min\u001b[0m \u001b[0mCandidates\u001b[0m \u001b[0;32mif\u001b[0m \u001b[0mIoU\u001b[0m\u001b[0;34m(\u001b[0m\u001b[0mS\u001b[0m\u001b[0;34m,\u001b[0m\u001b[0mT\u001b[0m\u001b[0;34m)\u001b[0m \u001b[0;34m>\u001b[0m\u001b[0;36m.5\u001b[0m\u001b[0;34m]\u001b[0m\u001b[0;34m\u001b[0m\u001b[0;34m\u001b[0m\u001b[0m\n\u001b[1;32m    183\u001b[0m     \u001b[0mt\u001b[0m\u001b[0;34m,\u001b[0m\u001b[0mh\u001b[0m\u001b[0;34m=\u001b[0m \u001b[0mget_docs\u001b[0m\u001b[0;34m(\u001b[0m\u001b[0mt\u001b[0m\u001b[0;34m)\u001b[0m\u001b[0;34m,\u001b[0m \u001b[0mget_docs\u001b[0m\u001b[0;34m(\u001b[0m\u001b[0mh\u001b[0m\u001b[0;34m)\u001b[0m \u001b[0;31m# switch to set of docs representation\u001b[0m\u001b[0;34m\u001b[0m\u001b[0;34m\u001b[0m\u001b[0m\n\u001b[0;32m--> 184\u001b[0;31m     \u001b[0;32mreturn\u001b[0m \u001b[0msum\u001b[0m\u001b[0;34m(\u001b[0m\u001b[0mIoU\u001b[0m\u001b[0;34m(\u001b[0m\u001b[0mS\u001b[0m\u001b[0;34m,\u001b[0m\u001b[0mfind_match\u001b[0m\u001b[0;34m(\u001b[0m\u001b[0mS\u001b[0m\u001b[0;34m,\u001b[0m\u001b[0mt\u001b[0m\u001b[0;34m)\u001b[0m\u001b[0;34m[\u001b[0m\u001b[0;36m0\u001b[0m\u001b[0;34m]\u001b[0m\u001b[0;34m)\u001b[0m \u001b[0;32mfor\u001b[0m \u001b[0mS\u001b[0m \u001b[0;32min\u001b[0m \u001b[0mh\u001b[0m \u001b[0;32mif\u001b[0m \u001b[0mfind_match\u001b[0m\u001b[0;34m(\u001b[0m\u001b[0mS\u001b[0m\u001b[0;34m,\u001b[0m\u001b[0mt\u001b[0m\u001b[0;34m)\u001b[0m\u001b[0;34m)\u001b[0m\u001b[0;34m\u001b[0m\u001b[0;34m\u001b[0m\u001b[0m\n\u001b[0m\u001b[1;32m    185\u001b[0m \u001b[0;34m\u001b[0m\u001b[0m\n\u001b[1;32m    186\u001b[0m \u001b[0;34m\u001b[0m\u001b[0m\n",
            "\u001b[0;32m/content/metricutils.py\u001b[0m in \u001b[0;36mfind_match\u001b[0;34m(S, Candidates)\u001b[0m\n\u001b[1;32m    180\u001b[0m     \u001b[0;32mdef\u001b[0m \u001b[0mfind_match\u001b[0m\u001b[0;34m(\u001b[0m\u001b[0mS\u001b[0m\u001b[0;34m,\u001b[0m\u001b[0mCandidates\u001b[0m\u001b[0;34m)\u001b[0m\u001b[0;34m:\u001b[0m\u001b[0;34m\u001b[0m\u001b[0;34m\u001b[0m\u001b[0m\n\u001b[1;32m    181\u001b[0m         \u001b[0;34m'''Finds, if it exists,  the unique T in Candidates such that IoU(S,T) >.5'''\u001b[0m\u001b[0;34m\u001b[0m\u001b[0;34m\u001b[0m\u001b[0m\n\u001b[0;32m--> 182\u001b[0;31m         \u001b[0;32mreturn\u001b[0m \u001b[0;34m[\u001b[0m\u001b[0mT\u001b[0m \u001b[0;32mfor\u001b[0m \u001b[0mT\u001b[0m \u001b[0;32min\u001b[0m \u001b[0mCandidates\u001b[0m \u001b[0;32mif\u001b[0m \u001b[0mIoU\u001b[0m\u001b[0;34m(\u001b[0m\u001b[0mS\u001b[0m\u001b[0;34m,\u001b[0m\u001b[0mT\u001b[0m\u001b[0;34m)\u001b[0m \u001b[0;34m>\u001b[0m\u001b[0;36m.5\u001b[0m\u001b[0;34m]\u001b[0m\u001b[0;34m\u001b[0m\u001b[0;34m\u001b[0m\u001b[0m\n\u001b[0m\u001b[1;32m    183\u001b[0m     \u001b[0mt\u001b[0m\u001b[0;34m,\u001b[0m\u001b[0mh\u001b[0m\u001b[0;34m=\u001b[0m \u001b[0mget_docs\u001b[0m\u001b[0;34m(\u001b[0m\u001b[0mt\u001b[0m\u001b[0;34m)\u001b[0m\u001b[0;34m,\u001b[0m \u001b[0mget_docs\u001b[0m\u001b[0;34m(\u001b[0m\u001b[0mh\u001b[0m\u001b[0;34m)\u001b[0m \u001b[0;31m# switch to set of docs representation\u001b[0m\u001b[0;34m\u001b[0m\u001b[0;34m\u001b[0m\u001b[0m\n\u001b[1;32m    184\u001b[0m     \u001b[0;32mreturn\u001b[0m \u001b[0msum\u001b[0m\u001b[0;34m(\u001b[0m\u001b[0mIoU\u001b[0m\u001b[0;34m(\u001b[0m\u001b[0mS\u001b[0m\u001b[0;34m,\u001b[0m\u001b[0mfind_match\u001b[0m\u001b[0;34m(\u001b[0m\u001b[0mS\u001b[0m\u001b[0;34m,\u001b[0m\u001b[0mt\u001b[0m\u001b[0;34m)\u001b[0m\u001b[0;34m[\u001b[0m\u001b[0;36m0\u001b[0m\u001b[0;34m]\u001b[0m\u001b[0;34m)\u001b[0m \u001b[0;32mfor\u001b[0m \u001b[0mS\u001b[0m \u001b[0;32min\u001b[0m \u001b[0mh\u001b[0m \u001b[0;32mif\u001b[0m \u001b[0mfind_match\u001b[0m\u001b[0;34m(\u001b[0m\u001b[0mS\u001b[0m\u001b[0;34m,\u001b[0m\u001b[0mt\u001b[0m\u001b[0;34m)\u001b[0m\u001b[0;34m)\u001b[0m\u001b[0;34m\u001b[0m\u001b[0;34m\u001b[0m\u001b[0m\n",
            "\u001b[0;32m/content/metricutils.py\u001b[0m in \u001b[0;36m<listcomp>\u001b[0;34m(.0)\u001b[0m\n\u001b[1;32m    180\u001b[0m     \u001b[0;32mdef\u001b[0m \u001b[0mfind_match\u001b[0m\u001b[0;34m(\u001b[0m\u001b[0mS\u001b[0m\u001b[0;34m,\u001b[0m\u001b[0mCandidates\u001b[0m\u001b[0;34m)\u001b[0m\u001b[0;34m:\u001b[0m\u001b[0;34m\u001b[0m\u001b[0;34m\u001b[0m\u001b[0m\n\u001b[1;32m    181\u001b[0m         \u001b[0;34m'''Finds, if it exists,  the unique T in Candidates such that IoU(S,T) >.5'''\u001b[0m\u001b[0;34m\u001b[0m\u001b[0;34m\u001b[0m\u001b[0m\n\u001b[0;32m--> 182\u001b[0;31m         \u001b[0;32mreturn\u001b[0m \u001b[0;34m[\u001b[0m\u001b[0mT\u001b[0m \u001b[0;32mfor\u001b[0m \u001b[0mT\u001b[0m \u001b[0;32min\u001b[0m \u001b[0mCandidates\u001b[0m \u001b[0;32mif\u001b[0m \u001b[0mIoU\u001b[0m\u001b[0;34m(\u001b[0m\u001b[0mS\u001b[0m\u001b[0;34m,\u001b[0m\u001b[0mT\u001b[0m\u001b[0;34m)\u001b[0m \u001b[0;34m>\u001b[0m\u001b[0;36m.5\u001b[0m\u001b[0;34m]\u001b[0m\u001b[0;34m\u001b[0m\u001b[0;34m\u001b[0m\u001b[0m\n\u001b[0m\u001b[1;32m    183\u001b[0m     \u001b[0mt\u001b[0m\u001b[0;34m,\u001b[0m\u001b[0mh\u001b[0m\u001b[0;34m=\u001b[0m \u001b[0mget_docs\u001b[0m\u001b[0;34m(\u001b[0m\u001b[0mt\u001b[0m\u001b[0;34m)\u001b[0m\u001b[0;34m,\u001b[0m \u001b[0mget_docs\u001b[0m\u001b[0;34m(\u001b[0m\u001b[0mh\u001b[0m\u001b[0;34m)\u001b[0m \u001b[0;31m# switch to set of docs representation\u001b[0m\u001b[0;34m\u001b[0m\u001b[0;34m\u001b[0m\u001b[0m\n\u001b[1;32m    184\u001b[0m     \u001b[0;32mreturn\u001b[0m \u001b[0msum\u001b[0m\u001b[0;34m(\u001b[0m\u001b[0mIoU\u001b[0m\u001b[0;34m(\u001b[0m\u001b[0mS\u001b[0m\u001b[0;34m,\u001b[0m\u001b[0mfind_match\u001b[0m\u001b[0;34m(\u001b[0m\u001b[0mS\u001b[0m\u001b[0;34m,\u001b[0m\u001b[0mt\u001b[0m\u001b[0;34m)\u001b[0m\u001b[0;34m[\u001b[0m\u001b[0;36m0\u001b[0m\u001b[0;34m]\u001b[0m\u001b[0;34m)\u001b[0m \u001b[0;32mfor\u001b[0m \u001b[0mS\u001b[0m \u001b[0;32min\u001b[0m \u001b[0mh\u001b[0m \u001b[0;32mif\u001b[0m \u001b[0mfind_match\u001b[0m\u001b[0;34m(\u001b[0m\u001b[0mS\u001b[0m\u001b[0;34m,\u001b[0m\u001b[0mt\u001b[0m\u001b[0;34m)\u001b[0m\u001b[0;34m)\u001b[0m\u001b[0;34m\u001b[0m\u001b[0;34m\u001b[0m\u001b[0m\n",
            "\u001b[0;32m/content/metricutils.py\u001b[0m in \u001b[0;36mIoU\u001b[0;34m(S, T)\u001b[0m\n\u001b[1;32m    174\u001b[0m     \u001b[0;32mdef\u001b[0m \u001b[0mIoU\u001b[0m\u001b[0;34m(\u001b[0m\u001b[0mS\u001b[0m\u001b[0;34m,\u001b[0m\u001b[0mT\u001b[0m\u001b[0;34m)\u001b[0m\u001b[0;34m:\u001b[0m\u001b[0;34m\u001b[0m\u001b[0;34m\u001b[0m\u001b[0m\n\u001b[1;32m    175\u001b[0m         \u001b[0;34m'''Jaccard similarity between sets S and T'''\u001b[0m\u001b[0;34m\u001b[0m\u001b[0;34m\u001b[0m\u001b[0m\n\u001b[0;32m--> 176\u001b[0;31m         \u001b[0;32mreturn\u001b[0m \u001b[0mlen\u001b[0m\u001b[0;34m(\u001b[0m\u001b[0mS\u001b[0m\u001b[0;34m&\u001b[0m\u001b[0mT\u001b[0m\u001b[0;34m)\u001b[0m\u001b[0;34m/\u001b[0m\u001b[0mlen\u001b[0m\u001b[0;34m(\u001b[0m\u001b[0mS\u001b[0m\u001b[0;34m|\u001b[0m\u001b[0mT\u001b[0m\u001b[0;34m)\u001b[0m\u001b[0;34m\u001b[0m\u001b[0;34m\u001b[0m\u001b[0m\n\u001b[0m\u001b[1;32m    177\u001b[0m     \u001b[0;32mdef\u001b[0m \u001b[0mget_docs\u001b[0m\u001b[0;34m(\u001b[0m\u001b[0mt\u001b[0m\u001b[0;34m)\u001b[0m\u001b[0;34m:\u001b[0m\u001b[0;34m\u001b[0m\u001b[0;34m\u001b[0m\u001b[0m\n\u001b[1;32m    178\u001b[0m         \u001b[0;34m'''Get the set of documents (where each document is a set of pagenumbers)'''\u001b[0m\u001b[0;34m\u001b[0m\u001b[0;34m\u001b[0m\u001b[0m\n",
            "\u001b[0;31mKeyboardInterrupt\u001b[0m: "
          ]
        }
      ]
    },
    {
      "cell_type": "markdown",
      "source": [
        "# Looking into vector scales"
      ],
      "metadata": {
        "id": "6V-vx1khvwrE"
      }
    },
    {
      "cell_type": "code",
      "source": [
        "vector_path_im = '/content/gdrive/MyDrive/master_thesis/new_corpus/image_vectors'\n",
        "vector_path_text = '/content/gdrive/MyDrive/master_thesis/new_corpus/text_vectors_finetuned'\n",
        "im_sums = []\n",
        "text_sums = []\n",
        "for doc_id, content in tqdm(test_data.groupby('name')):\n",
        "  repl_doc_id = doc_id.replace('__concatenated','')\n",
        "  corpus = content['corpus'].iloc[0]\n",
        "\n",
        "  #text_vectors, labels = get_vectors_for_stream(used_corpus,doc_id,vector_dict_used,text_vectors_used)\n",
        "  if not os.path.exists(os.path.join(vector_path_text,repl_doc_id + '.npy')):\n",
        "    continue\n",
        "  text_vectors = np.load(os.path.join(vector_path_text,repl_doc_id + '.npy'))\n",
        "  labels = gold_std_dict[repl_doc_id]\n",
        "\n",
        "  if not os.path.exists(os.path.join(vector_path_im,repl_doc_id + '.npy')):\n",
        "    continue\n",
        "  image_vectors = np.load(os.path.join(vector_path_im,repl_doc_id + '.npy'))\n",
        "\n",
        "  im_sum = np.sum(abs(image_vectors)) / (image_vectors.shape[0] * image_vectors.shape[1])\n",
        "  text_sum = np.sum(abs(text_vectors)) / (text_vectors.shape[0] * text_vectors.shape[1])\n",
        "\n",
        "  im_sums.append(im_sum)\n",
        "  text_sums.append(text_sum)\n"
      ],
      "metadata": {
        "colab": {
          "base_uri": "https://localhost:8080/"
        },
        "id": "m8schITRvItc",
        "outputId": "4f5e3a0a-cb4c-4e6a-e664-851d37fda2a6"
      },
      "execution_count": null,
      "outputs": [
        {
          "output_type": "stream",
          "name": "stderr",
          "text": [
            "100%|██████████| 34/34 [00:00<00:00, 76.40it/s]\n"
          ]
        }
      ]
    },
    {
      "cell_type": "code",
      "source": [
        "np.mean(im_sums)"
      ],
      "metadata": {
        "colab": {
          "base_uri": "https://localhost:8080/"
        },
        "id": "mQXGjO34vRxQ",
        "outputId": "0de1d854-5971-406c-bf99-512c226bf45e"
      },
      "execution_count": null,
      "outputs": [
        {
          "output_type": "execute_result",
          "data": {
            "text/plain": [
              "1.0487018754635196"
            ]
          },
          "metadata": {},
          "execution_count": 72
        }
      ]
    },
    {
      "cell_type": "code",
      "source": [
        "np.mean(text_sums)"
      ],
      "metadata": {
        "colab": {
          "base_uri": "https://localhost:8080/"
        },
        "id": "ot4juszmvTXm",
        "outputId": "da736a51-3704-44a5-fb10-f00c1a23ea31"
      },
      "execution_count": null,
      "outputs": [
        {
          "output_type": "execute_result",
          "data": {
            "text/plain": [
              "1.3487607673982636"
            ]
          },
          "metadata": {},
          "execution_count": 73
        }
      ]
    },
    {
      "cell_type": "markdown",
      "source": [
        "Pretrained"
      ],
      "metadata": {
        "id": "sGuXfw7cvsXz"
      }
    },
    {
      "cell_type": "code",
      "source": [
        "import pickle\n",
        "vector_path_im = '/content/gdrive/MyDrive/master_thesis/new_corpus/VGG_vectors'\n",
        "vector_path_text = '/content/gdrive/MyDrive/master_thesis/new_corpus/text_vectors'\n",
        "im_sums = []\n",
        "text_sums = []\n",
        "for doc_id, content in tqdm(test_data.groupby('name')):\n",
        "  repl_doc_id = doc_id.replace('__concatenated','')\n",
        "  corpus = content['corpus'].iloc[0]\n",
        "\n",
        "  #text_vectors, labels = get_vectors_for_stream(used_corpus,doc_id,vector_dict_used,text_vectors_used)\n",
        "  if not os.path.exists(os.path.join(vector_path_text,repl_doc_id + '.pickle')):\n",
        "    continue\n",
        "\n",
        "  with open(os.path.join(vector_path_text,repl_doc_id + '.pickle'), 'rb') as f:\n",
        "    text_vectors = pickle.load(f)\n",
        "    f.close()\n",
        "  labels = gold_std_dict[repl_doc_id]\n",
        "\n",
        "  if not os.path.exists(os.path.join(vector_path_im,repl_doc_id + '.npy')):\n",
        "    continue\n",
        "  image_vectors = np.load(os.path.join(vector_path_im,repl_doc_id + '.npy'))\n",
        "\n",
        "  im_sum = np.sum(abs(image_vectors)) / (image_vectors.shape[0] * image_vectors.shape[1])\n",
        "  text_sum = np.sum(abs(text_vectors)) / (text_vectors.shape[0] * text_vectors.shape[1])\n",
        "\n",
        "  im_sums.append(im_sum)\n",
        "  text_sums.append(text_sum)\n"
      ],
      "metadata": {
        "colab": {
          "base_uri": "https://localhost:8080/"
        },
        "outputId": "9b65970a-0db5-42c3-cec9-c5d5a86c8bb2",
        "id": "Y0s3T4scvpYr"
      },
      "execution_count": null,
      "outputs": [
        {
          "output_type": "stream",
          "name": "stderr",
          "text": [
            "100%|██████████| 34/34 [00:34<00:00,  1.03s/it]\n"
          ]
        }
      ]
    },
    {
      "cell_type": "code",
      "source": [
        "np.mean(im_sums)"
      ],
      "metadata": {
        "colab": {
          "base_uri": "https://localhost:8080/"
        },
        "outputId": "ddb32844-d9c1-4e7c-8e38-e82c7168bea7",
        "id": "iRk_B-H1vpYu"
      },
      "execution_count": null,
      "outputs": [
        {
          "output_type": "execute_result",
          "data": {
            "text/plain": [
              "0.4009285557109275"
            ]
          },
          "metadata": {},
          "execution_count": 76
        }
      ]
    },
    {
      "cell_type": "code",
      "source": [
        "np.mean(text_sums)"
      ],
      "metadata": {
        "colab": {
          "base_uri": "https://localhost:8080/"
        },
        "outputId": "d0c24c18-7587-498c-a06b-4b5189dbd82c",
        "id": "XyrTfmxQvpYv"
      },
      "execution_count": null,
      "outputs": [
        {
          "output_type": "execute_result",
          "data": {
            "text/plain": [
              "0.028608676416994133"
            ]
          },
          "metadata": {},
          "execution_count": 77
        }
      ]
    }
  ]
}